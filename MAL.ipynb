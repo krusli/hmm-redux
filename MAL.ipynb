{
 "cells": [
  {
   "cell_type": "code",
   "execution_count": 1,
   "metadata": {
    "collapsed": true
   },
   "outputs": [],
   "source": [
    "import pandas as pd\n",
    "import numpy as np\n",
    "import matplotlib.pyplot as plt\n",
    "from tqdm import tqdm\n",
    "\n",
    "from hmm import HMM"
   ]
  },
  {
   "cell_type": "code",
   "execution_count": 2,
   "metadata": {
    "collapsed": true
   },
   "outputs": [],
   "source": [
    "anime = pd.read_csv('anime.csv')\n",
    "rating = pd.read_csv('rating.csv')"
   ]
  },
  {
   "cell_type": "code",
   "execution_count": 3,
   "metadata": {
    "collapsed": true
   },
   "outputs": [],
   "source": [
    "anime = anime.sort_values(by='anime_id')\n",
    "anime = anime[anime['members'] > 10000]"
   ]
  },
  {
   "cell_type": "code",
   "execution_count": 4,
   "metadata": {
    "collapsed": true
   },
   "outputs": [],
   "source": [
    "# only consider slice of life anime\n",
    "anime = anime[anime['genre'].str.contains('Slice of Life') == True]"
   ]
  },
  {
   "cell_type": "code",
   "execution_count": 5,
   "metadata": {
    "collapsed": true
   },
   "outputs": [],
   "source": [
    "# aggregrate people's votes -> counts of which users voted more\n",
    "counts = rating.groupby(by='user_id').agg('count')\n",
    "counts = counts.rename(index=str, columns={'anime_id': 'counts'})\n",
    "del counts['rating']\n",
    "counts = counts.reset_index()"
   ]
  },
  {
   "cell_type": "code",
   "execution_count": 6,
   "metadata": {},
   "outputs": [],
   "source": [
    "# only consider anime rated >= 7\n",
    "rating = rating[rating['rating'] >= 7]\n",
    "\n",
    "# people who rated more than n anime\n",
    "top_counts = counts[(counts['counts'] >= 80)]  # ~20k users"
   ]
  },
  {
   "cell_type": "code",
   "execution_count": 7,
   "metadata": {
    "scrolled": true
   },
   "outputs": [
    {
     "data": {
      "text/html": [
       "<div>\n",
       "<style>\n",
       "    .dataframe thead tr:only-child th {\n",
       "        text-align: right;\n",
       "    }\n",
       "\n",
       "    .dataframe thead th {\n",
       "        text-align: left;\n",
       "    }\n",
       "\n",
       "    .dataframe tbody tr th {\n",
       "        vertical-align: top;\n",
       "    }\n",
       "</style>\n",
       "<table border=\"1\" class=\"dataframe\">\n",
       "  <thead>\n",
       "    <tr style=\"text-align: right;\">\n",
       "      <th></th>\n",
       "      <th>user_id</th>\n",
       "      <th>anime_id</th>\n",
       "      <th>rating</th>\n",
       "    </tr>\n",
       "  </thead>\n",
       "  <tbody>\n",
       "    <tr>\n",
       "      <th>47</th>\n",
       "      <td>1</td>\n",
       "      <td>8074</td>\n",
       "      <td>10</td>\n",
       "    </tr>\n",
       "    <tr>\n",
       "      <th>81</th>\n",
       "      <td>1</td>\n",
       "      <td>11617</td>\n",
       "      <td>10</td>\n",
       "    </tr>\n",
       "    <tr>\n",
       "      <th>83</th>\n",
       "      <td>1</td>\n",
       "      <td>11757</td>\n",
       "      <td>10</td>\n",
       "    </tr>\n",
       "    <tr>\n",
       "      <th>101</th>\n",
       "      <td>1</td>\n",
       "      <td>15451</td>\n",
       "      <td>10</td>\n",
       "    </tr>\n",
       "    <tr>\n",
       "      <th>156</th>\n",
       "      <td>3</td>\n",
       "      <td>20</td>\n",
       "      <td>8</td>\n",
       "    </tr>\n",
       "  </tbody>\n",
       "</table>\n",
       "</div>"
      ],
      "text/plain": [
       "     user_id  anime_id  rating\n",
       "47         1      8074      10\n",
       "81         1     11617      10\n",
       "83         1     11757      10\n",
       "101        1     15451      10\n",
       "156        3        20       8"
      ]
     },
     "execution_count": 7,
     "metadata": {},
     "output_type": "execute_result"
    }
   ],
   "source": [
    "# filter only ratings from people who satisfy the above criteria\n",
    "rating_ = rating[rating['user_id'].isin(top_counts['user_id'])]  # filtered rating database - include top users only\n",
    "rating_.head()"
   ]
  },
  {
   "cell_type": "code",
   "execution_count": 8,
   "metadata": {},
   "outputs": [],
   "source": [
    "len(rating_['anime_id'])  # 2653526\n",
    "\n",
    "TIME_STEP = 5000  # anime_ids between time steps. min = 17; max = 34525.\n",
    "\n",
    "# need to group by anime_id\n",
    "rating_ = rating_.assign(time=rating_['anime_id']/TIME_STEP)\n",
    "rating_['time'] = rating_['time'].apply(lambda x: int(x))"
   ]
  },
  {
   "cell_type": "code",
   "execution_count": 9,
   "metadata": {},
   "outputs": [
    {
     "name": "stderr",
     "output_type": "stream",
     "text": [
      "100%|██████████| 200/200 [00:01<00:00, 116.52it/s]\n"
     ]
    }
   ],
   "source": [
    "# filtered rating database - include only non-filtered anime\n",
    "rating_ = rating_[rating_['anime_id'].isin(anime['anime_id'])]\n",
    "\n",
    "# randomly sample 1000 users\n",
    "user_ids = rating_['user_id'].unique()\n",
    "user_ids = np.random.choice(user_ids, 200, replace=False)\n",
    "animes = anime['anime_id'].unique()\n",
    "anime_id_to_index = {}\n",
    "for i in range(len(animes)):\n",
    "    anime = animes[i]\n",
    "    anime_id_to_index[anime] = i\n",
    "    \n",
    "# build an \"observation sequence\"\n",
    "max_time = rating_['time'].max()\n",
    "observation_seqs = np.zeros(shape=(len(user_ids), max_time), dtype=object)\n",
    "for u in range(len(user_ids)):\n",
    "    for t in range(max_time):  \n",
    "        observation_seqs[u][t] = []\n",
    "for u in tqdm(range(len(user_ids))):\n",
    "    rating_per_user = rating_[rating_['user_id'] == user_ids[u]]\n",
    "    for t in range(max_time):\n",
    "        observation_seqs[u][t] = \\\n",
    "            rating_per_user[rating_per_user['time'] == t]['anime_id'].map(anime_id_to_index).tolist()\n",
    "        if len(observation_seqs[u][t]) == 0:\n",
    "             # fill in blanks with random anime -> TODO according to NBD\n",
    "            observation_seqs[u][t] = [anime_id_to_index[np.random.choice(animes)]] "
   ]
  },
  {
   "cell_type": "code",
   "execution_count": 10,
   "metadata": {
    "collapsed": true
   },
   "outputs": [],
   "source": [
    "# hold-out time t anime\n",
    "time_t_anime = []\n",
    "for u in range(len(observation_seqs)):\n",
    "    time_t_anime.append(observation_seqs[u][-1])"
   ]
  },
  {
   "cell_type": "code",
   "execution_count": 11,
   "metadata": {
    "collapsed": true
   },
   "outputs": [],
   "source": [
    "observation_seqs = np.resize(observation_seqs, (len(user_ids), max_time-1))"
   ]
  },
  {
   "cell_type": "code",
   "execution_count": 12,
   "metadata": {},
   "outputs": [
    {
     "data": {
      "text/plain": [
       "4.634999999999999"
      ]
     },
     "execution_count": 12,
     "metadata": {},
     "output_type": "execute_result"
    }
   ],
   "source": [
    "# average anime watched per time-step\n",
    "total = 0\n",
    "for seq in observation_seqs:\n",
    "    total += sum([len(x) for x in seq])/len(seq)\n",
    "total /= len(observation_seqs)\n",
    "total"
   ]
  },
  {
   "cell_type": "code",
   "execution_count": 13,
   "metadata": {
    "scrolled": false
   },
   "outputs": [
    {
     "name": "stderr",
     "output_type": "stream",
     "text": [
      "  5%|▌         | 1/20 [00:03<01:15,  3.96s/it]"
     ]
    },
    {
     "name": "stdout",
     "output_type": "stream",
     "text": [
      "132.002911746 68.6619166658\n",
      "0.0367978081533 0.0131067707743\n",
      "6.87767157709 1.90277790811\n",
      "1.70039742385e-07 4.32709107634e-08\n",
      "562.02186765 267.301742639\n",
      "23.8853533974 7.27324350564\n",
      "2209.49461367 2453.54575799\n",
      "318.028147995 160.923692443\n",
      "3.9630731154e-07 1.13815940797e-07\n",
      "1.00980116937 0.308452816164\n",
      "7.64881206685e-06 2.14101316584e-06\n",
      "0.0147235389331 0.00416962488947\n",
      "0.00787210845089 0.00245191122866\n",
      "97.3787906173 36.0417944044\n",
      "1038.43759267 627.317523738\n"
     ]
    },
    {
     "name": "stderr",
     "output_type": "stream",
     "text": [
      "\r",
      " 10%|█         | 2/20 [00:07<01:07,  3.76s/it]"
     ]
    },
    {
     "name": "stdout",
     "output_type": "stream",
     "text": [
      "87.629065382 49.6243967614\n",
      "2.48600097859 1.4359753271\n",
      "27.4857723208 8.61542539698\n",
      "6.52800398038e-19 1.61898625112e-19\n",
      "641.96170123 340.931026342\n",
      "22.010119519 7.26682330052\n",
      "1204.22225622 1714.62973337\n",
      "47.7778708409 28.2873662906\n",
      "2.1879619985 0.62304368694\n",
      "15.1911756571 5.20952709003\n",
      "2.87529478278 0.822825813373\n",
      "1.27032285067e-08 3.30436653187e-09\n",
      "2.75063254546 0.792563739253\n",
      "7.96950574635 3.39660436588\n",
      "405.557412775 385.281885317\n"
     ]
    },
    {
     "name": "stderr",
     "output_type": "stream",
     "text": [
      "\r",
      " 15%|█▌        | 3/20 [00:11<01:04,  3.79s/it]"
     ]
    },
    {
     "name": "stdout",
     "output_type": "stream",
     "text": [
      "35.6108199665 32.6543128043\n",
      "36.4471403329 27.8169947319\n",
      "241.244610311 87.0641530338\n",
      "1.13867860675e-06 2.82359284297e-07\n",
      "82.7461830747 61.8627552096\n",
      "23.1882707625 8.11490115874\n",
      "745.646148318 1155.12229398\n",
      "48.4074539618 33.0800912739\n",
      "1.60185228545e-09 4.38684485531e-10\n",
      "15.3391855947 5.71065900267\n",
      "1.04906415394e-08 2.88257144273e-09\n",
      "2.78721127529e-09 6.85574720477e-10\n",
      "3.62821417034e-09 1.00459425154e-09\n",
      "13.4060435234 6.67865462797\n",
      "382.915830678 447.938432215\n"
     ]
    },
    {
     "name": "stderr",
     "output_type": "stream",
     "text": [
      "\r",
      " 20%|██        | 4/20 [00:15<01:01,  3.87s/it]"
     ]
    },
    {
     "name": "stdout",
     "output_type": "stream",
     "text": [
      "37.5979633303 50.576222277\n",
      "27.9562080458 48.3224882043\n",
      "377.83904256 142.795990683\n",
      "0.101233689959 0.0252878125754\n",
      "114.459993707 170.516057424\n",
      "22.7793730794 8.00069999606\n",
      "512.931608312 830.749745935\n",
      "42.7454869315 32.7270308536\n",
      "1.17480315669 0.308927540668\n",
      "16.4918783186 6.73263865009\n",
      "1.23863786409 0.326513936414\n",
      "0.0350949188584 0.00870189819884\n",
      "1.22454529742 0.32318314394\n",
      "17.5881110368 10.7395643597\n",
      "456.229233919 598.411996415\n"
     ]
    },
    {
     "name": "stderr",
     "output_type": "stream",
     "text": [
      "\r",
      " 25%|██▌       | 5/20 [00:19<00:58,  3.87s/it]"
     ]
    },
    {
     "name": "stdout",
     "output_type": "stream",
     "text": [
      "33.8810888315 64.2949612983\n",
      "57.7750357461 89.763028113\n",
      "79.5193337455 29.575573316\n",
      "1.58578078286e-05 3.927428574e-06\n",
      "138.402007176 273.066469144\n",
      "29.7024966 10.5943814222\n",
      "427.621784494 702.614566845\n",
      "51.9658039297 43.9907554897\n",
      "5.5942336609 1.41814795002\n",
      "22.4551247682 11.8103828585\n",
      "12.2430973514 3.10898927271\n",
      "9.01731258566e-09 2.22237531796e-09\n",
      "6.95634805523 1.76690449641\n",
      "24.3139841596 20.0245338502\n",
      "361.024480279 509.502968733\n"
     ]
    },
    {
     "name": "stderr",
     "output_type": "stream",
     "text": [
      "Process ForkPoolWorker-4:\n",
      "Traceback (most recent call last):\n",
      "Process ForkPoolWorker-8:\n",
      "Process ForkPoolWorker-3:\n",
      "Process ForkPoolWorker-5:\n",
      "Process ForkPoolWorker-6:\n",
      "  File \"/anaconda3/lib/python3.6/multiprocessing/process.py\", line 258, in _bootstrap\n",
      "    self.run()\n",
      "Traceback (most recent call last):\n",
      "  File \"/anaconda3/lib/python3.6/multiprocessing/process.py\", line 93, in run\n",
      "    self._target(*self._args, **self._kwargs)\n",
      "Process ForkPoolWorker-1:\n",
      "  File \"/anaconda3/lib/python3.6/multiprocessing/process.py\", line 258, in _bootstrap\n",
      "    self.run()\n",
      "  File \"/anaconda3/lib/python3.6/multiprocessing/process.py\", line 93, in run\n",
      "    self._target(*self._args, **self._kwargs)\n",
      "  File \"/anaconda3/lib/python3.6/multiprocessing/pool.py\", line 119, in worker\n",
      "    result = (True, func(*args, **kwds))\n",
      "  File \"/anaconda3/lib/python3.6/multiprocessing/pool.py\", line 119, in worker\n",
      "    result = (True, func(*args, **kwds))\n",
      "Traceback (most recent call last):\n",
      "Traceback (most recent call last):\n",
      "  File \"/anaconda3/lib/python3.6/multiprocessing/process.py\", line 258, in _bootstrap\n",
      "    self.run()\n",
      "Traceback (most recent call last):\n",
      "  File \"/anaconda3/lib/python3.6/multiprocessing/pool.py\", line 44, in mapstar\n",
      "    return list(map(*args))\n",
      "Traceback (most recent call last):\n",
      "  File \"/anaconda3/lib/python3.6/multiprocessing/process.py\", line 258, in _bootstrap\n",
      "    self.run()\n",
      "  File \"/anaconda3/lib/python3.6/multiprocessing/process.py\", line 93, in run\n",
      "    self._target(*self._args, **self._kwargs)\n",
      "Process ForkPoolWorker-2:\n",
      "Process ForkPoolWorker-7:\n",
      "  File \"/anaconda3/lib/python3.6/multiprocessing/pool.py\", line 44, in mapstar\n",
      "    return list(map(*args))\n",
      "  File \"/Users/kenneth/Desktop/hmm-redux/hmm.py\", line 182, in xi\n",
      "    emissions = np.array([HMM.emission_prob(theta, a, b, k, observation_seq[t+1]) for k in range(n_states)])\n",
      "  File \"/anaconda3/lib/python3.6/multiprocessing/process.py\", line 258, in _bootstrap\n",
      "    self.run()\n",
      "  File \"/Users/kenneth/Desktop/hmm-redux/hmm.py\", line 182, in <listcomp>\n",
      "    emissions = np.array([HMM.emission_prob(theta, a, b, k, observation_seq[t+1]) for k in range(n_states)])\n",
      "  File \"/anaconda3/lib/python3.6/multiprocessing/process.py\", line 258, in _bootstrap\n",
      "    self.run()\n",
      "  File \"/anaconda3/lib/python3.6/multiprocessing/pool.py\", line 119, in worker\n",
      "    result = (True, func(*args, **kwds))\n",
      "  File \"/anaconda3/lib/python3.6/multiprocessing/process.py\", line 93, in run\n",
      "    self._target(*self._args, **self._kwargs)\n",
      "  File \"/anaconda3/lib/python3.6/multiprocessing/pool.py\", line 44, in mapstar\n",
      "    return list(map(*args))\n",
      "  File \"/anaconda3/lib/python3.6/multiprocessing/process.py\", line 93, in run\n",
      "    self._target(*self._args, **self._kwargs)\n",
      "  File \"/anaconda3/lib/python3.6/multiprocessing/process.py\", line 93, in run\n",
      "    self._target(*self._args, **self._kwargs)\n",
      "  File \"/Users/kenneth/Desktop/hmm-redux/hmm.py\", line 182, in xi\n",
      "    emissions = np.array([HMM.emission_prob(theta, a, b, k, observation_seq[t+1]) for k in range(n_states)])\n",
      "  File \"/Users/kenneth/Desktop/hmm-redux/hmm.py\", line 66, in emission_prob\n",
      "    multinomial = stats.multinomial(n=x, p=p_i)\n",
      "  File \"/anaconda3/lib/python3.6/multiprocessing/pool.py\", line 119, in worker\n",
      "    result = (True, func(*args, **kwds))\n",
      "Traceback (most recent call last):\n",
      "  File \"/anaconda3/lib/python3.6/multiprocessing/pool.py\", line 119, in worker\n",
      "    result = (True, func(*args, **kwds))\n",
      "  File \"/anaconda3/lib/python3.6/multiprocessing/pool.py\", line 119, in worker\n",
      "    result = (True, func(*args, **kwds))\n",
      "  File \"/Users/kenneth/Desktop/hmm-redux/hmm.py\", line 182, in <listcomp>\n",
      "    emissions = np.array([HMM.emission_prob(theta, a, b, k, observation_seq[t+1]) for k in range(n_states)])\n",
      "  File \"/anaconda3/lib/python3.6/multiprocessing/process.py\", line 258, in _bootstrap\n",
      "    self.run()\n",
      "  File \"/Users/kenneth/Desktop/hmm-redux/hmm.py\", line 182, in xi\n",
      "    emissions = np.array([HMM.emission_prob(theta, a, b, k, observation_seq[t+1]) for k in range(n_states)])\n",
      "KeyboardInterrupt\n",
      "  File \"/anaconda3/lib/python3.6/multiprocessing/pool.py\", line 44, in mapstar\n",
      "    return list(map(*args))\n",
      "  File \"/anaconda3/lib/python3.6/multiprocessing/pool.py\", line 44, in mapstar\n",
      "    return list(map(*args))\n",
      "  File \"/anaconda3/lib/python3.6/multiprocessing/process.py\", line 93, in run\n",
      "    self._target(*self._args, **self._kwargs)\n",
      "  File \"/anaconda3/lib/python3.6/multiprocessing/pool.py\", line 44, in mapstar\n",
      "    return list(map(*args))\n",
      "  File \"/Users/kenneth/Desktop/hmm-redux/hmm.py\", line 66, in emission_prob\n",
      "    multinomial = stats.multinomial(n=x, p=p_i)\n",
      "  File \"/Users/kenneth/Desktop/hmm-redux/hmm.py\", line 182, in xi\n",
      "    emissions = np.array([HMM.emission_prob(theta, a, b, k, observation_seq[t+1]) for k in range(n_states)])\n",
      "  File \"/Users/kenneth/Desktop/hmm-redux/hmm.py\", line 182, in <listcomp>\n",
      "    emissions = np.array([HMM.emission_prob(theta, a, b, k, observation_seq[t+1]) for k in range(n_states)])\n",
      "  File \"/anaconda3/lib/python3.6/multiprocessing/pool.py\", line 119, in worker\n",
      "    result = (True, func(*args, **kwds))\n",
      "  File \"/Users/kenneth/Desktop/hmm-redux/hmm.py\", line 182, in xi\n",
      "    emissions = np.array([HMM.emission_prob(theta, a, b, k, observation_seq[t+1]) for k in range(n_states)])\n",
      "  File \"/anaconda3/lib/python3.6/site-packages/scipy/stats/_multivariate.py\", line 2797, in __call__\n",
      "    return multinomial_frozen(n, p, seed)\n",
      "  File \"/Users/kenneth/Desktop/hmm-redux/hmm.py\", line 182, in <listcomp>\n",
      "    emissions = np.array([HMM.emission_prob(theta, a, b, k, observation_seq[t+1]) for k in range(n_states)])\n",
      "  File \"/Users/kenneth/Desktop/hmm-redux/hmm.py\", line 182, in xi\n",
      "    emissions = np.array([HMM.emission_prob(theta, a, b, k, observation_seq[t+1]) for k in range(n_states)])\n",
      "  File \"/Users/kenneth/Desktop/hmm-redux/hmm.py\", line 66, in emission_prob\n",
      "    multinomial = stats.multinomial(n=x, p=p_i)\n",
      "Traceback (most recent call last):\n",
      "  File \"/anaconda3/lib/python3.6/site-packages/scipy/stats/_multivariate.py\", line 2797, in __call__\n",
      "    return multinomial_frozen(n, p, seed)\n",
      "  File \"/anaconda3/lib/python3.6/site-packages/scipy/stats/_multivariate.py\", line 3040, in __init__\n",
      "    self.n, self.p, self.npcond = self._dist._process_parameters(n, p)\n",
      "  File \"/anaconda3/lib/python3.6/multiprocessing/pool.py\", line 44, in mapstar\n",
      "    return list(map(*args))\n",
      "  File \"/Users/kenneth/Desktop/hmm-redux/hmm.py\", line 182, in xi\n",
      "    emissions = np.array([HMM.emission_prob(theta, a, b, k, observation_seq[t+1]) for k in range(n_states)])\n",
      "  File \"/Users/kenneth/Desktop/hmm-redux/hmm.py\", line 182, in <listcomp>\n",
      "    emissions = np.array([HMM.emission_prob(theta, a, b, k, observation_seq[t+1]) for k in range(n_states)])\n",
      "  File \"/Users/kenneth/Desktop/hmm-redux/hmm.py\", line 182, in <listcomp>\n",
      "    emissions = np.array([HMM.emission_prob(theta, a, b, k, observation_seq[t+1]) for k in range(n_states)])\n",
      "  File \"/Users/kenneth/Desktop/hmm-redux/hmm.py\", line 69, in emission_prob\n",
      "    item_counts = np.zeros(theta.shape[0])\n",
      "  File \"/Users/kenneth/Desktop/hmm-redux/hmm.py\", line 75, in emission_prob\n",
      "    multinomial_term =  multinomial.pmf(item_counts)\n",
      "  File \"/Users/kenneth/Desktop/hmm-redux/hmm.py\", line 182, in <listcomp>\n",
      "    emissions = np.array([HMM.emission_prob(theta, a, b, k, observation_seq[t+1]) for k in range(n_states)])\n",
      "  File \"/anaconda3/lib/python3.6/site-packages/scipy/stats/_multivariate.py\", line 2806, in _process_parameters\n",
      "    p = np.array(p, dtype=np.float64, copy=True)\n",
      "  File \"/Users/kenneth/Desktop/hmm-redux/hmm.py\", line 78, in emission_prob\n",
      "    return HMM.nbinom(x, a[k], b[k]) * multinomial_term\n",
      "  File \"/Users/kenneth/Desktop/hmm-redux/hmm.py\", line 65, in emission_prob\n",
      "    p_i = np.transpose(theta)[k]  # item probs\n",
      "  File \"/anaconda3/lib/python3.6/site-packages/scipy/stats/_multivariate.py\", line 3052, in pmf\n",
      "    return self._dist.pmf(x, self.n, self.p)\n",
      "  File \"/Users/kenneth/Desktop/hmm-redux/hmm.py\", line 87, in nbinom\n",
      "    return comb(a+x-1, x) * (b/(b+1))**x * (1 - b/(b+1))**a\n",
      "  File \"/anaconda3/lib/python3.6/site-packages/numpy/core/fromnumeric.py\", line 550, in transpose\n",
      "    return _wrapfunc(a, 'transpose', axes)\n",
      "  File \"/anaconda3/lib/python3.6/multiprocessing/process.py\", line 258, in _bootstrap\n",
      "    self.run()\n",
      "KeyboardInterrupt\n"
     ]
    },
    {
     "name": "stderr",
     "output_type": "stream",
     "text": [
      "  File \"/anaconda3/lib/python3.6/site-packages/scipy/stats/_multivariate.py\", line 2878, in logpmf\n",
      "    x, xcond = self._process_quantiles(x, n, p)\n",
      "  File \"/anaconda3/lib/python3.6/site-packages/scipy/stats/_multivariate.py\", line 2911, in pmf\n",
      "    return np.exp(self.logpmf(x, n, p))\n",
      "  File \"/anaconda3/lib/python3.6/site-packages/scipy/stats/_multivariate.py\", line 2832, in _process_quantiles\n",
      "    if xx.size != 0 and not xx.shape[-1] == p.shape[-1]:\n",
      "  File \"/anaconda3/lib/python3.6/multiprocessing/process.py\", line 93, in run\n",
      "    self._target(*self._args, **self._kwargs)\n",
      "KeyboardInterrupt\n",
      "KeyboardInterrupt\n",
      "  File \"/anaconda3/lib/python3.6/site-packages/scipy/special/basic.py\", line 2165, in comb\n",
      "    k, N = asarray(k), asarray(N)\n",
      "  File \"/anaconda3/lib/python3.6/multiprocessing/pool.py\", line 119, in worker\n",
      "    result = (True, func(*args, **kwds))\n",
      "  File \"/anaconda3/lib/python3.6/multiprocessing/pool.py\", line 44, in mapstar\n",
      "    return list(map(*args))\n",
      "  File \"/anaconda3/lib/python3.6/site-packages/numpy/core/numeric.py\", line 531, in asarray\n",
      "    return array(a, dtype, copy=False, order=order)\n",
      "KeyboardInterrupt\n",
      "  File \"/Users/kenneth/Desktop/hmm-redux/hmm.py\", line 182, in xi\n",
      "    emissions = np.array([HMM.emission_prob(theta, a, b, k, observation_seq[t+1]) for k in range(n_states)])\n",
      "KeyboardInterrupt\n",
      "  File \"/Users/kenneth/Desktop/hmm-redux/hmm.py\", line 182, in <listcomp>\n",
      "    emissions = np.array([HMM.emission_prob(theta, a, b, k, observation_seq[t+1]) for k in range(n_states)])\n",
      "  File \"/anaconda3/lib/python3.6/site-packages/scipy/stats/_multivariate.py\", line 3040, in __init__\n",
      "    self.n, self.p, self.npcond = self._dist._process_parameters(n, p)\n",
      "  File \"/Users/kenneth/Desktop/hmm-redux/hmm.py\", line 66, in emission_prob\n",
      "    multinomial = stats.multinomial(n=x, p=p_i)\n",
      "  File \"/anaconda3/lib/python3.6/site-packages/scipy/stats/_multivariate.py\", line 2797, in __call__\n",
      "    return multinomial_frozen(n, p, seed)\n",
      "  File \"/anaconda3/lib/python3.6/site-packages/scipy/stats/_multivariate.py\", line 2807, in _process_parameters\n",
      "    p[...,-1] = 1. - p[...,:-1].sum(axis=-1)\n",
      "  File \"/anaconda3/lib/python3.6/site-packages/scipy/stats/_multivariate.py\", line 3039, in __init__\n",
      "    self._dist = multinomial_gen(seed)\n",
      "  File \"/anaconda3/lib/python3.6/site-packages/numpy/core/_methods.py\", line 32, in _sum\n",
      "    return umr_sum(a, axis, dtype, out, keepdims)\n",
      "  File \"/anaconda3/lib/python3.6/site-packages/scipy/stats/_multivariate.py\", line 2789, in __init__\n",
      "    doccer.docformat(self.__doc__, multinomial_docdict_params)\n",
      "KeyboardInterrupt\n",
      "  File \"/anaconda3/lib/python3.6/site-packages/scipy/misc/doccer.py\", line 50, in docformat\n",
      "    lines = docstring.expandtabs().splitlines()\n",
      "KeyboardInterrupt\n"
     ]
    },
    {
     "ename": "KeyboardInterrupt",
     "evalue": "",
     "output_type": "error",
     "traceback": [
      "\u001b[0;31m---------------------------------------------------------------------------\u001b[0m",
      "\u001b[0;31mKeyboardInterrupt\u001b[0m                         Traceback (most recent call last)",
      "\u001b[0;32m<ipython-input-13-f91466c6cd3b>\u001b[0m in \u001b[0;36m<module>\u001b[0;34m()\u001b[0m\n\u001b[1;32m      3\u001b[0m \u001b[0mhmm\u001b[0m \u001b[0;34m=\u001b[0m \u001b[0mHMM\u001b[0m\u001b[0;34m(\u001b[0m\u001b[0mn_items\u001b[0m\u001b[0;34m,\u001b[0m \u001b[0mn_states\u001b[0m\u001b[0;34m,\u001b[0m \u001b[0mn_items\u001b[0m \u001b[0;34m+\u001b[0m \u001b[0;36m5\u001b[0m\u001b[0;34m)\u001b[0m\u001b[0;34m\u001b[0m\u001b[0m\n\u001b[1;32m      4\u001b[0m \u001b[0;34m\u001b[0m\u001b[0m\n\u001b[0;32m----> 5\u001b[0;31m \u001b[0mhmm\u001b[0m\u001b[0;34m.\u001b[0m\u001b[0mbaum_welch\u001b[0m\u001b[0;34m(\u001b[0m\u001b[0mobservation_seqs\u001b[0m\u001b[0;34m)\u001b[0m\u001b[0;34m\u001b[0m\u001b[0m\n\u001b[0m",
      "\u001b[0;32m~/Desktop/hmm-redux/hmm.py\u001b[0m in \u001b[0;36mbaum_welch\u001b[0;34m(self, observation_seqs, n_iterations)\u001b[0m\n\u001b[1;32m    308\u001b[0m         \u001b[0;32mfor\u001b[0m \u001b[0mi\u001b[0m \u001b[0;32min\u001b[0m \u001b[0mtqdm\u001b[0m\u001b[0;34m(\u001b[0m\u001b[0mrange\u001b[0m\u001b[0;34m(\u001b[0m\u001b[0mn_iterations\u001b[0m\u001b[0;34m)\u001b[0m\u001b[0;34m)\u001b[0m\u001b[0;34m:\u001b[0m\u001b[0;34m\u001b[0m\u001b[0m\n\u001b[1;32m    309\u001b[0m             \u001b[0;31m# gets expectations based on the current parameter values\u001b[0m\u001b[0;34m\u001b[0m\u001b[0;34m\u001b[0m\u001b[0m\n\u001b[0;32m--> 310\u001b[0;31m             \u001b[0malphas\u001b[0m\u001b[0;34m,\u001b[0m \u001b[0mbetas\u001b[0m\u001b[0;34m,\u001b[0m \u001b[0mgammas\u001b[0m\u001b[0;34m,\u001b[0m \u001b[0mxis\u001b[0m \u001b[0;34m=\u001b[0m \u001b[0mself\u001b[0m\u001b[0;34m.\u001b[0m\u001b[0mexpectation\u001b[0m\u001b[0;34m(\u001b[0m\u001b[0mobservation_seqs\u001b[0m\u001b[0;34m)\u001b[0m\u001b[0;34m\u001b[0m\u001b[0m\n\u001b[0m\u001b[1;32m    311\u001b[0m \u001b[0;34m\u001b[0m\u001b[0m\n\u001b[1;32m    312\u001b[0m             \u001b[0;31m# updates parameters (maximises likelihood)\u001b[0m\u001b[0;34m\u001b[0m\u001b[0;34m\u001b[0m\u001b[0m\n",
      "\u001b[0;32m~/Desktop/hmm-redux/hmm.py\u001b[0m in \u001b[0;36mexpectation\u001b[0;34m(self, observation_seqs)\u001b[0m\n\u001b[1;32m    351\u001b[0m             \u001b[0mparams\u001b[0m\u001b[0;34m.\u001b[0m\u001b[0mappend\u001b[0m\u001b[0;34m(\u001b[0m\u001b[0;34m(\u001b[0m\u001b[0malphas\u001b[0m\u001b[0;34m[\u001b[0m\u001b[0mu\u001b[0m\u001b[0;34m]\u001b[0m\u001b[0;34m,\u001b[0m \u001b[0mbetas\u001b[0m\u001b[0;34m[\u001b[0m\u001b[0mu\u001b[0m\u001b[0;34m]\u001b[0m\u001b[0;34m,\u001b[0m \u001b[0mself\u001b[0m\u001b[0;34m.\u001b[0m\u001b[0mA\u001b[0m\u001b[0;34m,\u001b[0m \u001b[0mscaling_factors\u001b[0m\u001b[0;34m[\u001b[0m\u001b[0mu\u001b[0m\u001b[0;34m]\u001b[0m\u001b[0;34m,\u001b[0m \u001b[0mT\u001b[0m\u001b[0;34m,\u001b[0m \u001b[0mself\u001b[0m\u001b[0;34m.\u001b[0m\u001b[0mn_states\u001b[0m\u001b[0;34m,\u001b[0m \u001b[0mself\u001b[0m\u001b[0;34m.\u001b[0m\u001b[0ma\u001b[0m\u001b[0;34m,\u001b[0m \u001b[0mself\u001b[0m\u001b[0;34m.\u001b[0m\u001b[0mb\u001b[0m\u001b[0;34m,\u001b[0m \u001b[0mself\u001b[0m\u001b[0;34m.\u001b[0m\u001b[0mtheta\u001b[0m\u001b[0;34m,\u001b[0m \u001b[0mobservation_seqs\u001b[0m\u001b[0;34m[\u001b[0m\u001b[0mu\u001b[0m\u001b[0;34m]\u001b[0m\u001b[0;34m)\u001b[0m\u001b[0;34m)\u001b[0m\u001b[0;34m\u001b[0m\u001b[0m\n\u001b[1;32m    352\u001b[0m         \u001b[0;31m# xis = list(map(HMM.xi, params))\u001b[0m\u001b[0;34m\u001b[0m\u001b[0;34m\u001b[0m\u001b[0m\n\u001b[0;32m--> 353\u001b[0;31m         \u001b[0mxis\u001b[0m \u001b[0;34m=\u001b[0m \u001b[0mself\u001b[0m\u001b[0;34m.\u001b[0m\u001b[0mpool\u001b[0m\u001b[0;34m.\u001b[0m\u001b[0mmap\u001b[0m\u001b[0;34m(\u001b[0m\u001b[0mHMM\u001b[0m\u001b[0;34m.\u001b[0m\u001b[0mxi\u001b[0m\u001b[0;34m,\u001b[0m \u001b[0mparams\u001b[0m\u001b[0;34m)\u001b[0m\u001b[0;34m\u001b[0m\u001b[0m\n\u001b[0m\u001b[1;32m    354\u001b[0m \u001b[0;34m\u001b[0m\u001b[0m\n\u001b[1;32m    355\u001b[0m         \u001b[0;32mreturn\u001b[0m \u001b[0malphas\u001b[0m\u001b[0;34m,\u001b[0m \u001b[0mbetas\u001b[0m\u001b[0;34m,\u001b[0m \u001b[0mgammas\u001b[0m\u001b[0;34m,\u001b[0m \u001b[0mxis\u001b[0m\u001b[0;34m\u001b[0m\u001b[0m\n",
      "\u001b[0;32m/anaconda3/lib/python3.6/multiprocessing/pool.py\u001b[0m in \u001b[0;36mmap\u001b[0;34m(self, func, iterable, chunksize)\u001b[0m\n\u001b[1;32m    264\u001b[0m         \u001b[0;32min\u001b[0m \u001b[0ma\u001b[0m \u001b[0mlist\u001b[0m \u001b[0mthat\u001b[0m \u001b[0;32mis\u001b[0m \u001b[0mreturned\u001b[0m\u001b[0;34m.\u001b[0m\u001b[0;34m\u001b[0m\u001b[0m\n\u001b[1;32m    265\u001b[0m         '''\n\u001b[0;32m--> 266\u001b[0;31m         \u001b[0;32mreturn\u001b[0m \u001b[0mself\u001b[0m\u001b[0;34m.\u001b[0m\u001b[0m_map_async\u001b[0m\u001b[0;34m(\u001b[0m\u001b[0mfunc\u001b[0m\u001b[0;34m,\u001b[0m \u001b[0miterable\u001b[0m\u001b[0;34m,\u001b[0m \u001b[0mmapstar\u001b[0m\u001b[0;34m,\u001b[0m \u001b[0mchunksize\u001b[0m\u001b[0;34m)\u001b[0m\u001b[0;34m.\u001b[0m\u001b[0mget\u001b[0m\u001b[0;34m(\u001b[0m\u001b[0;34m)\u001b[0m\u001b[0;34m\u001b[0m\u001b[0m\n\u001b[0m\u001b[1;32m    267\u001b[0m \u001b[0;34m\u001b[0m\u001b[0m\n\u001b[1;32m    268\u001b[0m     \u001b[0;32mdef\u001b[0m \u001b[0mstarmap\u001b[0m\u001b[0;34m(\u001b[0m\u001b[0mself\u001b[0m\u001b[0;34m,\u001b[0m \u001b[0mfunc\u001b[0m\u001b[0;34m,\u001b[0m \u001b[0miterable\u001b[0m\u001b[0;34m,\u001b[0m \u001b[0mchunksize\u001b[0m\u001b[0;34m=\u001b[0m\u001b[0;32mNone\u001b[0m\u001b[0;34m)\u001b[0m\u001b[0;34m:\u001b[0m\u001b[0;34m\u001b[0m\u001b[0m\n",
      "\u001b[0;32m/anaconda3/lib/python3.6/multiprocessing/pool.py\u001b[0m in \u001b[0;36mget\u001b[0;34m(self, timeout)\u001b[0m\n\u001b[1;32m    636\u001b[0m \u001b[0;34m\u001b[0m\u001b[0m\n\u001b[1;32m    637\u001b[0m     \u001b[0;32mdef\u001b[0m \u001b[0mget\u001b[0m\u001b[0;34m(\u001b[0m\u001b[0mself\u001b[0m\u001b[0;34m,\u001b[0m \u001b[0mtimeout\u001b[0m\u001b[0;34m=\u001b[0m\u001b[0;32mNone\u001b[0m\u001b[0;34m)\u001b[0m\u001b[0;34m:\u001b[0m\u001b[0;34m\u001b[0m\u001b[0m\n\u001b[0;32m--> 638\u001b[0;31m         \u001b[0mself\u001b[0m\u001b[0;34m.\u001b[0m\u001b[0mwait\u001b[0m\u001b[0;34m(\u001b[0m\u001b[0mtimeout\u001b[0m\u001b[0;34m)\u001b[0m\u001b[0;34m\u001b[0m\u001b[0m\n\u001b[0m\u001b[1;32m    639\u001b[0m         \u001b[0;32mif\u001b[0m \u001b[0;32mnot\u001b[0m \u001b[0mself\u001b[0m\u001b[0;34m.\u001b[0m\u001b[0mready\u001b[0m\u001b[0;34m(\u001b[0m\u001b[0;34m)\u001b[0m\u001b[0;34m:\u001b[0m\u001b[0;34m\u001b[0m\u001b[0m\n\u001b[1;32m    640\u001b[0m             \u001b[0;32mraise\u001b[0m \u001b[0mTimeoutError\u001b[0m\u001b[0;34m\u001b[0m\u001b[0m\n",
      "\u001b[0;32m/anaconda3/lib/python3.6/multiprocessing/pool.py\u001b[0m in \u001b[0;36mwait\u001b[0;34m(self, timeout)\u001b[0m\n\u001b[1;32m    633\u001b[0m \u001b[0;34m\u001b[0m\u001b[0m\n\u001b[1;32m    634\u001b[0m     \u001b[0;32mdef\u001b[0m \u001b[0mwait\u001b[0m\u001b[0;34m(\u001b[0m\u001b[0mself\u001b[0m\u001b[0;34m,\u001b[0m \u001b[0mtimeout\u001b[0m\u001b[0;34m=\u001b[0m\u001b[0;32mNone\u001b[0m\u001b[0;34m)\u001b[0m\u001b[0;34m:\u001b[0m\u001b[0;34m\u001b[0m\u001b[0m\n\u001b[0;32m--> 635\u001b[0;31m         \u001b[0mself\u001b[0m\u001b[0;34m.\u001b[0m\u001b[0m_event\u001b[0m\u001b[0;34m.\u001b[0m\u001b[0mwait\u001b[0m\u001b[0;34m(\u001b[0m\u001b[0mtimeout\u001b[0m\u001b[0;34m)\u001b[0m\u001b[0;34m\u001b[0m\u001b[0m\n\u001b[0m\u001b[1;32m    636\u001b[0m \u001b[0;34m\u001b[0m\u001b[0m\n\u001b[1;32m    637\u001b[0m     \u001b[0;32mdef\u001b[0m \u001b[0mget\u001b[0m\u001b[0;34m(\u001b[0m\u001b[0mself\u001b[0m\u001b[0;34m,\u001b[0m \u001b[0mtimeout\u001b[0m\u001b[0;34m=\u001b[0m\u001b[0;32mNone\u001b[0m\u001b[0;34m)\u001b[0m\u001b[0;34m:\u001b[0m\u001b[0;34m\u001b[0m\u001b[0m\n",
      "\u001b[0;32m/anaconda3/lib/python3.6/threading.py\u001b[0m in \u001b[0;36mwait\u001b[0;34m(self, timeout)\u001b[0m\n\u001b[1;32m    549\u001b[0m             \u001b[0msignaled\u001b[0m \u001b[0;34m=\u001b[0m \u001b[0mself\u001b[0m\u001b[0;34m.\u001b[0m\u001b[0m_flag\u001b[0m\u001b[0;34m\u001b[0m\u001b[0m\n\u001b[1;32m    550\u001b[0m             \u001b[0;32mif\u001b[0m \u001b[0;32mnot\u001b[0m \u001b[0msignaled\u001b[0m\u001b[0;34m:\u001b[0m\u001b[0;34m\u001b[0m\u001b[0m\n\u001b[0;32m--> 551\u001b[0;31m                 \u001b[0msignaled\u001b[0m \u001b[0;34m=\u001b[0m \u001b[0mself\u001b[0m\u001b[0;34m.\u001b[0m\u001b[0m_cond\u001b[0m\u001b[0;34m.\u001b[0m\u001b[0mwait\u001b[0m\u001b[0;34m(\u001b[0m\u001b[0mtimeout\u001b[0m\u001b[0;34m)\u001b[0m\u001b[0;34m\u001b[0m\u001b[0m\n\u001b[0m\u001b[1;32m    552\u001b[0m             \u001b[0;32mreturn\u001b[0m \u001b[0msignaled\u001b[0m\u001b[0;34m\u001b[0m\u001b[0m\n\u001b[1;32m    553\u001b[0m \u001b[0;34m\u001b[0m\u001b[0m\n",
      "\u001b[0;32m/anaconda3/lib/python3.6/threading.py\u001b[0m in \u001b[0;36mwait\u001b[0;34m(self, timeout)\u001b[0m\n\u001b[1;32m    293\u001b[0m         \u001b[0;32mtry\u001b[0m\u001b[0;34m:\u001b[0m    \u001b[0;31m# restore state no matter what (e.g., KeyboardInterrupt)\u001b[0m\u001b[0;34m\u001b[0m\u001b[0m\n\u001b[1;32m    294\u001b[0m             \u001b[0;32mif\u001b[0m \u001b[0mtimeout\u001b[0m \u001b[0;32mis\u001b[0m \u001b[0;32mNone\u001b[0m\u001b[0;34m:\u001b[0m\u001b[0;34m\u001b[0m\u001b[0m\n\u001b[0;32m--> 295\u001b[0;31m                 \u001b[0mwaiter\u001b[0m\u001b[0;34m.\u001b[0m\u001b[0macquire\u001b[0m\u001b[0;34m(\u001b[0m\u001b[0;34m)\u001b[0m\u001b[0;34m\u001b[0m\u001b[0m\n\u001b[0m\u001b[1;32m    296\u001b[0m                 \u001b[0mgotit\u001b[0m \u001b[0;34m=\u001b[0m \u001b[0;32mTrue\u001b[0m\u001b[0;34m\u001b[0m\u001b[0m\n\u001b[1;32m    297\u001b[0m             \u001b[0;32melse\u001b[0m\u001b[0;34m:\u001b[0m\u001b[0;34m\u001b[0m\u001b[0m\n",
      "\u001b[0;31mKeyboardInterrupt\u001b[0m: "
     ]
    }
   ],
   "source": [
    "n_states = 15\n",
    "n_items = len(animes)\n",
    "hmm = HMM(n_items, n_states, n_items + 5)\n",
    "\n",
    "hmm.baum_welch(observation_seqs)"
   ]
  },
  {
   "cell_type": "code",
   "execution_count": null,
   "metadata": {},
   "outputs": [],
   "source": [
    "hmm.A[2].sum()"
   ]
  },
  {
   "cell_type": "code",
   "execution_count": null,
   "metadata": {
    "collapsed": true
   },
   "outputs": [],
   "source": []
  },
  {
   "cell_type": "code",
   "execution_count": null,
   "metadata": {
    "collapsed": true
   },
   "outputs": [],
   "source": []
  }
 ],
 "metadata": {
  "kernelspec": {
   "display_name": "Python 3",
   "language": "python",
   "name": "python3"
  },
  "language_info": {
   "codemirror_mode": {
    "name": "ipython",
    "version": 3
   },
   "file_extension": ".py",
   "mimetype": "text/x-python",
   "name": "python",
   "nbconvert_exporter": "python",
   "pygments_lexer": "ipython3",
   "version": "3.6.3"
  }
 },
 "nbformat": 4,
 "nbformat_minor": 2
}
