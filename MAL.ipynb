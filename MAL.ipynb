{
 "cells": [
  {
   "cell_type": "code",
   "execution_count": 1,
   "metadata": {
    "collapsed": true
   },
   "outputs": [],
   "source": [
    "import pandas as pd\n",
    "import numpy as np\n",
    "import matplotlib.pyplot as plt\n",
    "from tqdm import tqdm\n",
    "\n",
    "from hmm import HMM"
   ]
  },
  {
   "cell_type": "code",
   "execution_count": 2,
   "metadata": {
    "collapsed": true
   },
   "outputs": [],
   "source": [
    "anime = pd.read_csv('anime.csv')\n",
    "rating = pd.read_csv('rating.csv')"
   ]
  },
  {
   "cell_type": "code",
   "execution_count": 3,
   "metadata": {
    "collapsed": true
   },
   "outputs": [],
   "source": [
    "anime = anime.sort_values(by='anime_id')\n",
    "anime = anime[anime['members'] > 10000]"
   ]
  },
  {
   "cell_type": "code",
   "execution_count": 4,
   "metadata": {
    "collapsed": true
   },
   "outputs": [],
   "source": [
    "# only consider slice of life anime\n",
    "anime = anime[anime['genre'].str.contains('Slice of Life') == True]"
   ]
  },
  {
   "cell_type": "code",
   "execution_count": 5,
   "metadata": {
    "collapsed": true
   },
   "outputs": [],
   "source": [
    "# aggregrate people's votes -> counts of which users voted more\n",
    "counts = rating.groupby(by='user_id').agg('count')\n",
    "counts = counts.rename(index=str, columns={'anime_id': 'counts'})\n",
    "del counts['rating']\n",
    "counts = counts.reset_index()"
   ]
  },
  {
   "cell_type": "code",
   "execution_count": 6,
   "metadata": {},
   "outputs": [],
   "source": [
    "# only consider anime rated >= 7\n",
    "rating = rating[rating['rating'] >= 7]\n",
    "\n",
    "# people who rated more than n anime\n",
    "top_counts = counts[(counts['counts'] >= 80)]  # ~20k users"
   ]
  },
  {
   "cell_type": "code",
   "execution_count": 7,
   "metadata": {
    "scrolled": true
   },
   "outputs": [
    {
     "data": {
      "text/html": [
       "<div>\n",
       "<style>\n",
       "    .dataframe thead tr:only-child th {\n",
       "        text-align: right;\n",
       "    }\n",
       "\n",
       "    .dataframe thead th {\n",
       "        text-align: left;\n",
       "    }\n",
       "\n",
       "    .dataframe tbody tr th {\n",
       "        vertical-align: top;\n",
       "    }\n",
       "</style>\n",
       "<table border=\"1\" class=\"dataframe\">\n",
       "  <thead>\n",
       "    <tr style=\"text-align: right;\">\n",
       "      <th></th>\n",
       "      <th>user_id</th>\n",
       "      <th>anime_id</th>\n",
       "      <th>rating</th>\n",
       "    </tr>\n",
       "  </thead>\n",
       "  <tbody>\n",
       "    <tr>\n",
       "      <th>47</th>\n",
       "      <td>1</td>\n",
       "      <td>8074</td>\n",
       "      <td>10</td>\n",
       "    </tr>\n",
       "    <tr>\n",
       "      <th>81</th>\n",
       "      <td>1</td>\n",
       "      <td>11617</td>\n",
       "      <td>10</td>\n",
       "    </tr>\n",
       "    <tr>\n",
       "      <th>83</th>\n",
       "      <td>1</td>\n",
       "      <td>11757</td>\n",
       "      <td>10</td>\n",
       "    </tr>\n",
       "    <tr>\n",
       "      <th>101</th>\n",
       "      <td>1</td>\n",
       "      <td>15451</td>\n",
       "      <td>10</td>\n",
       "    </tr>\n",
       "    <tr>\n",
       "      <th>156</th>\n",
       "      <td>3</td>\n",
       "      <td>20</td>\n",
       "      <td>8</td>\n",
       "    </tr>\n",
       "  </tbody>\n",
       "</table>\n",
       "</div>"
      ],
      "text/plain": [
       "     user_id  anime_id  rating\n",
       "47         1      8074      10\n",
       "81         1     11617      10\n",
       "83         1     11757      10\n",
       "101        1     15451      10\n",
       "156        3        20       8"
      ]
     },
     "execution_count": 7,
     "metadata": {},
     "output_type": "execute_result"
    }
   ],
   "source": [
    "# filter only ratings from people who satisfy the above criteria\n",
    "rating_ = rating[rating['user_id'].isin(top_counts['user_id'])]  # filtered rating database - include top users only\n",
    "rating_.head()"
   ]
  },
  {
   "cell_type": "code",
   "execution_count": 8,
   "metadata": {},
   "outputs": [],
   "source": [
    "len(rating_['anime_id'])  # 2653526\n",
    "\n",
    "TIME_STEP = 2000  # anime_ids between time steps. min = 17; max = 34525.\n",
    "\n",
    "# need to group by anime_id\n",
    "rating_ = rating_.assign(time=rating_['anime_id']/TIME_STEP)\n",
    "rating_['time'] = rating_['time'].apply(lambda x: int(x))"
   ]
  },
  {
   "cell_type": "code",
   "execution_count": 9,
   "metadata": {},
   "outputs": [
    {
     "name": "stderr",
     "output_type": "stream",
     "text": [
      "100%|██████████| 200/200 [00:04<00:00, 43.95it/s]\n"
     ]
    }
   ],
   "source": [
    "# filtered rating database - include only non-filtered anime\n",
    "rating_ = rating_[rating_['anime_id'].isin(anime['anime_id'])]\n",
    "\n",
    "# randomly sample 1000 users\n",
    "user_ids = rating_['user_id'].unique()\n",
    "user_ids = np.random.choice(user_ids, 200, replace=False)\n",
    "animes = anime['anime_id'].unique()\n",
    "anime_id_to_index = {}\n",
    "for i in range(len(animes)):\n",
    "    anime = animes[i]\n",
    "    anime_id_to_index[anime] = i\n",
    "    \n",
    "# build an \"observation sequence\"\n",
    "max_time = rating_['time'].max()\n",
    "observation_seqs = np.zeros(shape=(len(user_ids), max_time), dtype=object)\n",
    "for u in range(len(user_ids)):\n",
    "    for t in range(max_time):  \n",
    "        observation_seqs[u][t] = []\n",
    "for u in tqdm(range(len(user_ids))):\n",
    "    rating_per_user = rating_[rating_['user_id'] == user_ids[u]]\n",
    "    for t in range(max_time):\n",
    "        observation_seqs[u][t] = \\\n",
    "            rating_per_user[rating_per_user['time'] == t]['anime_id'].map(anime_id_to_index).tolist()\n",
    "        if len(observation_seqs[u][t]) == 0:\n",
    "             # fill in blanks with random anime -> TODO\n",
    "            observation_seqs[u][t] = [anime_id_to_index[np.random.choice(animes)]] "
   ]
  },
  {
   "cell_type": "code",
   "execution_count": 10,
   "metadata": {
    "collapsed": true
   },
   "outputs": [],
   "source": [
    "# hold-out time t anime\n",
    "time_t_anime = []\n",
    "for u in range(len(observation_seqs)):\n",
    "    time_t_anime.append(observation_seqs[u][-1])"
   ]
  },
  {
   "cell_type": "code",
   "execution_count": 11,
   "metadata": {
    "collapsed": true
   },
   "outputs": [],
   "source": [
    "observation_seqs = np.resize(observation_seqs, (len(user_ids), max_time-1))"
   ]
  },
  {
   "cell_type": "code",
   "execution_count": 12,
   "metadata": {},
   "outputs": [
    {
     "data": {
      "text/plain": [
       "1.9026666666666663"
      ]
     },
     "execution_count": 12,
     "metadata": {},
     "output_type": "execute_result"
    }
   ],
   "source": [
    "# average anime watched per time-step\n",
    "total = 0\n",
    "for seq in observation_seqs:\n",
    "    total += sum([len(x) for x in seq])/len(seq)\n",
    "total /= len(observation_seqs)\n",
    "total"
   ]
  },
  {
   "cell_type": "code",
   "execution_count": 13,
   "metadata": {
    "scrolled": false
   },
   "outputs": [
    {
     "name": "stderr",
     "output_type": "stream",
     "text": [
      "  0%|          | 0/20 [00:00<?, ?it/s]Process ForkPoolWorker-2:\n",
      "Process ForkPoolWorker-1:\n",
      "Process ForkPoolWorker-5:\n",
      "Process ForkPoolWorker-3:\n",
      "Process ForkPoolWorker-4:\n",
      "Process ForkPoolWorker-7:\n",
      "Process ForkPoolWorker-6:\n",
      "Traceback (most recent call last):\n",
      "Traceback (most recent call last):\n",
      "  File \"/anaconda3/lib/python3.6/multiprocessing/process.py\", line 258, in _bootstrap\n",
      "    self.run()\n",
      "  File \"/anaconda3/lib/python3.6/multiprocessing/process.py\", line 93, in run\n",
      "    self._target(*self._args, **self._kwargs)\n",
      "Traceback (most recent call last):\n",
      "Traceback (most recent call last):\n",
      "  File \"/anaconda3/lib/python3.6/multiprocessing/pool.py\", line 119, in worker\n",
      "    result = (True, func(*args, **kwds))\n",
      "  File \"/anaconda3/lib/python3.6/multiprocessing/process.py\", line 258, in _bootstrap\n",
      "    self.run()\n",
      "  File \"/anaconda3/lib/python3.6/multiprocessing/process.py\", line 93, in run\n",
      "    self._target(*self._args, **self._kwargs)\n",
      "  File \"/anaconda3/lib/python3.6/multiprocessing/pool.py\", line 44, in mapstar\n",
      "    return list(map(*args))\n",
      "  File \"/anaconda3/lib/python3.6/multiprocessing/pool.py\", line 119, in worker\n",
      "    result = (True, func(*args, **kwds))\n",
      "  File \"/anaconda3/lib/python3.6/multiprocessing/pool.py\", line 44, in mapstar\n",
      "    return list(map(*args))\n",
      "  File \"/Users/kenneth/Desktop/hmm-redux/hmm.py\", line 162, in forward_backward\n",
      "    alphas, scaling_factors = HMM.forward(n_states, a, b, theta, pi, A, seq)\n",
      "Traceback (most recent call last):\n",
      "  File \"/Users/kenneth/Desktop/hmm-redux/hmm.py\", line 162, in forward_backward\n",
      "    alphas, scaling_factors = HMM.forward(n_states, a, b, theta, pi, A, seq)\n",
      "  File \"/Users/kenneth/Desktop/hmm-redux/hmm.py\", line 121, in forward\n",
      "    for k in range(n_states)\n",
      "  File \"/Users/kenneth/Desktop/hmm-redux/hmm.py\", line 121, in forward\n",
      "    for k in range(n_states)\n",
      "  File \"/Users/kenneth/Desktop/hmm-redux/hmm.py\", line 121, in <listcomp>\n",
      "    for k in range(n_states)\n",
      "  File \"/Users/kenneth/Desktop/hmm-redux/hmm.py\", line 121, in <listcomp>\n",
      "    for k in range(n_states)\n",
      "  File \"/Users/kenneth/Desktop/hmm-redux/hmm.py\", line 66, in emission_prob\n",
      "    multinomial = stats.multinomial(n=x, p=p_i)\n",
      "  File \"/anaconda3/lib/python3.6/site-packages/scipy/stats/_multivariate.py\", line 2797, in __call__\n",
      "    return multinomial_frozen(n, p, seed)\n",
      "  File \"/Users/kenneth/Desktop/hmm-redux/hmm.py\", line 65, in emission_prob\n",
      "    p_i = np.transpose(theta)[k]  # item probs\n",
      "  File \"/anaconda3/lib/python3.6/multiprocessing/process.py\", line 258, in _bootstrap\n",
      "    self.run()\n",
      "  File \"/anaconda3/lib/python3.6/multiprocessing/process.py\", line 258, in _bootstrap\n",
      "    self.run()\n",
      "  File \"/anaconda3/lib/python3.6/site-packages/scipy/stats/_multivariate.py\", line 3039, in __init__\n",
      "    self._dist = multinomial_gen(seed)\n",
      "  File \"/anaconda3/lib/python3.6/site-packages/numpy/core/fromnumeric.py\", line 550, in transpose\n",
      "    return _wrapfunc(a, 'transpose', axes)\n",
      "  File \"/anaconda3/lib/python3.6/site-packages/scipy/stats/_multivariate.py\", line 2789, in __init__\n",
      "    doccer.docformat(self.__doc__, multinomial_docdict_params)\n",
      "  File \"/anaconda3/lib/python3.6/site-packages/numpy/core/fromnumeric.py\", line 57, in _wrapfunc\n",
      "    return getattr(obj, method)(*args, **kwds)\n",
      "  File \"/anaconda3/lib/python3.6/site-packages/scipy/misc/doccer.py\", line 55, in docformat\n",
      "    icount = indentcount_lines(lines[1:])\n",
      "  File \"/anaconda3/lib/python3.6/multiprocessing/process.py\", line 93, in run\n",
      "    self._target(*self._args, **self._kwargs)\n",
      "  File \"/anaconda3/lib/python3.6/site-packages/scipy/misc/doccer.py\", line 145, in indentcount_lines\n",
      "    stripped = line.lstrip()\n",
      "  File \"/anaconda3/lib/python3.6/multiprocessing/process.py\", line 93, in run\n",
      "    self._target(*self._args, **self._kwargs)\n",
      "KeyboardInterrupt\n",
      "KeyboardInterrupt\n",
      "  File \"/anaconda3/lib/python3.6/multiprocessing/pool.py\", line 119, in worker\n",
      "    result = (True, func(*args, **kwds))\n",
      "  File \"/anaconda3/lib/python3.6/multiprocessing/pool.py\", line 119, in worker\n",
      "    result = (True, func(*args, **kwds))\n",
      "  File \"/anaconda3/lib/python3.6/multiprocessing/process.py\", line 258, in _bootstrap\n",
      "    self.run()\n",
      "  File \"/anaconda3/lib/python3.6/multiprocessing/pool.py\", line 44, in mapstar\n",
      "    return list(map(*args))\n",
      "  File \"/anaconda3/lib/python3.6/multiprocessing/pool.py\", line 44, in mapstar\n",
      "    return list(map(*args))\n",
      "  File \"/anaconda3/lib/python3.6/multiprocessing/process.py\", line 93, in run\n",
      "    self._target(*self._args, **self._kwargs)\n",
      "  File \"/Users/kenneth/Desktop/hmm-redux/hmm.py\", line 162, in forward_backward\n",
      "    alphas, scaling_factors = HMM.forward(n_states, a, b, theta, pi, A, seq)\n",
      "  File \"/Users/kenneth/Desktop/hmm-redux/hmm.py\", line 121, in forward\n",
      "    for k in range(n_states)\n",
      "  File \"/anaconda3/lib/python3.6/multiprocessing/pool.py\", line 119, in worker\n",
      "    result = (True, func(*args, **kwds))\n",
      "Traceback (most recent call last):\n",
      "  File \"/Users/kenneth/Desktop/hmm-redux/hmm.py\", line 162, in forward_backward\n",
      "    alphas, scaling_factors = HMM.forward(n_states, a, b, theta, pi, A, seq)\n",
      "Traceback (most recent call last):\n",
      "  File \"/anaconda3/lib/python3.6/multiprocessing/pool.py\", line 44, in mapstar\n",
      "    return list(map(*args))\n",
      "  File \"/Users/kenneth/Desktop/hmm-redux/hmm.py\", line 121, in <listcomp>\n",
      "    for k in range(n_states)\n",
      "  File \"/anaconda3/lib/python3.6/multiprocessing/process.py\", line 258, in _bootstrap\n",
      "    self.run()\n",
      "  File \"/Users/kenneth/Desktop/hmm-redux/hmm.py\", line 121, in forward\n",
      "    for k in range(n_states)\n",
      "  File \"/Users/kenneth/Desktop/hmm-redux/hmm.py\", line 162, in forward_backward\n",
      "    alphas, scaling_factors = HMM.forward(n_states, a, b, theta, pi, A, seq)\n",
      "  File \"/anaconda3/lib/python3.6/multiprocessing/process.py\", line 258, in _bootstrap\n",
      "    self.run()\n",
      "  File \"/Users/kenneth/Desktop/hmm-redux/hmm.py\", line 75, in emission_prob\n",
      "    multinomial_term =  multinomial.pmf(item_counts)\n",
      "  File \"/anaconda3/lib/python3.6/multiprocessing/process.py\", line 93, in run\n",
      "    self._target(*self._args, **self._kwargs)\n",
      "  File \"/anaconda3/lib/python3.6/multiprocessing/process.py\", line 93, in run\n",
      "    self._target(*self._args, **self._kwargs)\n",
      "  File \"/Users/kenneth/Desktop/hmm-redux/hmm.py\", line 121, in forward\n",
      "    for k in range(n_states)\n",
      "  File \"/anaconda3/lib/python3.6/site-packages/scipy/stats/_multivariate.py\", line 3052, in pmf\n",
      "    return self._dist.pmf(x, self.n, self.p)\n",
      "  File \"/anaconda3/lib/python3.6/multiprocessing/pool.py\", line 119, in worker\n",
      "    result = (True, func(*args, **kwds))\n",
      "  File \"/anaconda3/lib/python3.6/multiprocessing/pool.py\", line 119, in worker\n",
      "    result = (True, func(*args, **kwds))\n",
      "  File \"/Users/kenneth/Desktop/hmm-redux/hmm.py\", line 121, in <listcomp>\n",
      "    for k in range(n_states)\n",
      "  File \"/anaconda3/lib/python3.6/multiprocessing/pool.py\", line 44, in mapstar\n",
      "    return list(map(*args))\n",
      "  File \"/anaconda3/lib/python3.6/multiprocessing/pool.py\", line 44, in mapstar\n",
      "    return list(map(*args))\n",
      "  File \"/anaconda3/lib/python3.6/site-packages/scipy/stats/_multivariate.py\", line 2911, in pmf\n",
      "    return np.exp(self.logpmf(x, n, p))\n",
      "  File \"/Users/kenneth/Desktop/hmm-redux/hmm.py\", line 66, in emission_prob\n",
      "    multinomial = stats.multinomial(n=x, p=p_i)\n",
      "  File \"/Users/kenneth/Desktop/hmm-redux/hmm.py\", line 162, in forward_backward\n",
      "    alphas, scaling_factors = HMM.forward(n_states, a, b, theta, pi, A, seq)\n",
      "  File \"/Users/kenneth/Desktop/hmm-redux/hmm.py\", line 162, in forward_backward\n",
      "    alphas, scaling_factors = HMM.forward(n_states, a, b, theta, pi, A, seq)\n",
      "  File \"/anaconda3/lib/python3.6/site-packages/scipy/stats/_multivariate.py\", line 2797, in __call__\n",
      "    return multinomial_frozen(n, p, seed)\n",
      "  File \"/Users/kenneth/Desktop/hmm-redux/hmm.py\", line 121, in forward\n",
      "    for k in range(n_states)\n",
      "  File \"/Users/kenneth/Desktop/hmm-redux/hmm.py\", line 121, in forward\n",
      "    for k in range(n_states)\n",
      "  File \"/Users/kenneth/Desktop/hmm-redux/hmm.py\", line 121, in <listcomp>\n",
      "    for k in range(n_states)\n",
      "  File \"/Users/kenneth/Desktop/hmm-redux/hmm.py\", line 66, in emission_prob\n",
      "    multinomial = stats.multinomial(n=x, p=p_i)\n",
      "  File \"/anaconda3/lib/python3.6/site-packages/scipy/stats/_multivariate.py\", line 2880, in logpmf\n",
      "    result = self._logpmf(x, n, p)\n",
      "  File \"/anaconda3/lib/python3.6/site-packages/scipy/stats/_multivariate.py\", line 3039, in __init__\n",
      "    self._dist = multinomial_gen(seed)\n"
     ]
    },
    {
     "name": "stderr",
     "output_type": "stream",
     "text": [
      "  File \"/Users/kenneth/Desktop/hmm-redux/hmm.py\", line 121, in <listcomp>\n",
      "    for k in range(n_states)\n",
      "  File \"/Users/kenneth/Desktop/hmm-redux/hmm.py\", line 121, in <listcomp>\n",
      "    for k in range(n_states)\n",
      "  File \"/anaconda3/lib/python3.6/site-packages/scipy/stats/_multivariate.py\", line 2797, in __call__\n",
      "    return multinomial_frozen(n, p, seed)\n",
      "  File \"/anaconda3/lib/python3.6/site-packages/scipy/stats/_multivariate.py\", line 2789, in __init__\n",
      "    doccer.docformat(self.__doc__, multinomial_docdict_params)\n",
      "  File \"/Users/kenneth/Desktop/hmm-redux/hmm.py\", line 75, in emission_prob\n",
      "    multinomial_term =  multinomial.pmf(item_counts)\n",
      "  File \"/anaconda3/lib/python3.6/site-packages/scipy/stats/_multivariate.py\", line 2855, in _logpmf\n",
      "    return gammaln(n+1) + np.sum(xlogy(x, p) - gammaln(x+1), axis=-1)\n",
      "\n",
      "  File \"/anaconda3/lib/python3.6/site-packages/scipy/misc/doccer.py\", line 60, in docformat\n",
      "    lines = dstr.expandtabs().splitlines()\n",
      "  File \"/Users/kenneth/Desktop/hmm-redux/hmm.py\", line 78, in emission_prob\n",
      "    return HMM.nbinom(x, a[k], b[k]) * multinomial_term\n",
      "  File \"/anaconda3/lib/python3.6/site-packages/scipy/stats/_multivariate.py\", line 3052, in pmf\n",
      "    return self._dist.pmf(x, self.n, self.p)\n",
      "  File \"/anaconda3/lib/python3.6/site-packages/scipy/special/basic.py\", line 176, in gammaln\n",
      "    if np.iscomplexobj(x):\n",
      "KeyboardInterrupt\n",
      "  File \"/anaconda3/lib/python3.6/site-packages/numpy/lib/type_check.py\", line 285, in iscomplexobj\n",
      "    type_ = dtype.type\n",
      "  File \"/Users/kenneth/Desktop/hmm-redux/hmm.py\", line 86, in nbinom\n",
      "    return comb(a+x-1, x) * (b/(b+1))**x * (1 - b/(b+1))**a\n",
      "  File \"/anaconda3/lib/python3.6/site-packages/scipy/stats/_multivariate.py\", line 3039, in __init__\n",
      "    self._dist = multinomial_gen(seed)\n",
      "  File \"/anaconda3/lib/python3.6/site-packages/scipy/stats/_multivariate.py\", line 2911, in pmf\n",
      "    return np.exp(self.logpmf(x, n, p))\n",
      "KeyboardInterrupt\n",
      "Process ForkPoolWorker-8:\n",
      "  File \"/anaconda3/lib/python3.6/site-packages/scipy/stats/_multivariate.py\", line 2878, in logpmf\n",
      "    x, xcond = self._process_quantiles(x, n, p)\n",
      "  File \"/anaconda3/lib/python3.6/site-packages/scipy/special/basic.py\", line 2165, in comb\n",
      "    k, N = asarray(k), asarray(N)\n",
      "  File \"/anaconda3/lib/python3.6/site-packages/scipy/stats/_multivariate.py\", line 2837, in _process_quantiles\n",
      "    cond = np.any(xx != x, axis=-1)\n",
      "  File \"/anaconda3/lib/python3.6/site-packages/numpy/core/fromnumeric.py\", line 1970, in any\n",
      "    return arr.any(axis=axis, out=out, **kwargs)\n",
      "  File \"/anaconda3/lib/python3.6/site-packages/numpy/core/numeric.py\", line 463, in asarray\n",
      "    def asarray(a, dtype=None, order=None):\n",
      "  File \"/anaconda3/lib/python3.6/site-packages/numpy/core/_methods.py\", line 37, in _any\n",
      "    def _any(a, axis=None, dtype=None, out=None, keepdims=False):\n",
      "KeyboardInterrupt\n",
      "KeyboardInterrupt\n",
      "Traceback (most recent call last):\n",
      "  File \"/anaconda3/lib/python3.6/site-packages/scipy/stats/_multivariate.py\", line 2789, in __init__\n",
      "    doccer.docformat(self.__doc__, multinomial_docdict_params)\n",
      "  File \"/anaconda3/lib/python3.6/multiprocessing/process.py\", line 258, in _bootstrap\n",
      "    self.run()\n",
      "  File \"/anaconda3/lib/python3.6/multiprocessing/process.py\", line 93, in run\n",
      "    self._target(*self._args, **self._kwargs)\n",
      "  File \"/anaconda3/lib/python3.6/multiprocessing/pool.py\", line 119, in worker\n",
      "    result = (True, func(*args, **kwds))\n",
      "  File \"/anaconda3/lib/python3.6/site-packages/scipy/misc/doccer.py\", line 55, in docformat\n",
      "    icount = indentcount_lines(lines[1:])\n",
      "  File \"/anaconda3/lib/python3.6/multiprocessing/pool.py\", line 44, in mapstar\n",
      "    return list(map(*args))\n",
      "  File \"/anaconda3/lib/python3.6/site-packages/scipy/misc/doccer.py\", line 144, in indentcount_lines\n",
      "    for line in lines:\n",
      "  File \"/Users/kenneth/Desktop/hmm-redux/hmm.py\", line 162, in forward_backward\n",
      "    alphas, scaling_factors = HMM.forward(n_states, a, b, theta, pi, A, seq)\n",
      "  File \"/Users/kenneth/Desktop/hmm-redux/hmm.py\", line 121, in forward\n",
      "    for k in range(n_states)\n",
      "KeyboardInterrupt\n",
      "  File \"/Users/kenneth/Desktop/hmm-redux/hmm.py\", line 121, in <listcomp>\n",
      "    for k in range(n_states)\n",
      "  File \"/Users/kenneth/Desktop/hmm-redux/hmm.py\", line 66, in emission_prob\n",
      "    multinomial = stats.multinomial(n=x, p=p_i)\n",
      "  File \"/anaconda3/lib/python3.6/site-packages/scipy/stats/_multivariate.py\", line 2797, in __call__\n",
      "    return multinomial_frozen(n, p, seed)\n",
      "  File \"/anaconda3/lib/python3.6/site-packages/scipy/stats/_multivariate.py\", line 3040, in __init__\n",
      "    self.n, self.p, self.npcond = self._dist._process_parameters(n, p)\n",
      "  File \"/anaconda3/lib/python3.6/site-packages/scipy/stats/_multivariate.py\", line 2799, in _process_parameters\n",
      "    def _process_parameters(self, n, p):\n",
      "KeyboardInterrupt\n"
     ]
    },
    {
     "ename": "KeyboardInterrupt",
     "evalue": "",
     "output_type": "error",
     "traceback": [
      "\u001b[0;31m---------------------------------------------------------------------------\u001b[0m",
      "\u001b[0;31mKeyboardInterrupt\u001b[0m                         Traceback (most recent call last)",
      "\u001b[0;32m<ipython-input-13-f91466c6cd3b>\u001b[0m in \u001b[0;36m<module>\u001b[0;34m()\u001b[0m\n\u001b[1;32m      3\u001b[0m \u001b[0mhmm\u001b[0m \u001b[0;34m=\u001b[0m \u001b[0mHMM\u001b[0m\u001b[0;34m(\u001b[0m\u001b[0mn_items\u001b[0m\u001b[0;34m,\u001b[0m \u001b[0mn_states\u001b[0m\u001b[0;34m,\u001b[0m \u001b[0mn_items\u001b[0m \u001b[0;34m+\u001b[0m \u001b[0;36m5\u001b[0m\u001b[0;34m)\u001b[0m\u001b[0;34m\u001b[0m\u001b[0m\n\u001b[1;32m      4\u001b[0m \u001b[0;34m\u001b[0m\u001b[0m\n\u001b[0;32m----> 5\u001b[0;31m \u001b[0mhmm\u001b[0m\u001b[0;34m.\u001b[0m\u001b[0mbaum_welch\u001b[0m\u001b[0;34m(\u001b[0m\u001b[0mobservation_seqs\u001b[0m\u001b[0;34m)\u001b[0m\u001b[0;34m\u001b[0m\u001b[0m\n\u001b[0m",
      "\u001b[0;32m~/Desktop/hmm-redux/hmm.py\u001b[0m in \u001b[0;36mbaum_welch\u001b[0;34m(self, observation_seqs, n_iterations)\u001b[0m\n\u001b[1;32m    317\u001b[0m         \u001b[0;32mfor\u001b[0m \u001b[0mi\u001b[0m \u001b[0;32min\u001b[0m \u001b[0mtqdm\u001b[0m\u001b[0;34m(\u001b[0m\u001b[0mrange\u001b[0m\u001b[0;34m(\u001b[0m\u001b[0mn_iterations\u001b[0m\u001b[0;34m)\u001b[0m\u001b[0;34m)\u001b[0m\u001b[0;34m:\u001b[0m\u001b[0;34m\u001b[0m\u001b[0m\n\u001b[1;32m    318\u001b[0m             \u001b[0;31m# gets expectations based on the current parameter values\u001b[0m\u001b[0;34m\u001b[0m\u001b[0;34m\u001b[0m\u001b[0m\n\u001b[0;32m--> 319\u001b[0;31m             \u001b[0malphas\u001b[0m\u001b[0;34m,\u001b[0m \u001b[0mbetas\u001b[0m\u001b[0;34m,\u001b[0m \u001b[0mgammas\u001b[0m\u001b[0;34m,\u001b[0m \u001b[0mxis\u001b[0m \u001b[0;34m=\u001b[0m \u001b[0mself\u001b[0m\u001b[0;34m.\u001b[0m\u001b[0mexpectation\u001b[0m\u001b[0;34m(\u001b[0m\u001b[0mobservation_seqs\u001b[0m\u001b[0;34m)\u001b[0m\u001b[0;34m\u001b[0m\u001b[0m\n\u001b[0m\u001b[1;32m    320\u001b[0m \u001b[0;34m\u001b[0m\u001b[0m\n\u001b[1;32m    321\u001b[0m             \u001b[0;31m# updates parameters (maximises likelihood)\u001b[0m\u001b[0;34m\u001b[0m\u001b[0;34m\u001b[0m\u001b[0m\n",
      "\u001b[0;32m~/Desktop/hmm-redux/hmm.py\u001b[0m in \u001b[0;36mexpectation\u001b[0;34m(self, observation_seqs)\u001b[0m\n\u001b[1;32m    331\u001b[0m         \u001b[0;32mfor\u001b[0m \u001b[0mseq\u001b[0m \u001b[0;32min\u001b[0m \u001b[0mobservation_seqs\u001b[0m\u001b[0;34m:\u001b[0m\u001b[0;34m\u001b[0m\u001b[0m\n\u001b[1;32m    332\u001b[0m             \u001b[0mparams\u001b[0m\u001b[0;34m.\u001b[0m\u001b[0mappend\u001b[0m\u001b[0;34m(\u001b[0m\u001b[0;34m(\u001b[0m\u001b[0mself\u001b[0m\u001b[0;34m.\u001b[0m\u001b[0mn_states\u001b[0m\u001b[0;34m,\u001b[0m \u001b[0mself\u001b[0m\u001b[0;34m.\u001b[0m\u001b[0ma\u001b[0m\u001b[0;34m,\u001b[0m \u001b[0mself\u001b[0m\u001b[0;34m.\u001b[0m\u001b[0mb\u001b[0m\u001b[0;34m,\u001b[0m \u001b[0mself\u001b[0m\u001b[0;34m.\u001b[0m\u001b[0mtheta\u001b[0m\u001b[0;34m,\u001b[0m \u001b[0mself\u001b[0m\u001b[0;34m.\u001b[0m\u001b[0mpi\u001b[0m\u001b[0;34m,\u001b[0m \u001b[0mself\u001b[0m\u001b[0;34m.\u001b[0m\u001b[0mA\u001b[0m\u001b[0;34m,\u001b[0m \u001b[0mseq\u001b[0m\u001b[0;34m)\u001b[0m\u001b[0;34m)\u001b[0m\u001b[0;34m\u001b[0m\u001b[0m\n\u001b[0;32m--> 333\u001b[0;31m         \u001b[0mresults\u001b[0m \u001b[0;34m=\u001b[0m \u001b[0mself\u001b[0m\u001b[0;34m.\u001b[0m\u001b[0mpool\u001b[0m\u001b[0;34m.\u001b[0m\u001b[0mmap\u001b[0m\u001b[0;34m(\u001b[0m\u001b[0mHMM\u001b[0m\u001b[0;34m.\u001b[0m\u001b[0mforward_backward\u001b[0m\u001b[0;34m,\u001b[0m \u001b[0mparams\u001b[0m\u001b[0;34m)\u001b[0m\u001b[0;34m\u001b[0m\u001b[0m\n\u001b[0m\u001b[1;32m    334\u001b[0m         \u001b[0;31m# results = map(HMM.forward_backward, params)\u001b[0m\u001b[0;34m\u001b[0m\u001b[0;34m\u001b[0m\u001b[0m\n\u001b[1;32m    335\u001b[0m \u001b[0;34m\u001b[0m\u001b[0m\n",
      "\u001b[0;32m/anaconda3/lib/python3.6/multiprocessing/pool.py\u001b[0m in \u001b[0;36mmap\u001b[0;34m(self, func, iterable, chunksize)\u001b[0m\n\u001b[1;32m    264\u001b[0m         \u001b[0;32min\u001b[0m \u001b[0ma\u001b[0m \u001b[0mlist\u001b[0m \u001b[0mthat\u001b[0m \u001b[0;32mis\u001b[0m \u001b[0mreturned\u001b[0m\u001b[0;34m.\u001b[0m\u001b[0;34m\u001b[0m\u001b[0m\n\u001b[1;32m    265\u001b[0m         '''\n\u001b[0;32m--> 266\u001b[0;31m         \u001b[0;32mreturn\u001b[0m \u001b[0mself\u001b[0m\u001b[0;34m.\u001b[0m\u001b[0m_map_async\u001b[0m\u001b[0;34m(\u001b[0m\u001b[0mfunc\u001b[0m\u001b[0;34m,\u001b[0m \u001b[0miterable\u001b[0m\u001b[0;34m,\u001b[0m \u001b[0mmapstar\u001b[0m\u001b[0;34m,\u001b[0m \u001b[0mchunksize\u001b[0m\u001b[0;34m)\u001b[0m\u001b[0;34m.\u001b[0m\u001b[0mget\u001b[0m\u001b[0;34m(\u001b[0m\u001b[0;34m)\u001b[0m\u001b[0;34m\u001b[0m\u001b[0m\n\u001b[0m\u001b[1;32m    267\u001b[0m \u001b[0;34m\u001b[0m\u001b[0m\n\u001b[1;32m    268\u001b[0m     \u001b[0;32mdef\u001b[0m \u001b[0mstarmap\u001b[0m\u001b[0;34m(\u001b[0m\u001b[0mself\u001b[0m\u001b[0;34m,\u001b[0m \u001b[0mfunc\u001b[0m\u001b[0;34m,\u001b[0m \u001b[0miterable\u001b[0m\u001b[0;34m,\u001b[0m \u001b[0mchunksize\u001b[0m\u001b[0;34m=\u001b[0m\u001b[0;32mNone\u001b[0m\u001b[0;34m)\u001b[0m\u001b[0;34m:\u001b[0m\u001b[0;34m\u001b[0m\u001b[0m\n",
      "\u001b[0;32m/anaconda3/lib/python3.6/multiprocessing/pool.py\u001b[0m in \u001b[0;36mget\u001b[0;34m(self, timeout)\u001b[0m\n\u001b[1;32m    636\u001b[0m \u001b[0;34m\u001b[0m\u001b[0m\n\u001b[1;32m    637\u001b[0m     \u001b[0;32mdef\u001b[0m \u001b[0mget\u001b[0m\u001b[0;34m(\u001b[0m\u001b[0mself\u001b[0m\u001b[0;34m,\u001b[0m \u001b[0mtimeout\u001b[0m\u001b[0;34m=\u001b[0m\u001b[0;32mNone\u001b[0m\u001b[0;34m)\u001b[0m\u001b[0;34m:\u001b[0m\u001b[0;34m\u001b[0m\u001b[0m\n\u001b[0;32m--> 638\u001b[0;31m         \u001b[0mself\u001b[0m\u001b[0;34m.\u001b[0m\u001b[0mwait\u001b[0m\u001b[0;34m(\u001b[0m\u001b[0mtimeout\u001b[0m\u001b[0;34m)\u001b[0m\u001b[0;34m\u001b[0m\u001b[0m\n\u001b[0m\u001b[1;32m    639\u001b[0m         \u001b[0;32mif\u001b[0m \u001b[0;32mnot\u001b[0m \u001b[0mself\u001b[0m\u001b[0;34m.\u001b[0m\u001b[0mready\u001b[0m\u001b[0;34m(\u001b[0m\u001b[0;34m)\u001b[0m\u001b[0;34m:\u001b[0m\u001b[0;34m\u001b[0m\u001b[0m\n\u001b[1;32m    640\u001b[0m             \u001b[0;32mraise\u001b[0m \u001b[0mTimeoutError\u001b[0m\u001b[0;34m\u001b[0m\u001b[0m\n",
      "\u001b[0;32m/anaconda3/lib/python3.6/multiprocessing/pool.py\u001b[0m in \u001b[0;36mwait\u001b[0;34m(self, timeout)\u001b[0m\n\u001b[1;32m    633\u001b[0m \u001b[0;34m\u001b[0m\u001b[0m\n\u001b[1;32m    634\u001b[0m     \u001b[0;32mdef\u001b[0m \u001b[0mwait\u001b[0m\u001b[0;34m(\u001b[0m\u001b[0mself\u001b[0m\u001b[0;34m,\u001b[0m \u001b[0mtimeout\u001b[0m\u001b[0;34m=\u001b[0m\u001b[0;32mNone\u001b[0m\u001b[0;34m)\u001b[0m\u001b[0;34m:\u001b[0m\u001b[0;34m\u001b[0m\u001b[0m\n\u001b[0;32m--> 635\u001b[0;31m         \u001b[0mself\u001b[0m\u001b[0;34m.\u001b[0m\u001b[0m_event\u001b[0m\u001b[0;34m.\u001b[0m\u001b[0mwait\u001b[0m\u001b[0;34m(\u001b[0m\u001b[0mtimeout\u001b[0m\u001b[0;34m)\u001b[0m\u001b[0;34m\u001b[0m\u001b[0m\n\u001b[0m\u001b[1;32m    636\u001b[0m \u001b[0;34m\u001b[0m\u001b[0m\n\u001b[1;32m    637\u001b[0m     \u001b[0;32mdef\u001b[0m \u001b[0mget\u001b[0m\u001b[0;34m(\u001b[0m\u001b[0mself\u001b[0m\u001b[0;34m,\u001b[0m \u001b[0mtimeout\u001b[0m\u001b[0;34m=\u001b[0m\u001b[0;32mNone\u001b[0m\u001b[0;34m)\u001b[0m\u001b[0;34m:\u001b[0m\u001b[0;34m\u001b[0m\u001b[0m\n",
      "\u001b[0;32m/anaconda3/lib/python3.6/threading.py\u001b[0m in \u001b[0;36mwait\u001b[0;34m(self, timeout)\u001b[0m\n\u001b[1;32m    549\u001b[0m             \u001b[0msignaled\u001b[0m \u001b[0;34m=\u001b[0m \u001b[0mself\u001b[0m\u001b[0;34m.\u001b[0m\u001b[0m_flag\u001b[0m\u001b[0;34m\u001b[0m\u001b[0m\n\u001b[1;32m    550\u001b[0m             \u001b[0;32mif\u001b[0m \u001b[0;32mnot\u001b[0m \u001b[0msignaled\u001b[0m\u001b[0;34m:\u001b[0m\u001b[0;34m\u001b[0m\u001b[0m\n\u001b[0;32m--> 551\u001b[0;31m                 \u001b[0msignaled\u001b[0m \u001b[0;34m=\u001b[0m \u001b[0mself\u001b[0m\u001b[0;34m.\u001b[0m\u001b[0m_cond\u001b[0m\u001b[0;34m.\u001b[0m\u001b[0mwait\u001b[0m\u001b[0;34m(\u001b[0m\u001b[0mtimeout\u001b[0m\u001b[0;34m)\u001b[0m\u001b[0;34m\u001b[0m\u001b[0m\n\u001b[0m\u001b[1;32m    552\u001b[0m             \u001b[0;32mreturn\u001b[0m \u001b[0msignaled\u001b[0m\u001b[0;34m\u001b[0m\u001b[0m\n\u001b[1;32m    553\u001b[0m \u001b[0;34m\u001b[0m\u001b[0m\n",
      "\u001b[0;32m/anaconda3/lib/python3.6/threading.py\u001b[0m in \u001b[0;36mwait\u001b[0;34m(self, timeout)\u001b[0m\n\u001b[1;32m    293\u001b[0m         \u001b[0;32mtry\u001b[0m\u001b[0;34m:\u001b[0m    \u001b[0;31m# restore state no matter what (e.g., KeyboardInterrupt)\u001b[0m\u001b[0;34m\u001b[0m\u001b[0m\n\u001b[1;32m    294\u001b[0m             \u001b[0;32mif\u001b[0m \u001b[0mtimeout\u001b[0m \u001b[0;32mis\u001b[0m \u001b[0;32mNone\u001b[0m\u001b[0;34m:\u001b[0m\u001b[0;34m\u001b[0m\u001b[0m\n\u001b[0;32m--> 295\u001b[0;31m                 \u001b[0mwaiter\u001b[0m\u001b[0;34m.\u001b[0m\u001b[0macquire\u001b[0m\u001b[0;34m(\u001b[0m\u001b[0;34m)\u001b[0m\u001b[0;34m\u001b[0m\u001b[0m\n\u001b[0m\u001b[1;32m    296\u001b[0m                 \u001b[0mgotit\u001b[0m \u001b[0;34m=\u001b[0m \u001b[0;32mTrue\u001b[0m\u001b[0;34m\u001b[0m\u001b[0m\n\u001b[1;32m    297\u001b[0m             \u001b[0;32melse\u001b[0m\u001b[0;34m:\u001b[0m\u001b[0;34m\u001b[0m\u001b[0m\n",
      "\u001b[0;31mKeyboardInterrupt\u001b[0m: "
     ]
    }
   ],
   "source": [
    "n_states = 15\n",
    "n_items = len(animes)\n",
    "hmm = HMM(n_items, n_states, n_items + 5)\n",
    "\n",
    "hmm.baum_welch(observation_seqs)"
   ]
  },
  {
   "cell_type": "code",
   "execution_count": null,
   "metadata": {},
   "outputs": [],
   "source": [
    "hmm.A[2].sum()"
   ]
  },
  {
   "cell_type": "code",
   "execution_count": null,
   "metadata": {
    "collapsed": true
   },
   "outputs": [],
   "source": []
  }
 ],
 "metadata": {
  "kernelspec": {
   "display_name": "Python 3",
   "language": "python",
   "name": "python3"
  },
  "language_info": {
   "codemirror_mode": {
    "name": "ipython",
    "version": 3
   },
   "file_extension": ".py",
   "mimetype": "text/x-python",
   "name": "python",
   "nbconvert_exporter": "python",
   "pygments_lexer": "ipython3",
   "version": "3.6.3"
  }
 },
 "nbformat": 4,
 "nbformat_minor": 2
}
