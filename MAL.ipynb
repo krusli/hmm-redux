{
 "cells": [
  {
   "cell_type": "code",
   "execution_count": 1,
   "metadata": {},
   "outputs": [],
   "source": [
    "import pandas as pd\n",
    "import numpy as np\n",
    "import matplotlib.pyplot as plt\n",
    "from tqdm import tqdm\n",
    "\n",
    "from hmm import HMM"
   ]
  },
  {
   "cell_type": "code",
   "execution_count": 2,
   "metadata": {
    "collapsed": true
   },
   "outputs": [],
   "source": [
    "anime = pd.read_csv('anime.csv')\n",
    "rating = pd.read_csv('rating.csv')"
   ]
  },
  {
   "cell_type": "code",
   "execution_count": 3,
   "metadata": {
    "collapsed": true
   },
   "outputs": [],
   "source": [
    "anime = anime.sort_values(by='anime_id')\n",
    "anime = anime[anime['members'] > 10000]"
   ]
  },
  {
   "cell_type": "code",
   "execution_count": 4,
   "metadata": {
    "collapsed": true
   },
   "outputs": [],
   "source": [
    "# only consider slice of life anime\n",
    "anime = anime[anime['genre'].str.contains('Slice of Life') == True]"
   ]
  },
  {
   "cell_type": "code",
   "execution_count": 5,
   "metadata": {
    "collapsed": true
   },
   "outputs": [],
   "source": [
    "# aggregrate people's votes -> counts of which users voted more\n",
    "counts = rating.groupby(by='user_id').agg('count')\n",
    "counts = counts.rename(index=str, columns={'anime_id': 'counts'})\n",
    "del counts['rating']\n",
    "counts = counts.reset_index()"
   ]
  },
  {
   "cell_type": "code",
   "execution_count": 6,
   "metadata": {},
   "outputs": [],
   "source": [
    "# only consider anime rated >= 7\n",
    "rating = rating[rating['rating'] >= 7]\n",
    "\n",
    "# people who rated more than n anime\n",
    "top_counts = counts[(counts['counts'] >= 80)]  # ~20k users"
   ]
  },
  {
   "cell_type": "code",
   "execution_count": 7,
   "metadata": {
    "scrolled": true
   },
   "outputs": [
    {
     "data": {
      "text/html": [
       "<div>\n",
       "<style>\n",
       "    .dataframe thead tr:only-child th {\n",
       "        text-align: right;\n",
       "    }\n",
       "\n",
       "    .dataframe thead th {\n",
       "        text-align: left;\n",
       "    }\n",
       "\n",
       "    .dataframe tbody tr th {\n",
       "        vertical-align: top;\n",
       "    }\n",
       "</style>\n",
       "<table border=\"1\" class=\"dataframe\">\n",
       "  <thead>\n",
       "    <tr style=\"text-align: right;\">\n",
       "      <th></th>\n",
       "      <th>user_id</th>\n",
       "      <th>anime_id</th>\n",
       "      <th>rating</th>\n",
       "    </tr>\n",
       "  </thead>\n",
       "  <tbody>\n",
       "    <tr>\n",
       "      <th>47</th>\n",
       "      <td>1</td>\n",
       "      <td>8074</td>\n",
       "      <td>10</td>\n",
       "    </tr>\n",
       "    <tr>\n",
       "      <th>81</th>\n",
       "      <td>1</td>\n",
       "      <td>11617</td>\n",
       "      <td>10</td>\n",
       "    </tr>\n",
       "    <tr>\n",
       "      <th>83</th>\n",
       "      <td>1</td>\n",
       "      <td>11757</td>\n",
       "      <td>10</td>\n",
       "    </tr>\n",
       "    <tr>\n",
       "      <th>101</th>\n",
       "      <td>1</td>\n",
       "      <td>15451</td>\n",
       "      <td>10</td>\n",
       "    </tr>\n",
       "    <tr>\n",
       "      <th>156</th>\n",
       "      <td>3</td>\n",
       "      <td>20</td>\n",
       "      <td>8</td>\n",
       "    </tr>\n",
       "  </tbody>\n",
       "</table>\n",
       "</div>"
      ],
      "text/plain": [
       "     user_id  anime_id  rating\n",
       "47         1      8074      10\n",
       "81         1     11617      10\n",
       "83         1     11757      10\n",
       "101        1     15451      10\n",
       "156        3        20       8"
      ]
     },
     "execution_count": 7,
     "metadata": {},
     "output_type": "execute_result"
    }
   ],
   "source": [
    "# filter only ratings from people who satisfy the above criteria\n",
    "rating_ = rating[rating['user_id'].isin(top_counts['user_id'])]  # filtered rating database - include top users only\n",
    "rating_.head()"
   ]
  },
  {
   "cell_type": "code",
   "execution_count": 8,
   "metadata": {},
   "outputs": [],
   "source": [
    "len(rating_['anime_id'])  # 2653526\n",
    "\n",
    "TIME_STEP = 5000  # anime_ids between time steps. min = 17; max = 34525.\n",
    "\n",
    "# need to group by anime_id\n",
    "rating_ = rating_.assign(time=rating_['anime_id']/TIME_STEP)\n",
    "rating_['time'] = rating_['time'].apply(lambda x: int(x))"
   ]
  },
  {
   "cell_type": "code",
   "execution_count": 9,
   "metadata": {},
   "outputs": [
    {
     "name": "stderr",
     "output_type": "stream",
     "text": [
      "100%|██████████| 1000/1000 [00:09<00:00, 109.97it/s]\n"
     ]
    }
   ],
   "source": [
    "# filtered rating database - include only non-filtered anime\n",
    "rating_ = rating_[rating_['anime_id'].isin(anime['anime_id'])]\n",
    "\n",
    "# randomly sample 1000 users\n",
    "user_ids = rating_['user_id'].unique()\n",
    "user_ids = np.random.choice(user_ids, 1000, replace=False)\n",
    "animes = anime['anime_id'].unique()\n",
    "anime_id_to_index = {}\n",
    "for i in range(len(animes)):\n",
    "    anime = animes[i]\n",
    "    anime_id_to_index[anime] = i\n",
    "    \n",
    "# build an \"observation sequence\"\n",
    "max_time = rating_['time'].max()\n",
    "observation_seqs = np.zeros(shape=(len(user_ids), max_time), dtype=object)\n",
    "for u in range(len(user_ids)):\n",
    "    for t in range(max_time):  \n",
    "        observation_seqs[u][t] = []\n",
    "for u in tqdm(range(len(user_ids))):\n",
    "    rating_per_user = rating_[rating_['user_id'] == user_ids[u]]\n",
    "    for t in range(max_time):\n",
    "        observation_seqs[u][t] = \\\n",
    "            rating_per_user[rating_per_user['time'] == t]['anime_id'].map(anime_id_to_index).tolist()\n",
    "        if len(observation_seqs[u][t]) == 0:\n",
    "             # fill in blanks with random anime -> TODO according to NBD\n",
    "            observation_seqs[u][t] = [anime_id_to_index[np.random.choice(animes)]] "
   ]
  },
  {
   "cell_type": "code",
   "execution_count": 10,
   "metadata": {
    "collapsed": true
   },
   "outputs": [],
   "source": [
    "# hold-out time t anime\n",
    "time_t_anime = []\n",
    "for u in range(len(observation_seqs)):\n",
    "    time_t_anime.append(observation_seqs[u][-1])"
   ]
  },
  {
   "cell_type": "code",
   "execution_count": 11,
   "metadata": {
    "collapsed": true
   },
   "outputs": [],
   "source": [
    "observation_seqs = np.resize(observation_seqs, (len(user_ids), max_time-1))"
   ]
  },
  {
   "cell_type": "code",
   "execution_count": null,
   "metadata": {},
   "outputs": [
    {
     "data": {
      "text/plain": [
       "4.2786"
      ]
     },
     "execution_count": 12,
     "metadata": {},
     "output_type": "execute_result"
    }
   ],
   "source": [
    "# average anime watched per time-step\n",
    "total = 0\n",
    "for seq in observation_seqs:\n",
    "    total += sum([len(x) for x in seq])/len(seq)\n",
    "total /= len(observation_seqs)\n",
    "total"
   ]
  },
  {
   "cell_type": "code",
   "execution_count": null,
   "metadata": {
    "scrolled": false
   },
   "outputs": [
    {
     "name": "stderr",
     "output_type": "stream",
     "text": [
      " 12%|█▏        | 3/25 [01:05<07:59, 21.81s/it]"
     ]
    }
   ],
   "source": [
    "n_states = 15\n",
    "n_items = len(animes)\n",
    "hmm = HMM(n_items, n_states, n_items + 5)\n",
    "\n",
    "hmm.baum_welch(observation_seqs, 25)"
   ]
  },
  {
   "cell_type": "code",
   "execution_count": null,
   "metadata": {},
   "outputs": [],
   "source": [
    "titles = [\n",
    "#     ('Naruto', 20),\n",
    "#     ('Fairy Tail', 6702),\n",
    "#     ('Kami nomi zo Shiru Sekai', 8525),\n",
    "#     ('Kami nomi zo Shiru Sekai II', 10080),\n",
    "#     ('Kami nomi zo Shiru Sekai: Megami-hen', 16706),\n",
    "#     ('Shigatsu wa Kimi no Uso', 23273),\n",
    "    ('Hyouka', 12189),\n",
    "#     ('Shinsekai yori', 13125),\n",
    "#     ('Ore monogatari', 28297),\n",
    "#     ('Gintama', 918),\n",
    "    ('Toradora!', 4224),\n",
    "    ('Nichijou', 10165),\n",
    "    ('Gochuumon wa Usagi desu ka?', 21273),\n",
    "    ('Non Non Biyori', 17549),\n",
    "#     ('Yahari Ore no Seishun Love Comedy wa Machigatteiru.', 14813),\n",
    "    ('K-On!', 5680),\n",
    "    ('K-On!!', 7791),\n",
    "    ('Gochuumon wa Usagi desu ka??', 29787),\n",
    "    ('K-On! Movie', 9617),\n",
    "    ('Tamako Market', 16417),\n",
    "    ('Tamako Love Story', 21647),\n",
    "#     ('Yahari Ore no Seishun Love Comedy wa Machigatteiru. Zoku', 23847),\n",
    "#     ('Hibike! Euphonium', 27989),\n",
    "    ('Non Non Biyori Repeat', 23623),\n",
    "    ('Kiniro Mosaic', 16732),\n",
    "    ('Hello!! Kiniro Mosaic', 23269),\n",
    "    ('So Ra No Wo To', 6802),\n",
    "    ('Lucky*Star', 1887)\n",
    "]\n",
    "title_ids = np.array([[anime_id_to_index[x]] for _, x in titles])"
   ]
  },
  {
   "cell_type": "code",
   "execution_count": null,
   "metadata": {},
   "outputs": [],
   "source": [
    "alphas, _ = hmm.forward(hmm.n_states, hmm.a, hmm.b, hmm.theta, hmm.pi, hmm.A, title_ids)"
   ]
  },
  {
   "cell_type": "code",
   "execution_count": null,
   "metadata": {},
   "outputs": [],
   "source": [
    "results = hmm.item_rank(alphas[:-1])"
   ]
  },
  {
   "cell_type": "code",
   "execution_count": null,
   "metadata": {},
   "outputs": [],
   "source": [
    "results"
   ]
  },
  {
   "cell_type": "code",
   "execution_count": null,
   "metadata": {},
   "outputs": [],
   "source": [
    "anime = pd.read_csv('anime.csv')\n",
    "\n",
    "SoL_anime = anime[(anime['genre'].str.contains('Slice of Life') == True)]\n",
    "SoL_animeids = SoL_anime['anime_id'].tolist()\n",
    "\n",
    "results_name = []\n",
    "for result in results:\n",
    "    anime_id = animes[result]\n",
    "    if anime_id in SoL_animeids:\n",
    "        results_name.append(SoL_anime[SoL_anime['anime_id'] == anime_id]['name'].to_string(index=False))"
   ]
  },
  {
   "cell_type": "code",
   "execution_count": null,
   "metadata": {
    "scrolled": false
   },
   "outputs": [],
   "source": [
    "results_name"
   ]
  },
  {
   "cell_type": "code",
   "execution_count": null,
   "metadata": {},
   "outputs": [],
   "source": [
    "results_name.index('K-On!!')"
   ]
  },
  {
   "cell_type": "code",
   "execution_count": null,
   "metadata": {},
   "outputs": [],
   "source": [
    "results_name.index('K-On!')"
   ]
  },
  {
   "cell_type": "code",
   "execution_count": null,
   "metadata": {
    "scrolled": true
   },
   "outputs": [],
   "source": [
    "results_name.index('Lucky☆Star')"
   ]
  },
  {
   "cell_type": "code",
   "execution_count": null,
   "metadata": {
    "scrolled": true
   },
   "outputs": [],
   "source": [
    "results_name.index('Kiniro Mosaic')"
   ]
  },
  {
   "cell_type": "code",
   "execution_count": null,
   "metadata": {
    "scrolled": true
   },
   "outputs": [],
   "source": [
    "results_name.index('Hello!! Kiniro Mosaic')"
   ]
  },
  {
   "cell_type": "code",
   "execution_count": null,
   "metadata": {
    "collapsed": true
   },
   "outputs": [],
   "source": []
  }
 ],
 "metadata": {
  "kernelspec": {
   "display_name": "Python 3",
   "language": "python",
   "name": "python3"
  },
  "language_info": {
   "codemirror_mode": {
    "name": "ipython",
    "version": 3
   },
   "file_extension": ".py",
   "mimetype": "text/x-python",
   "name": "python",
   "nbconvert_exporter": "python",
   "pygments_lexer": "ipython3",
   "version": "3.6.3"
  }
 },
 "nbformat": 4,
 "nbformat_minor": 2
}
