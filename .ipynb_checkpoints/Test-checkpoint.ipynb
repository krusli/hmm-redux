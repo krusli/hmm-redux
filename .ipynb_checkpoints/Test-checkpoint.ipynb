{
 "cells": [
  {
   "cell_type": "code",
   "execution_count": null,
   "metadata": {
    "collapsed": true
   },
   "outputs": [],
   "source": [
    "# TODO save as test case"
   ]
  },
  {
   "cell_type": "code",
   "execution_count": 1,
   "metadata": {
    "collapsed": true
   },
   "outputs": [],
   "source": [
    "import numpy as np"
   ]
  },
  {
   "cell_type": "code",
   "execution_count": 2,
   "metadata": {
    "collapsed": true
   },
   "outputs": [],
   "source": [
    "from hmm import HMM"
   ]
  },
  {
   "cell_type": "code",
   "execution_count": 3,
   "metadata": {
    "collapsed": true
   },
   "outputs": [],
   "source": [
    "hmm = HMM(15, 3, 100)"
   ]
  },
  {
   "cell_type": "code",
   "execution_count": 4,
   "metadata": {
    "collapsed": true
   },
   "outputs": [],
   "source": [
    "observation_seqs = [\n",
    "    [[0, 3, 2, 7], [1, 4], [2, 5, 6], [0, 0, 2, 3]],  # user 1, only tech\n",
    "    [[0, 1, 2, 8, 9, 2], [3, 1, 4, 1, 5, 9], [8, 10, 12, 7], [1, 2, 1, 1]], # user 2, mixture of tech and fashion. Heavy user.\n",
    "    [[0, 1], [2], [3], []],  # user 3, light user, mainly tech\n",
    "    [[13], [14], [], [0, 1]],  # user 4, power tools, also browsed tech\n",
    "    [[8, 9, 10], [9, 10, 11], [10, 11, 12], [8, 8, 9]]  # only fashion\n",
    "]"
   ]
  },
  {
   "cell_type": "code",
   "execution_count": 5,
   "metadata": {
    "scrolled": false
   },
   "outputs": [
    {
     "name": "stdout",
     "output_type": "stream",
     "text": [
      "Iteration 1\n",
      "delta: 1.5581654478663833\n",
      "Iteration 2\n",
      "delta: 0.16141147232247996\n",
      "Iteration 3\n",
      "delta: 0.018135171766551612\n",
      "Iteration 4\n",
      "delta: 0.0009234512235791401\n"
     ]
    }
   ],
   "source": [
    "hmm.baum_welch(observation_seqs)"
   ]
  },
  {
   "cell_type": "code",
   "execution_count": 6,
   "metadata": {},
   "outputs": [
    {
     "data": {
      "text/plain": [
       "array([[ 0.06710188,  0.06666667,  0.08218207],\n",
       "       [ 0.06697195,  0.06666667,  0.11204637],\n",
       "       [ 0.06677853,  0.06666667,  0.10195774],\n",
       "       [ 0.06674547,  0.06666667,  0.07109026],\n",
       "       [ 0.06647925,  0.06666667,  0.05393698],\n",
       "       [ 0.06646627,  0.06666667,  0.05401963],\n",
       "       [ 0.06644871,  0.06666667,  0.04162732],\n",
       "       [ 0.0664533 ,  0.06666667,  0.05418646],\n",
       "       [ 0.06703609,  0.06666667,  0.07703112],\n",
       "       [ 0.06680602,  0.06666667,  0.08404776],\n",
       "       [ 0.06656014,  0.06666667,  0.07843803],\n",
       "       [ 0.06651878,  0.06666667,  0.05365535],\n",
       "       [ 0.0664774 ,  0.06666667,  0.05397099],\n",
       "       [ 0.06662647,  0.06666667,  0.04069464],\n",
       "       [ 0.06652974,  0.06666667,  0.04111529]])"
      ]
     },
     "execution_count": 6,
     "metadata": {},
     "output_type": "execute_result"
    }
   ],
   "source": [
    "hmm.theta"
   ]
  },
  {
   "cell_type": "code",
   "execution_count": 7,
   "metadata": {
    "collapsed": true
   },
   "outputs": [],
   "source": [
    "alphas, _ = hmm.forward(hmm.n_states, hmm.a, hmm.b, hmm.theta, hmm.pi, hmm.A, [[0, 3, 2, 7], [1, 4], [2, 5, 6], [0, 0, 2, 3]])"
   ]
  },
  {
   "cell_type": "code",
   "execution_count": 8,
   "metadata": {},
   "outputs": [
    {
     "data": {
      "text/plain": [
       "[1, 2, 9, 0, 10, 8, 3, 7, 5, 12, 4, 11, 6, 14, 13]"
      ]
     },
     "execution_count": 8,
     "metadata": {},
     "output_type": "execute_result"
    }
   ],
   "source": [
    "hmm.item_rank(alphas)"
   ]
  },
  {
   "cell_type": "code",
   "execution_count": null,
   "metadata": {
    "collapsed": true
   },
   "outputs": [],
   "source": []
  }
 ],
 "metadata": {
  "kernelspec": {
   "display_name": "Python 3",
   "language": "python",
   "name": "python3"
  },
  "language_info": {
   "codemirror_mode": {
    "name": "ipython",
    "version": 3
   },
   "file_extension": ".py",
   "mimetype": "text/x-python",
   "name": "python",
   "nbconvert_exporter": "python",
   "pygments_lexer": "ipython3",
   "version": "3.6.3"
  }
 },
 "nbformat": 4,
 "nbformat_minor": 2
}
