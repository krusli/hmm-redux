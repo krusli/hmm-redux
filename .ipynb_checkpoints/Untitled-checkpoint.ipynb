{
 "cells": [
  {
   "cell_type": "code",
   "execution_count": 1,
   "metadata": {
    "collapsed": true
   },
   "outputs": [],
   "source": [
    "import numpy as np"
   ]
  },
  {
   "cell_type": "code",
   "execution_count": 2,
   "metadata": {},
   "outputs": [],
   "source": [
    "from hmm import HMM"
   ]
  },
  {
   "cell_type": "code",
   "execution_count": 3,
   "metadata": {},
   "outputs": [],
   "source": [
    "hmm = HMM(15, 3, 1000)"
   ]
  },
  {
   "cell_type": "code",
   "execution_count": 4,
   "metadata": {
    "collapsed": true
   },
   "outputs": [],
   "source": [
    "observation_seqs = [\n",
    "    # NOTE cannot have 0 observations\n",
    "    [[0, 3, 2, 7], [1, 4], [2, 5, 6], [0, 0, 2, 3]],  # user 1, only tech\n",
    "    [[0, 1, 2, 8, 9, 2], [3, 1, 4, 1, 5, 9], [8, 10, 12, 7], [1, 2, 1, 1]], # user 2, mixture of tech and fashion. Heavy user.\n",
    "    [[0, 1], [2], [3], [1]],  # user 3, light user, mainly tech\n",
    "    [[13], [14], [1], [0, 1]],  # user 4, power tools, also browsed tech\n",
    "    [[8, 9, 10], [9, 10, 11], [10, 11, 12], [8, 8, 9]]  # only fashion\n",
    "]"
   ]
  },
  {
   "cell_type": "code",
   "execution_count": 5,
   "metadata": {
    "scrolled": false
   },
   "outputs": [
    {
     "name": "stderr",
     "output_type": "stream",
     "text": [
      "100%|██████████| 20/20 [00:00<00:00, 31.36it/s]\n"
     ]
    }
   ],
   "source": [
    "hmm.baum_welch(observation_seqs)"
   ]
  },
  {
   "cell_type": "code",
   "execution_count": 6,
   "metadata": {},
   "outputs": [
    {
     "data": {
      "text/plain": [
       "array([[ 0.06779362,  0.06707398,  0.06747869],\n",
       "       [ 0.07164404,  0.06875072,  0.0683542 ],\n",
       "       [ 0.06822522,  0.0675309 ,  0.06843406],\n",
       "       [ 0.06741595,  0.0667042 ,  0.06651795],\n",
       "       [ 0.06558794,  0.0663085 ,  0.06616269],\n",
       "       [ 0.06503335,  0.06648747,  0.06625152],\n",
       "       [ 0.06492825,  0.06593697,  0.06590435],\n",
       "       [ 0.06522766,  0.06618973,  0.0661009 ],\n",
       "       [ 0.06638276,  0.06720063,  0.06743303],\n",
       "       [ 0.06642638,  0.06726424,  0.06749524],\n",
       "       [ 0.06694645,  0.06685031,  0.06631704],\n",
       "       [ 0.06599247,  0.06616146,  0.06593566],\n",
       "       [ 0.06554923,  0.06633193,  0.06605187],\n",
       "       [ 0.06634102,  0.06560363,  0.06578559],\n",
       "       [ 0.06650565,  0.06560533,  0.06577721]])"
      ]
     },
     "execution_count": 6,
     "metadata": {},
     "output_type": "execute_result"
    }
   ],
   "source": [
    "hmm.theta"
   ]
  },
  {
   "cell_type": "code",
   "execution_count": 7,
   "metadata": {
    "collapsed": true
   },
   "outputs": [],
   "source": [
    "alphas, _ = hmm.forward(hmm.n_states, hmm.a, hmm.b, hmm.theta, hmm.pi, hmm.A, [[0, 3, 2, 7], [1, 4], [2, 5, 6], [0, 0, 2, 3]])"
   ]
  },
  {
   "cell_type": "code",
   "execution_count": 8,
   "metadata": {},
   "outputs": [
    {
     "data": {
      "text/plain": [
       "[1, 2, 0, 9, 8, 3, 10, 4, 5, 12, 11, 7, 14, 13, 6]"
      ]
     },
     "execution_count": 8,
     "metadata": {},
     "output_type": "execute_result"
    }
   ],
   "source": [
    "hmm.item_rank(alphas)"
   ]
  },
  {
   "cell_type": "code",
   "execution_count": 9,
   "metadata": {},
   "outputs": [
    {
     "data": {
      "text/plain": [
       "1.6676069597177015"
      ]
     },
     "execution_count": 9,
     "metadata": {},
     "output_type": "execute_result"
    }
   ],
   "source": [
    "sum(hmm.pi)"
   ]
  },
  {
   "cell_type": "code",
   "execution_count": 10,
   "metadata": {},
   "outputs": [],
   "source": [
    "alpha, scaling, beta = hmm.forward_backward((hmm.n_states, hmm.a, hmm.b, hmm.theta, hmm.pi, hmm.A, observation_seqs[0]))"
   ]
  },
  {
   "cell_type": "code",
   "execution_count": 11,
   "metadata": {
    "scrolled": true
   },
   "outputs": [
    {
     "data": {
      "text/plain": [
       "array([[ 0.2215865 ,  0.26084956,  0.51756394],\n",
       "       [ 0.71348069,  0.20286696,  0.08365235],\n",
       "       [ 0.5175879 ,  0.31643419,  0.16597791],\n",
       "       [ 0.34465239,  0.39433783,  0.26100978]])"
      ]
     },
     "execution_count": 11,
     "metadata": {},
     "output_type": "execute_result"
    }
   ],
   "source": [
    "alpha"
   ]
  },
  {
   "cell_type": "code",
   "execution_count": 12,
   "metadata": {},
   "outputs": [
    {
     "data": {
      "text/plain": [
       "array([[ 2.14614448,  0.60657486,  0.2500498 ],\n",
       "       [ 1.54501938,  0.95147654,  0.49926354],\n",
       "       [ 1.03135464,  1.18441733,  0.7841025 ],\n",
       "       [ 1.        ,  1.        ,  1.        ]])"
      ]
     },
     "execution_count": 12,
     "metadata": {},
     "output_type": "execute_result"
    }
   ],
   "source": [
    "beta"
   ]
  },
  {
   "cell_type": "code",
   "execution_count": 13,
   "metadata": {},
   "outputs": [
    {
     "data": {
      "text/plain": [
       "array([[ 0.47555665,  0.15822478,  0.12941676],\n",
       "       [ 1.1023415 ,  0.19302315,  0.04176457],\n",
       "       [ 0.53381668,  0.37479014,  0.13014369],\n",
       "       [ 0.34465239,  0.39433783,  0.26100978]])"
      ]
     },
     "execution_count": 13,
     "metadata": {},
     "output_type": "execute_result"
    }
   ],
   "source": [
    "alpha * beta"
   ]
  },
  {
   "cell_type": "code",
   "execution_count": 14,
   "metadata": {},
   "outputs": [
    {
     "data": {
      "text/plain": [
       "array([[ 0.47555665,  0.15822478,  0.12941676],\n",
       "       [ 1.1023415 ,  0.19302315,  0.04176457],\n",
       "       [ 0.53381668,  0.37479014,  0.13014369],\n",
       "       [ 0.34465239,  0.39433783,  0.26100978]])"
      ]
     },
     "execution_count": 14,
     "metadata": {},
     "output_type": "execute_result"
    }
   ],
   "source": [
    "hmm.gamma((alpha, beta))"
   ]
  },
  {
   "cell_type": "code",
   "execution_count": 15,
   "metadata": {},
   "outputs": [
    {
     "data": {
      "text/plain": [
       "1.0"
      ]
     },
     "execution_count": 15,
     "metadata": {},
     "output_type": "execute_result"
    }
   ],
   "source": [
    "np.transpose(hmm.theta)[1].sum()"
   ]
  },
  {
   "cell_type": "code",
   "execution_count": null,
   "metadata": {
    "collapsed": true
   },
   "outputs": [],
   "source": []
  }
 ],
 "metadata": {
  "kernelspec": {
   "display_name": "Python 3",
   "language": "python",
   "name": "python3"
  },
  "language_info": {
   "codemirror_mode": {
    "name": "ipython",
    "version": 3
   },
   "file_extension": ".py",
   "mimetype": "text/x-python",
   "name": "python",
   "nbconvert_exporter": "python",
   "pygments_lexer": "ipython3",
   "version": "3.6.3"
  }
 },
 "nbformat": 4,
 "nbformat_minor": 2
}
