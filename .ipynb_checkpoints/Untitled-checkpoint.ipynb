{
 "cells": [
  {
   "cell_type": "code",
   "execution_count": 1,
   "metadata": {
    "collapsed": true
   },
   "outputs": [],
   "source": [
    "import numpy as np"
   ]
  },
  {
   "cell_type": "code",
   "execution_count": 2,
   "metadata": {},
   "outputs": [],
   "source": [
    "from hmm import HMM"
   ]
  },
  {
   "cell_type": "code",
   "execution_count": 3,
   "metadata": {},
   "outputs": [],
   "source": [
    "hmm = HMM(15, 3, 100)"
   ]
  },
  {
   "cell_type": "code",
   "execution_count": 4,
   "metadata": {
    "collapsed": true
   },
   "outputs": [],
   "source": [
    "observation_seqs = [\n",
    "    # NOTE cannot have 0 observations\n",
    "    [[0, 3, 2, 7], [1, 4], [2, 5, 6], [0, 0, 2, 3]],  # user 1, only tech\n",
    "    [[0, 1, 2, 8, 9, 2], [3, 1, 4, 1, 5, 9], [8, 10, 12, 7], [1, 2, 1, 1]], # user 2, mixture of tech and fashion. Heavy user.\n",
    "    [[0, 1], [2], [3], [1]],  # user 3, light user, mainly tech\n",
    "    [[13], [14], [1], [0, 1]],  # user 4, power tools, also browsed tech\n",
    "    [[8, 9, 10], [9, 10, 11], [10, 11, 12], [8, 8, 9]]  # only fashion\n",
    "]"
   ]
  },
  {
   "cell_type": "code",
   "execution_count": 5,
   "metadata": {
    "scrolled": false
   },
   "outputs": [
    {
     "name": "stderr",
     "output_type": "stream",
     "text": [
      "100%|██████████| 20/20 [00:00<00:00, 27.03it/s]\n"
     ]
    }
   ],
   "source": [
    "hmm.baum_welch(observation_seqs)"
   ]
  },
  {
   "cell_type": "code",
   "execution_count": 6,
   "metadata": {},
   "outputs": [
    {
     "data": {
      "text/plain": [
       "array([[ 0.06788796,  0.06702975,  0.06747118],\n",
       "       [ 0.07268151,  0.06808505,  0.06841608],\n",
       "       [ 0.0685106 ,  0.06737465,  0.06842392],\n",
       "       [ 0.06739144,  0.06675045,  0.06653581],\n",
       "       [ 0.06537131,  0.06646285,  0.06614519],\n",
       "       [ 0.06466306,  0.06657209,  0.06625663],\n",
       "       [ 0.06450822,  0.06618107,  0.06587535],\n",
       "       [ 0.06491589,  0.06630728,  0.06610012],\n",
       "       [ 0.06637773,  0.06699827,  0.06746837],\n",
       "       [ 0.06654449,  0.06706712,  0.06752137],\n",
       "       [ 0.06746397,  0.06653446,  0.06637382],\n",
       "       [ 0.06605953,  0.06622435,  0.06591406],\n",
       "       [ 0.06543891,  0.06636089,  0.06605401],\n",
       "       [ 0.06599548,  0.06602586,  0.06572639],\n",
       "       [ 0.06618989,  0.06602587,  0.0657177 ]])"
      ]
     },
     "execution_count": 6,
     "metadata": {},
     "output_type": "execute_result"
    }
   ],
   "source": [
    "hmm.theta"
   ]
  },
  {
   "cell_type": "code",
   "execution_count": 7,
   "metadata": {
    "collapsed": true
   },
   "outputs": [],
   "source": [
    "alphas, _ = hmm.forward(hmm.n_states, hmm.a, hmm.b, hmm.theta, hmm.pi, hmm.A, [[0, 3, 2, 7], [1, 4], [2, 5, 6], [0, 0, 2, 3]])"
   ]
  },
  {
   "cell_type": "code",
   "execution_count": 8,
   "metadata": {},
   "outputs": [
    {
     "data": {
      "text/plain": [
       "[1, 2, 0, 9, 8, 3, 10, 11, 4, 12, 14, 5, 13, 7, 6]"
      ]
     },
     "execution_count": 8,
     "metadata": {},
     "output_type": "execute_result"
    }
   ],
   "source": [
    "hmm.item_rank(alphas)"
   ]
  },
  {
   "cell_type": "code",
   "execution_count": 9,
   "metadata": {},
   "outputs": [
    {
     "data": {
      "text/plain": [
       "1.667855662406575"
      ]
     },
     "execution_count": 9,
     "metadata": {},
     "output_type": "execute_result"
    }
   ],
   "source": [
    "sum(hmm.pi)"
   ]
  },
  {
   "cell_type": "code",
   "execution_count": 10,
   "metadata": {},
   "outputs": [],
   "source": [
    "alpha, scaling, beta = hmm.forward_backward((hmm.n_states, hmm.a, hmm.b, hmm.theta, hmm.pi, hmm.A, observation_seqs[0]))"
   ]
  },
  {
   "cell_type": "code",
   "execution_count": 11,
   "metadata": {
    "scrolled": true
   },
   "outputs": [
    {
     "data": {
      "text/plain": [
       "array([[ 0.26041011,  0.18494247,  0.55464742],\n",
       "       [ 0.81832943,  0.09157791,  0.09009266],\n",
       "       [ 0.62316769,  0.18980412,  0.18702818],\n",
       "       [ 0.42329472,  0.28790271,  0.28880257]])"
      ]
     },
     "execution_count": 11,
     "metadata": {},
     "output_type": "execute_result"
    }
   ],
   "source": [
    "alpha"
   ]
  },
  {
   "cell_type": "code",
   "execution_count": 12,
   "metadata": {},
   "outputs": [
    {
     "data": {
      "text/plain": [
       "array([[ 2.46145618,  0.27263977,  0.26822218],\n",
       "       [ 1.85320493,  0.57133421,  0.56296995],\n",
       "       [ 1.26246349,  0.86630114,  0.86899945],\n",
       "       [ 1.        ,  1.        ,  1.        ]])"
      ]
     },
     "execution_count": 12,
     "metadata": {},
     "output_type": "execute_result"
    }
   ],
   "source": [
    "beta"
   ]
  },
  {
   "cell_type": "code",
   "execution_count": 13,
   "metadata": {},
   "outputs": [
    {
     "data": {
      "text/plain": [
       "array([[ 0.64098807,  0.05042267,  0.14876874],\n",
       "       [ 1.51653212,  0.05232159,  0.05071946],\n",
       "       [ 0.78672646,  0.16442753,  0.16252739],\n",
       "       [ 0.42329472,  0.28790271,  0.28880257]])"
      ]
     },
     "execution_count": 13,
     "metadata": {},
     "output_type": "execute_result"
    }
   ],
   "source": [
    "alpha * beta"
   ]
  },
  {
   "cell_type": "code",
   "execution_count": 14,
   "metadata": {},
   "outputs": [
    {
     "data": {
      "text/plain": [
       "array([[ 0.64098807,  0.05042267,  0.14876874],\n",
       "       [ 1.51653212,  0.05232159,  0.05071946],\n",
       "       [ 0.78672646,  0.16442753,  0.16252739],\n",
       "       [ 0.42329472,  0.28790271,  0.28880257]])"
      ]
     },
     "execution_count": 14,
     "metadata": {},
     "output_type": "execute_result"
    }
   ],
   "source": [
    "hmm.gamma((alpha, beta))"
   ]
  },
  {
   "cell_type": "code",
   "execution_count": 15,
   "metadata": {},
   "outputs": [
    {
     "data": {
      "text/plain": [
       "1.0"
      ]
     },
     "execution_count": 15,
     "metadata": {},
     "output_type": "execute_result"
    }
   ],
   "source": [
    "np.transpose(hmm.theta)[1].sum()"
   ]
  },
  {
   "cell_type": "code",
   "execution_count": null,
   "metadata": {
    "collapsed": true
   },
   "outputs": [],
   "source": []
  }
 ],
 "metadata": {
  "kernelspec": {
   "display_name": "Python 3",
   "language": "python",
   "name": "python3"
  },
  "language_info": {
   "codemirror_mode": {
    "name": "ipython",
    "version": 3
   },
   "file_extension": ".py",
   "mimetype": "text/x-python",
   "name": "python",
   "nbconvert_exporter": "python",
   "pygments_lexer": "ipython3",
   "version": "3.6.3"
  }
 },
 "nbformat": 4,
 "nbformat_minor": 2
}
