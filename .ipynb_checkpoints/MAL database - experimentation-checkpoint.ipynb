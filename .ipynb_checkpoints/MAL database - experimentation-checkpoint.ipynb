{
 "cells": [
  {
   "cell_type": "code",
   "execution_count": 1,
   "metadata": {
    "collapsed": true
   },
   "outputs": [],
   "source": [
    "import pandas as pd\n",
    "import numpy as np\n",
    "from pprint import pprint\n",
    "import importlib"
   ]
  },
  {
   "cell_type": "code",
   "execution_count": 2,
   "metadata": {
    "collapsed": true
   },
   "outputs": [],
   "source": [
    "anime = pd.read_csv('anime.csv')\n",
    "rating = pd.read_csv('rating.csv')"
   ]
  },
  {
   "cell_type": "code",
   "execution_count": 3,
   "metadata": {
    "collapsed": true
   },
   "outputs": [],
   "source": [
    "# remove ecchi anime\n",
    "anime = anime[anime['genre'].str.contains('Ecchi') == False]\n",
    "anime = anime[anime['genre'].str.contains('Slice of Life') == True]  # only SoL allowed."
   ]
  },
  {
   "cell_type": "code",
   "execution_count": 4,
   "metadata": {
    "collapsed": true
   },
   "outputs": [],
   "source": [
    "rating = rating[rating['rating'] >= 9]  # only include animes rated 9 or above"
   ]
  },
  {
   "cell_type": "code",
   "execution_count": 5,
   "metadata": {
    "collapsed": true,
    "scrolled": true
   },
   "outputs": [],
   "source": [
    "counts = rating.groupby(by='user_id').agg('count')\n",
    "counts = counts.rename(index=str, columns={'anime_id': 'counts'})\n",
    "del counts['rating']\n",
    "counts = counts.reset_index()"
   ]
  },
  {
   "cell_type": "code",
   "execution_count": 6,
   "metadata": {
    "scrolled": true
   },
   "outputs": [
    {
     "data": {
      "text/html": [
       "<div>\n",
       "<table border=\"1\" class=\"dataframe\">\n",
       "  <thead>\n",
       "    <tr style=\"text-align: right;\">\n",
       "      <th></th>\n",
       "      <th>counts</th>\n",
       "    </tr>\n",
       "  </thead>\n",
       "  <tbody>\n",
       "    <tr>\n",
       "      <th>count</th>\n",
       "      <td>67754.000000</td>\n",
       "    </tr>\n",
       "    <tr>\n",
       "      <th>mean</th>\n",
       "      <td>32.615211</td>\n",
       "    </tr>\n",
       "    <tr>\n",
       "      <th>std</th>\n",
       "      <td>46.379160</td>\n",
       "    </tr>\n",
       "    <tr>\n",
       "      <th>min</th>\n",
       "      <td>1.000000</td>\n",
       "    </tr>\n",
       "    <tr>\n",
       "      <th>25%</th>\n",
       "      <td>6.000000</td>\n",
       "    </tr>\n",
       "    <tr>\n",
       "      <th>50%</th>\n",
       "      <td>18.000000</td>\n",
       "    </tr>\n",
       "    <tr>\n",
       "      <th>75%</th>\n",
       "      <td>41.000000</td>\n",
       "    </tr>\n",
       "    <tr>\n",
       "      <th>max</th>\n",
       "      <td>1469.000000</td>\n",
       "    </tr>\n",
       "  </tbody>\n",
       "</table>\n",
       "</div>"
      ],
      "text/plain": [
       "             counts\n",
       "count  67754.000000\n",
       "mean      32.615211\n",
       "std       46.379160\n",
       "min        1.000000\n",
       "25%        6.000000\n",
       "50%       18.000000\n",
       "75%       41.000000\n",
       "max     1469.000000"
      ]
     },
     "execution_count": 6,
     "metadata": {},
     "output_type": "execute_result"
    }
   ],
   "source": [
    "counts.describe()"
   ]
  },
  {
   "cell_type": "code",
   "execution_count": 7,
   "metadata": {},
   "outputs": [
    {
     "data": {
      "text/plain": [
       "7325"
      ]
     },
     "execution_count": 7,
     "metadata": {},
     "output_type": "execute_result"
    }
   ],
   "source": [
    "# top_counts = counts\n",
    "# TODO: try including more users in the sample - casuals too!\n",
    "top_counts = counts[(counts['counts'] >= 75)]\n",
    "len(top_counts)"
   ]
  },
  {
   "cell_type": "code",
   "execution_count": 8,
   "metadata": {},
   "outputs": [
    {
     "data": {
      "text/html": [
       "<div>\n",
       "<table border=\"1\" class=\"dataframe\">\n",
       "  <thead>\n",
       "    <tr style=\"text-align: right;\">\n",
       "      <th></th>\n",
       "      <th>user_id</th>\n",
       "      <th>anime_id</th>\n",
       "      <th>rating</th>\n",
       "    </tr>\n",
       "  </thead>\n",
       "  <tbody>\n",
       "    <tr>\n",
       "      <th>4392</th>\n",
       "      <td>46</td>\n",
       "      <td>1</td>\n",
       "      <td>10</td>\n",
       "    </tr>\n",
       "    <tr>\n",
       "      <th>4398</th>\n",
       "      <td>46</td>\n",
       "      <td>164</td>\n",
       "      <td>10</td>\n",
       "    </tr>\n",
       "    <tr>\n",
       "      <th>4399</th>\n",
       "      <td>46</td>\n",
       "      <td>199</td>\n",
       "      <td>10</td>\n",
       "    </tr>\n",
       "    <tr>\n",
       "      <th>4400</th>\n",
       "      <td>46</td>\n",
       "      <td>202</td>\n",
       "      <td>10</td>\n",
       "    </tr>\n",
       "    <tr>\n",
       "      <th>4402</th>\n",
       "      <td>46</td>\n",
       "      <td>242</td>\n",
       "      <td>10</td>\n",
       "    </tr>\n",
       "  </tbody>\n",
       "</table>\n",
       "</div>"
      ],
      "text/plain": [
       "      user_id  anime_id  rating\n",
       "4392       46         1      10\n",
       "4398       46       164      10\n",
       "4399       46       199      10\n",
       "4400       46       202      10\n",
       "4402       46       242      10"
      ]
     },
     "execution_count": 8,
     "metadata": {},
     "output_type": "execute_result"
    }
   ],
   "source": [
    "rating_ = rating[rating['user_id'].isin(top_counts['user_id'])]  # filtered rating database - include top users only\n",
    "rating_.head()"
   ]
  },
  {
   "cell_type": "code",
   "execution_count": 9,
   "metadata": {
    "collapsed": true
   },
   "outputs": [],
   "source": [
    "len(rating_['anime_id'])  # 2653526\n",
    "\n",
    "TIME_STEP = 2000  # anime_ids between time steps\n",
    "\n",
    "# need to group by anime_id\n",
    "rating_ = rating_.assign(time=rating_['anime_id']/TIME_STEP)\n",
    "rating_['time'] = rating_['time'].apply(lambda x: int(x))"
   ]
  },
  {
   "cell_type": "code",
   "execution_count": 10,
   "metadata": {
    "collapsed": true
   },
   "outputs": [],
   "source": [
    "anime_sort = anime.sort_values(by='anime_id')\n",
    "anime_sort = anime_sort[anime_sort['members'] > 10000]"
   ]
  },
  {
   "cell_type": "code",
   "execution_count": 11,
   "metadata": {},
   "outputs": [
    {
     "data": {
      "text/html": [
       "<div>\n",
       "<table border=\"1\" class=\"dataframe\">\n",
       "  <thead>\n",
       "    <tr style=\"text-align: right;\">\n",
       "      <th></th>\n",
       "      <th>anime_id</th>\n",
       "      <th>rating</th>\n",
       "      <th>members</th>\n",
       "    </tr>\n",
       "  </thead>\n",
       "  <tbody>\n",
       "    <tr>\n",
       "      <th>count</th>\n",
       "      <td>402.000000</td>\n",
       "      <td>400.000000</td>\n",
       "      <td>402.000000</td>\n",
       "    </tr>\n",
       "    <tr>\n",
       "      <th>mean</th>\n",
       "      <td>13841.330846</td>\n",
       "      <td>7.509050</td>\n",
       "      <td>73216.231343</td>\n",
       "    </tr>\n",
       "    <tr>\n",
       "      <th>std</th>\n",
       "      <td>10781.173876</td>\n",
       "      <td>0.635221</td>\n",
       "      <td>89512.522161</td>\n",
       "    </tr>\n",
       "    <tr>\n",
       "      <th>min</th>\n",
       "      <td>17.000000</td>\n",
       "      <td>4.800000</td>\n",
       "      <td>10069.000000</td>\n",
       "    </tr>\n",
       "    <tr>\n",
       "      <th>25%</th>\n",
       "      <td>3186.750000</td>\n",
       "      <td>7.110000</td>\n",
       "      <td>19359.000000</td>\n",
       "    </tr>\n",
       "    <tr>\n",
       "      <th>50%</th>\n",
       "      <td>12070.000000</td>\n",
       "      <td>7.550000</td>\n",
       "      <td>37928.500000</td>\n",
       "    </tr>\n",
       "    <tr>\n",
       "      <th>75%</th>\n",
       "      <td>22658.000000</td>\n",
       "      <td>7.932500</td>\n",
       "      <td>91666.750000</td>\n",
       "    </tr>\n",
       "    <tr>\n",
       "      <th>max</th>\n",
       "      <td>34277.000000</td>\n",
       "      <td>9.060000</td>\n",
       "      <td>633817.000000</td>\n",
       "    </tr>\n",
       "  </tbody>\n",
       "</table>\n",
       "</div>"
      ],
      "text/plain": [
       "           anime_id      rating        members\n",
       "count    402.000000  400.000000     402.000000\n",
       "mean   13841.330846    7.509050   73216.231343\n",
       "std    10781.173876    0.635221   89512.522161\n",
       "min       17.000000    4.800000   10069.000000\n",
       "25%     3186.750000    7.110000   19359.000000\n",
       "50%    12070.000000    7.550000   37928.500000\n",
       "75%    22658.000000    7.932500   91666.750000\n",
       "max    34277.000000    9.060000  633817.000000"
      ]
     },
     "execution_count": 11,
     "metadata": {},
     "output_type": "execute_result"
    }
   ],
   "source": [
    "anime_sort.describe()"
   ]
  },
  {
   "cell_type": "code",
   "execution_count": 12,
   "metadata": {
    "scrolled": false
   },
   "outputs": [
    {
     "name": "stdout",
     "output_type": "stream",
     "text": [
      "402\n",
      "u: 0\n",
      "u: 100\n"
     ]
    }
   ],
   "source": [
    "# rating_ = rating_[rating_['user_id'] < 3000]\n",
    "rating_ = rating_[rating_['anime_id'].isin(anime_sort['anime_id'])]  # filtered rating database - include only non-filtered anime\n",
    "\n",
    "user_ids = rating_['user_id'].unique()\n",
    "max_time = rating_['time'].max()\n",
    "\n",
    "# random sampling\n",
    "user_ids = np.random.choice(user_ids, 200, replace=False)\n",
    "\n",
    "# print(len(user_ids))\n",
    "\n",
    "animes = anime_sort['anime_id'].unique()\n",
    "anime_id_to_index = {}\n",
    "for i in range(len(animes)):\n",
    "    anime = animes[i]\n",
    "    anime_id_to_index[anime] = i\n",
    "    \n",
    "print(len(animes))\n",
    "\n",
    "# observation_seqs = [[[] for t in range(time)] for u in user_id]\n",
    "observation_seqs = np.zeros(shape=(len(user_ids), max_time), dtype=object)\n",
    "\n",
    "for u in range(len(user_ids)):\n",
    "    for t in range(max_time):  \n",
    "        observation_seqs[u][t] = []\n",
    "for u in range(len(user_ids)):\n",
    "    if u%100 == 0:\n",
    "        print('u: {}'.format(u))\n",
    "    rating_per_user = rating_[rating_['user_id'] == user_ids[u]]\n",
    "#     rating_per_user = rating_[rating_['user_id'] == user_ids[u]].sample(frac=1)  # shuffle\n",
    "    for t in range(max_time):\n",
    "        observation_seqs[u][t] = rating_per_user[rating_per_user['time'] == t]['anime_id'].map(anime_id_to_index).tolist()\n",
    "        if len(observation_seqs[u][t]) == 0:\n",
    "            observation_seqs[u][t] = [anime_id_to_index[np.random.choice(animes)]]  # fill in blanks with a random anime.\n",
    "\n",
    "# observation_seqs"
   ]
  },
  {
   "cell_type": "code",
   "execution_count": 13,
   "metadata": {
    "collapsed": true
   },
   "outputs": [],
   "source": [
    "time_t_anime = []\n",
    "for u in range(len(observation_seqs)):\n",
    "    time_t_anime.append(observation_seqs[u][-1])"
   ]
  },
  {
   "cell_type": "code",
   "execution_count": 14,
   "metadata": {},
   "outputs": [
    {
     "data": {
      "text/plain": [
       "16"
      ]
     },
     "execution_count": 14,
     "metadata": {},
     "output_type": "execute_result"
    }
   ],
   "source": [
    "len(observation_seqs[0])"
   ]
  },
  {
   "cell_type": "code",
   "execution_count": 15,
   "metadata": {
    "collapsed": true
   },
   "outputs": [],
   "source": [
    "observation_seqs_2 = np.resize(observation_seqs, (len(user_ids), max_time-1))"
   ]
  },
  {
   "cell_type": "code",
   "execution_count": 16,
   "metadata": {
    "scrolled": true
   },
   "outputs": [
    {
     "data": {
      "text/plain": [
       "array([[29, 71], [230], [110], [133], [324], [300], [202, 204], [281],\n",
       "       [245], [382], [297], [301], [319], [10], [117]], dtype=object)"
      ]
     },
     "execution_count": 16,
     "metadata": {},
     "output_type": "execute_result"
    }
   ],
   "source": [
    "observation_seqs_2[0]"
   ]
  },
  {
   "cell_type": "code",
   "execution_count": 17,
   "metadata": {},
   "outputs": [
    {
     "data": {
      "text/plain": [
       "1.7556666666666652"
      ]
     },
     "execution_count": 17,
     "metadata": {},
     "output_type": "execute_result"
    }
   ],
   "source": [
    "total = 0\n",
    "for seq in observation_seqs_2:\n",
    "    total += sum([len(x) for x in seq])/len(seq)\n",
    "total /= len(observation_seqs_2)\n",
    "total"
   ]
  },
  {
   "cell_type": "code",
   "execution_count": 18,
   "metadata": {},
   "outputs": [
    {
     "name": "stdout",
     "output_type": "stream",
     "text": [
      "K: 20, I: 402\n"
     ]
    }
   ],
   "source": [
    "K = 20  # no of states\n",
    "I = len(animes)  # no of items\n",
    "\n",
    "print('K: {}, I: {}'.format(K, I))\n",
    "\n",
    "import random\n",
    "\n",
    "pi = [random.uniform(0, 1) for k in range(K)]  # starting probabilities\n",
    "total = sum(pi)\n",
    "pi = [entry/total for entry in pi]  # normalisation to sum to 1\n",
    "\n",
    "A = []  # transition probabilities\n",
    "for i in range(K):\n",
    "    A_i = [random.uniform(0, 1) for k in range(K)]\n",
    "    total = sum(pi)\n",
    "    A.append([entry/total for entry in A_i])\n",
    "\n",
    "# NBD parameters per state\n",
    "a = [random.uniform(3, 9) for k in range(K)]\n",
    "b = [random.uniform(0, 10) for k in range(K)]\n",
    "\n",
    "# multinomial probabilities per state\n",
    "theta_per_state = []\n",
    "for k in range(K):\n",
    "    theta_i_K = [random.uniform(0, 1) for i in range(I)]\n",
    "    total = sum(theta_i_K)\n",
    "    theta_per_state.append([entry/total for entry in theta_i_K])\n",
    "\n",
    "theta = np.zeros(shape=(I, K))\n",
    "for i in range(I):\n",
    "    for k in range(K):\n",
    "        theta[i][k] = theta_per_state[k][i]"
   ]
  },
  {
   "cell_type": "code",
   "execution_count": 21,
   "metadata": {
    "scrolled": false
   },
   "outputs": [
    {
     "name": "stdout",
     "output_type": "stream",
     "text": [
      "\n",
      "Iteration 1\n",
      "forward-backward\n",
      "2017-07-30 19:34:18.218355\n",
      "Expectation\n",
      "gamma\n",
      "2017-07-30 19:34:31.253390\n",
      "xi\n",
      "2017-07-30 19:34:31.392333\n",
      "Maximisation\n",
      "pi\n",
      "2017-07-30 19:34:39.042969\n",
      "A\n",
      "2017-07-30 19:34:39.113005\n",
      "theta\n",
      "2017-07-30 19:34:39.136446\n",
      "a, b\n",
      "2017-07-30 19:34:40.828785\n",
      "delta: 284.2861777057777\n",
      "\n",
      "Iteration 2\n",
      "forward-backward\n",
      "2017-07-30 19:34:42.992885\n",
      "Expectation\n",
      "gamma\n",
      "2017-07-30 19:34:56.488951\n",
      "xi\n",
      "2017-07-30 19:34:56.628168\n",
      "Maximisation\n",
      "pi\n",
      "2017-07-30 19:35:04.608159\n",
      "A\n",
      "2017-07-30 19:35:04.675994\n",
      "theta\n",
      "2017-07-30 19:35:04.696357\n",
      "a, b\n",
      "2017-07-30 19:35:06.427984\n",
      "delta: 38.360428730173666\n",
      "\n",
      "Iteration 3\n",
      "forward-backward\n",
      "2017-07-30 19:35:08.667081\n",
      "Expectation\n",
      "gamma\n",
      "2017-07-30 19:35:22.249898\n",
      "xi\n",
      "2017-07-30 19:35:22.391457\n",
      "Maximisation\n",
      "pi\n",
      "2017-07-30 19:35:31.239904\n",
      "A\n",
      "2017-07-30 19:35:31.314994\n",
      "theta\n",
      "2017-07-30 19:35:31.338918\n",
      "a, b\n",
      "2017-07-30 19:35:32.857518\n",
      "delta: 25.736743137605266\n",
      "\n",
      "Iteration 4\n",
      "forward-backward\n",
      "2017-07-30 19:35:35.090104\n",
      "Expectation\n",
      "gamma\n",
      "2017-07-30 19:35:49.176678\n",
      "xi\n",
      "2017-07-30 19:35:49.424283\n",
      "Maximisation\n",
      "pi\n",
      "2017-07-30 19:35:57.581119\n",
      "A\n",
      "2017-07-30 19:35:57.657825\n",
      "theta\n",
      "2017-07-30 19:35:57.682362\n",
      "a, b\n",
      "2017-07-30 19:35:59.484168\n",
      "delta: 25.14360786762931\n",
      "\n",
      "Iteration 5\n",
      "forward-backward\n",
      "2017-07-30 19:36:01.840297\n",
      "Expectation\n",
      "gamma\n",
      "2017-07-30 19:36:16.903796\n",
      "xi\n",
      "2017-07-30 19:36:17.045767\n",
      "Maximisation\n",
      "pi\n",
      "2017-07-30 19:36:25.106554\n",
      "A\n",
      "2017-07-30 19:36:25.187303\n",
      "theta\n",
      "2017-07-30 19:36:25.211293\n",
      "a, b\n",
      "2017-07-30 19:36:27.150751\n",
      "delta: 28.088258120583642\n",
      "\n",
      "Iteration 6\n",
      "forward-backward\n",
      "2017-07-30 19:36:29.398473\n",
      "Expectation\n",
      "gamma\n",
      "2017-07-30 19:36:43.884612\n",
      "xi\n",
      "2017-07-30 19:36:44.130697\n",
      "Maximisation\n",
      "pi\n",
      "2017-07-30 19:36:52.598607\n",
      "A\n",
      "2017-07-30 19:36:52.672025\n",
      "theta\n",
      "2017-07-30 19:36:52.695648\n",
      "a, b\n",
      "2017-07-30 19:36:54.702218\n",
      "delta: 31.865495313951286\n",
      "\n",
      "Iteration 7\n",
      "forward-backward\n",
      "2017-07-30 19:36:56.998992\n",
      "Expectation\n",
      "gamma\n",
      "2017-07-30 19:37:11.636263\n",
      "xi\n",
      "2017-07-30 19:37:11.881540\n",
      "Maximisation\n",
      "pi\n",
      "2017-07-30 19:37:20.101552\n",
      "A\n",
      "2017-07-30 19:37:20.179267\n",
      "theta\n",
      "2017-07-30 19:37:20.203348\n",
      "delta: 1.0697077289662744\n",
      "\n",
      "Iteration 8\n",
      "forward-backward\n",
      "2017-07-30 19:37:22.014344\n",
      "Expectation\n",
      "gamma\n",
      "2017-07-30 19:37:36.647180\n",
      "xi\n",
      "2017-07-30 19:37:36.891559\n",
      "Maximisation\n",
      "pi\n",
      "2017-07-30 19:37:45.857816\n",
      "A\n",
      "2017-07-30 19:37:45.936857\n",
      "theta\n",
      "2017-07-30 19:37:45.960874\n",
      "delta: 0.6501216375063639\n",
      "\n",
      "Iteration 9\n",
      "forward-backward\n",
      "2017-07-30 19:37:47.756652\n",
      "Expectation\n",
      "gamma\n",
      "2017-07-30 19:38:03.851919\n",
      "xi\n",
      "2017-07-30 19:38:04.000022\n",
      "Maximisation\n",
      "pi\n",
      "2017-07-30 19:38:12.609358\n",
      "A\n",
      "2017-07-30 19:38:12.687292\n",
      "theta\n",
      "2017-07-30 19:38:12.710462\n",
      "delta: 0.4615200374581219\n",
      "\n",
      "Iteration 10\n",
      "forward-backward\n",
      "2017-07-30 19:38:14.370064\n",
      "Expectation\n",
      "gamma\n",
      "2017-07-30 19:38:29.371123\n",
      "xi\n",
      "2017-07-30 19:38:29.622340\n",
      "Maximisation\n",
      "pi\n",
      "2017-07-30 19:38:38.076602\n",
      "A\n",
      "2017-07-30 19:38:38.161947\n",
      "theta\n",
      "2017-07-30 19:38:38.188826\n",
      "delta: 0.40766702837043517\n",
      "\n",
      "Iteration 11\n",
      "forward-backward\n",
      "2017-07-30 19:38:39.951310\n",
      "Expectation\n",
      "gamma\n",
      "2017-07-30 19:38:55.034085\n",
      "xi\n",
      "2017-07-30 19:38:55.185861\n",
      "Maximisation\n",
      "pi\n",
      "2017-07-30 19:39:04.093558\n",
      "A\n",
      "2017-07-30 19:39:04.175135\n",
      "theta\n",
      "2017-07-30 19:39:04.199639\n",
      "delta: 0.2463941308382696\n",
      "\n",
      "Iteration 12\n",
      "forward-backward\n",
      "2017-07-30 19:39:05.742737\n",
      "Expectation\n",
      "gamma\n",
      "2017-07-30 19:39:20.801092\n",
      "xi\n",
      "2017-07-30 19:39:21.048245\n",
      "Maximisation\n",
      "pi\n",
      "2017-07-30 19:39:29.532121\n",
      "A\n",
      "2017-07-30 19:39:29.612704\n",
      "theta\n",
      "2017-07-30 19:39:29.637195\n",
      "delta: 0.16596230896546632\n",
      "\n",
      "Iteration 13\n",
      "forward-backward\n",
      "2017-07-30 19:39:31.399679\n",
      "Expectation\n",
      "gamma\n",
      "2017-07-30 19:39:45.907967\n",
      "xi\n",
      "2017-07-30 19:39:46.156552\n",
      "Maximisation\n",
      "pi\n",
      "2017-07-30 19:39:54.603327\n",
      "A\n",
      "2017-07-30 19:39:54.684819\n",
      "theta\n",
      "2017-07-30 19:39:54.708440\n",
      "delta: 0.12717682078023784\n",
      "\n",
      "Iteration 14\n",
      "forward-backward\n",
      "2017-07-30 19:39:56.475704\n",
      "Expectation\n",
      "gamma\n",
      "2017-07-30 19:40:11.364727\n",
      "xi\n",
      "2017-07-30 19:40:11.508899\n",
      "Maximisation\n",
      "pi\n",
      "2017-07-30 19:40:20.143606\n",
      "A\n",
      "2017-07-30 19:40:20.217724\n",
      "theta\n",
      "2017-07-30 19:40:20.242846\n",
      "delta: 0.10003864727491484\n",
      "\n",
      "Iteration 15\n",
      "forward-backward\n",
      "2017-07-30 19:40:21.870890\n",
      "Expectation\n",
      "gamma\n",
      "2017-07-30 19:40:36.662915\n",
      "xi\n",
      "2017-07-30 19:40:36.912609\n",
      "Maximisation\n",
      "pi\n",
      "2017-07-30 19:40:45.269588\n",
      "A\n",
      "2017-07-30 19:40:45.348711\n",
      "theta\n",
      "2017-07-30 19:40:45.372522\n",
      "delta: 0.07736065164615644\n",
      "\n",
      "Iteration 16\n",
      "forward-backward\n",
      "2017-07-30 19:40:46.991678\n",
      "Expectation\n",
      "gamma\n",
      "2017-07-30 19:41:02.009682\n",
      "xi\n",
      "2017-07-30 19:41:02.256931\n",
      "Maximisation\n",
      "pi\n",
      "2017-07-30 19:41:10.793730\n",
      "A\n",
      "2017-07-30 19:41:10.874705\n",
      "theta\n",
      "2017-07-30 19:41:10.900504\n",
      "delta: 0.06253801969803714\n",
      "\n",
      "Iteration 17\n",
      "forward-backward\n",
      "2017-07-30 19:41:12.535642\n",
      "Expectation\n",
      "gamma\n",
      "2017-07-30 19:41:27.741077\n",
      "xi\n",
      "2017-07-30 19:41:27.990140\n",
      "Maximisation\n",
      "pi\n",
      "2017-07-30 19:41:36.251270\n",
      "A\n",
      "2017-07-30 19:41:36.331864\n",
      "theta\n",
      "2017-07-30 19:41:36.357103\n",
      "delta: 0.05841693875189263\n",
      "\n",
      "Iteration 18\n",
      "forward-backward\n",
      "2017-07-30 19:41:38.102005\n",
      "Expectation\n",
      "gamma\n",
      "2017-07-30 19:41:53.312457\n",
      "xi\n",
      "2017-07-30 19:41:53.559518\n",
      "Maximisation\n",
      "pi\n",
      "2017-07-30 19:42:01.910527\n",
      "A\n",
      "2017-07-30 19:42:01.991193\n",
      "theta\n",
      "2017-07-30 19:42:02.015363\n",
      "delta: 0.06032712377336623\n",
      "\n",
      "Iteration 19\n",
      "forward-backward\n",
      "2017-07-30 19:42:03.857557\n",
      "Expectation\n",
      "gamma\n",
      "2017-07-30 19:42:19.955056\n",
      "xi\n",
      "2017-07-30 19:42:20.203463\n",
      "Maximisation\n",
      "pi\n",
      "2017-07-30 19:42:28.568369\n",
      "A\n",
      "2017-07-30 19:42:28.648416\n",
      "theta\n",
      "2017-07-30 19:42:28.672671\n",
      "delta: 0.06950327208144637\n",
      "\n",
      "Iteration 20\n",
      "forward-backward\n",
      "2017-07-30 19:42:30.298711\n",
      "Expectation\n",
      "gamma\n",
      "2017-07-30 19:42:45.661705\n",
      "xi\n",
      "2017-07-30 19:42:45.914415\n",
      "Maximisation\n",
      "pi\n",
      "2017-07-30 19:42:54.057650\n",
      "A\n",
      "2017-07-30 19:42:54.135409\n",
      "theta\n",
      "2017-07-30 19:42:54.158313\n",
      "delta: 0.08990185750111974\n",
      "\n",
      "Iteration 21\n",
      "forward-backward\n",
      "2017-07-30 19:42:55.894043\n",
      "Expectation\n",
      "gamma\n",
      "2017-07-30 19:43:10.788287\n",
      "xi\n",
      "2017-07-30 19:43:11.038041\n",
      "Maximisation\n",
      "pi\n",
      "2017-07-30 19:43:19.774796\n",
      "A\n",
      "2017-07-30 19:43:19.847019\n",
      "theta\n",
      "2017-07-30 19:43:19.869304\n",
      "delta: 0.12723580294647896\n",
      "\n",
      "Iteration 22\n",
      "forward-backward\n",
      "2017-07-30 19:43:21.539981\n",
      "Expectation\n",
      "gamma\n",
      "2017-07-30 19:43:36.439075\n",
      "xi\n",
      "2017-07-30 19:43:36.691269\n",
      "Maximisation\n",
      "pi\n",
      "2017-07-30 19:43:45.357671\n",
      "A\n",
      "2017-07-30 19:43:45.435289\n",
      "theta\n",
      "2017-07-30 19:43:45.458022\n",
      "delta: 0.18232425349377243\n",
      "\n",
      "Iteration 23\n",
      "forward-backward\n",
      "2017-07-30 19:43:47.324055\n",
      "Expectation\n",
      "gamma\n",
      "2017-07-30 19:44:02.153439\n",
      "xi\n",
      "2017-07-30 19:44:02.399774\n",
      "Maximisation\n",
      "pi\n",
      "2017-07-30 19:44:11.055299\n",
      "A\n",
      "2017-07-30 19:44:11.137211\n",
      "theta\n",
      "2017-07-30 19:44:11.160123\n",
      "delta: 0.26797361485035376\n",
      "\n",
      "Iteration 24\n",
      "forward-backward\n",
      "2017-07-30 19:44:12.699744\n",
      "Expectation\n",
      "gamma\n",
      "2017-07-30 19:44:27.204387\n",
      "xi\n",
      "2017-07-30 19:44:27.451945\n",
      "Maximisation\n",
      "pi\n",
      "2017-07-30 19:44:36.013293\n",
      "A\n",
      "2017-07-30 19:44:36.091522\n",
      "theta\n",
      "2017-07-30 19:44:36.115898\n",
      "delta: 0.35298147699722526\n",
      "\n",
      "Iteration 25\n",
      "forward-backward\n",
      "2017-07-30 19:44:37.890571\n",
      "Expectation\n",
      "gamma\n",
      "2017-07-30 19:44:52.784668\n",
      "xi\n",
      "2017-07-30 19:44:53.028124\n",
      "Maximisation\n",
      "pi\n",
      "2017-07-30 19:45:01.511603\n",
      "A\n",
      "2017-07-30 19:45:01.590998\n",
      "theta\n",
      "2017-07-30 19:45:01.614076\n",
      "delta: 0.2988265384991851\n",
      "\n",
      "Iteration 26\n",
      "forward-backward\n",
      "2017-07-30 19:45:03.366771\n",
      "Expectation\n",
      "gamma\n",
      "2017-07-30 19:45:17.964841\n",
      "xi\n",
      "2017-07-30 19:45:18.211121\n",
      "Maximisation\n",
      "pi\n",
      "2017-07-30 19:45:26.659874\n",
      "A\n",
      "2017-07-30 19:45:26.736778\n",
      "theta\n",
      "2017-07-30 19:45:26.758949\n",
      "delta: 0.16659886142045385\n",
      "\n",
      "Iteration 27\n",
      "forward-backward\n",
      "2017-07-30 19:45:28.617010\n",
      "Expectation\n",
      "gamma\n",
      "2017-07-30 19:45:43.202225\n",
      "xi\n",
      "2017-07-30 19:45:43.453667\n",
      "Maximisation\n",
      "pi\n",
      "2017-07-30 19:45:52.338987\n",
      "A\n",
      "2017-07-30 19:45:52.412358\n",
      "theta\n",
      "2017-07-30 19:45:52.436796\n",
      "delta: 0.06878960550491424\n",
      "\n",
      "Iteration 28\n",
      "forward-backward\n",
      "2017-07-30 19:45:53.988801\n",
      "Expectation\n",
      "gamma\n",
      "2017-07-30 19:46:08.682315\n",
      "xi\n",
      "2017-07-30 19:46:08.931393\n",
      "Maximisation\n",
      "pi\n",
      "2017-07-30 19:46:17.370811\n",
      "A\n",
      "2017-07-30 19:46:17.452652\n",
      "theta\n",
      "2017-07-30 19:46:17.476300\n",
      "delta: 0.0303323082423606\n",
      "\n",
      "Iteration 29\n",
      "forward-backward\n",
      "2017-07-30 19:46:19.243695\n",
      "Expectation\n",
      "gamma\n",
      "2017-07-30 19:46:33.844746\n",
      "xi\n",
      "2017-07-30 19:46:34.088649\n",
      "Maximisation\n",
      "pi\n",
      "2017-07-30 19:46:42.616282\n",
      "A\n",
      "2017-07-30 19:46:42.696592\n",
      "theta\n",
      "2017-07-30 19:46:42.721183\n",
      "delta: 0.015780372770693055\n",
      "\n",
      "Iteration 30\n",
      "forward-backward\n",
      "2017-07-30 19:46:44.449426\n",
      "Expectation\n",
      "gamma\n",
      "2017-07-30 19:46:59.331726\n",
      "xi\n",
      "2017-07-30 19:46:59.582056\n",
      "Maximisation\n",
      "pi\n",
      "2017-07-30 19:47:08.335932\n",
      "A\n",
      "2017-07-30 19:47:08.412420\n",
      "theta\n",
      "2017-07-30 19:47:08.435902\n",
      "delta: 0.009495716294583012\n"
     ]
    }
   ],
   "source": [
    "import HMM\n",
    "importlib.reload(HMM)\n",
    "from HMM import hmm\n",
    "a, b, theta, pi, A, alphas = hmm.baum_welch(a, b, theta, pi, A, observation_seqs, prior_weight_items=len(theta)+100,\n",
    "                                            prior_weight_states=(len(theta[0])-1)*len(observation_seqs)+100)"
   ]
  },
  {
   "cell_type": "code",
   "execution_count": 22,
   "metadata": {},
   "outputs": [
    {
     "data": {
      "text/plain": [
       "1"
      ]
     },
     "execution_count": 22,
     "metadata": {},
     "output_type": "execute_result"
    }
   ],
   "source": [
    "len(time_t_anime[-1])"
   ]
  },
  {
   "cell_type": "code",
   "execution_count": 28,
   "metadata": {
    "collapsed": true
   },
   "outputs": [],
   "source": [
    "no = 10\n",
    "\n",
    "recall_numerator = []\n",
    "recall_denominator = []\n",
    "precision_numerator = []\n",
    "precision_denominator = []\n",
    "corrects = []\n",
    "for u in range(len(time_t_anime)):\n",
    "    recommendations = hmm.item_rank(u, a, b, alphas, theta, A)[:no]\n",
    "    correct = [x for x in time_t_anime[u] if x in recommendations]\n",
    "    total = len(time_t_anime[u])\n",
    "    \n",
    "    corrects.append(correct)\n",
    "    \n",
    "    recall_numerator.append(len(correct))\n",
    "    recall_denominator.append(total)\n",
    "    \n",
    "    precision_numerator.append(len(correct))\n",
    "    precision_denominator.append(no)"
   ]
  },
  {
   "cell_type": "markdown",
   "metadata": {
    "collapsed": true
   },
   "source": [
    "### Recommendations for an untrained user\n",
    "To get recommendations for an untrained user, run the forward algorithm over an untrained user's observation sequence, then append it to alphas.\n",
    "\n",
    "Call hmm.item_rank with the new user index. The only time the user index (`u`) is used is for indexing `alphas`.\n",
    "\n",
    "What we're essentially doing is we're calculating the user's probability distribution over the states at time t+1 using the HMM whose parameters we've estimated using the Baum-Welch algorithm."
   ]
  },
  {
   "cell_type": "code",
   "execution_count": 29,
   "metadata": {
    "collapsed": true
   },
   "outputs": [],
   "source": [
    "# store params in JSON file\n",
    "\n",
    "import json\n",
    "\n",
    "params = {\n",
    "    'a': a,\n",
    "    'b': b,\n",
    "    'theta': theta.tolist(),\n",
    "    'pi': pi,\n",
    "    'alphas': alphas.tolist(),\n",
    "    'observation_seqs': observation_seqs.tolist(),\n",
    "    'user_ids': user_ids.tolist(),\n",
    "    'animes': animes.tolist()\n",
    "}\n",
    "\n",
    "with open('params_experimentation.json', 'w') as outfile:\n",
    "#     json.dump(params, outfile, indent=4)\n",
    "    json.dump(params, outfile)"
   ]
  },
  {
   "cell_type": "code",
   "execution_count": 115,
   "metadata": {
    "collapsed": true
   },
   "outputs": [],
   "source": [
    "titles = [\n",
    "#     ('Naruto', 20),\n",
    "#     ('Fairy Tail', 6702),\n",
    "#     ('Kami nomi zo Shiru Sekai', 8525),\n",
    "#     ('Kami nomi zo Shiru Sekai II', 10080),\n",
    "#     ('Kami nomi zo Shiru Sekai: Megami-hen', 16706),\n",
    "#     ('Shigatsu wa Kimi no Uso', 23273),\n",
    "    ('Hyouka', 12189),\n",
    "#     ('Shinsekai yori', 13125),\n",
    "#     ('Ore monogatari', 28297),\n",
    "#     ('Gintama', 918),\n",
    "    ('Toradora!', 4224),\n",
    "    ('Nichijou', 10165),\n",
    "    ('Gochuumon wa Usagi desu ka?', 21273),\n",
    "    ('Non Non Biyori', 17549),\n",
    "#     ('Yahari Ore no Seishun Love Comedy wa Machigatteiru.', 14813),\n",
    "    ('K-On!', 5680),\n",
    "    ('K-On!!', 7791),\n",
    "    ('Gochuumon wa Usagi desu ka??', 29787),\n",
    "    ('K-On! Movie', 9617),\n",
    "    ('Tamako Market', 16417),\n",
    "    ('Tamako Love Story', 21647),\n",
    "#     ('Yahari Ore no Seishun Love Comedy wa Machigatteiru. Zoku', 23847),\n",
    "#     ('Hibike! Euphonium', 27989),\n",
    "    ('Non Non Biyori Repeat', 23623),\n",
    "    ('Kiniro Mosaic', 16732),\n",
    "    ('Hello!! Kiniro Mosaic', 23269),\n",
    "    ('So Ra No Wo To', 6802),\n",
    "    ('Lucky*Star', 1887)\n",
    "]"
   ]
  },
  {
   "cell_type": "code",
   "execution_count": 116,
   "metadata": {
    "collapsed": true
   },
   "outputs": [],
   "source": [
    "# convert to list\n",
    "titles_ = sorted([x[1] for x in titles])"
   ]
  },
  {
   "cell_type": "code",
   "execution_count": 117,
   "metadata": {
    "collapsed": true
   },
   "outputs": [],
   "source": [
    "titles_ = [[anime_id_to_index[x]] for x in titles_]"
   ]
  },
  {
   "cell_type": "code",
   "execution_count": 118,
   "metadata": {
    "collapsed": true
   },
   "outputs": [],
   "source": [
    "# titles_ = list(group(titles_, 3))"
   ]
  },
  {
   "cell_type": "code",
   "execution_count": 119,
   "metadata": {
    "collapsed": true
   },
   "outputs": [],
   "source": [
    "titles_ = np.array(titles_)"
   ]
  },
  {
   "cell_type": "code",
   "execution_count": 120,
   "metadata": {},
   "outputs": [
    {
     "data": {
      "text/plain": [
       "array([[ 80],\n",
       "       [110],\n",
       "       [125],\n",
       "       [136],\n",
       "       [145],\n",
       "       [163],\n",
       "       [173],\n",
       "       [202],\n",
       "       [242],\n",
       "       [243],\n",
       "       [250],\n",
       "       [286],\n",
       "       [294],\n",
       "       [310],\n",
       "       [314],\n",
       "       [345]])"
      ]
     },
     "execution_count": 120,
     "metadata": {},
     "output_type": "execute_result"
    }
   ],
   "source": [
    "titles_"
   ]
  },
  {
   "cell_type": "code",
   "execution_count": 121,
   "metadata": {
    "collapsed": true
   },
   "outputs": [],
   "source": [
    "alpha_k, scaling_factor_k = hmm.forward(a, b, theta, pi, A, titles_)"
   ]
  },
  {
   "cell_type": "code",
   "execution_count": 122,
   "metadata": {},
   "outputs": [
    {
     "data": {
      "text/plain": [
       "200"
      ]
     },
     "execution_count": 122,
     "metadata": {},
     "output_type": "execute_result"
    }
   ],
   "source": [
    "len(alphas)"
   ]
  },
  {
   "cell_type": "code",
   "execution_count": 123,
   "metadata": {},
   "outputs": [
    {
     "data": {
      "text/plain": [
       "16"
      ]
     },
     "execution_count": 123,
     "metadata": {},
     "output_type": "execute_result"
    }
   ],
   "source": [
    "len(alphas[0])"
   ]
  },
  {
   "cell_type": "code",
   "execution_count": 124,
   "metadata": {},
   "outputs": [
    {
     "data": {
      "text/plain": [
       "16"
      ]
     },
     "execution_count": 124,
     "metadata": {},
     "output_type": "execute_result"
    }
   ],
   "source": [
    "len(alpha_k)"
   ]
  },
  {
   "cell_type": "code",
   "execution_count": 125,
   "metadata": {
    "collapsed": true
   },
   "outputs": [],
   "source": [
    "alphas_ = alphas.tolist()\n",
    "alphas_.append(alpha_k)\n",
    "alphas_ = np.array(alphas_)"
   ]
  },
  {
   "cell_type": "code",
   "execution_count": 126,
   "metadata": {},
   "outputs": [
    {
     "data": {
      "text/plain": [
       "201"
      ]
     },
     "execution_count": 126,
     "metadata": {},
     "output_type": "execute_result"
    }
   ],
   "source": [
    "len(alphas_)"
   ]
  },
  {
   "cell_type": "code",
   "execution_count": 127,
   "metadata": {
    "collapsed": true
   },
   "outputs": [],
   "source": [
    "results = hmm.item_rank(len(alphas_)-1, a, b, alphas_, theta, A)"
   ]
  },
  {
   "cell_type": "code",
   "execution_count": 128,
   "metadata": {
    "collapsed": true
   },
   "outputs": [],
   "source": [
    "anime = pd.read_csv('anime.csv')\n",
    "\n",
    "SoL_anime = anime[(anime['genre'].str.contains('Slice of Life') == True)]\n",
    "SoL_animeids = SoL_anime['anime_id'].tolist()\n",
    "\n",
    "results_name = []\n",
    "for result in results:\n",
    "    anime_id = animes[result]\n",
    "    if anime_id in SoL_animeids:\n",
    "#         results_name.append( (SoL_anime[SoL_anime['anime_id'] == anime_id]['name'].to_string(index=False), anime[anime['anime_id'] == anime_id]['rating'].to_string(index=False)) )\n",
    "        results_name.append(SoL_anime[SoL_anime['anime_id'] == anime_id]['name'].to_string(index=False))"
   ]
  },
  {
   "cell_type": "code",
   "execution_count": 129,
   "metadata": {
    "collapsed": true,
    "scrolled": false
   },
   "outputs": [],
   "source": [
    "titles_test = sorted(SoL_anime[SoL_anime['anime_id'] == x[1]]['name'].to_string(index=False) for x in titles)"
   ]
  },
  {
   "cell_type": "code",
   "execution_count": 131,
   "metadata": {},
   "outputs": [
    {
     "data": {
      "text/plain": [
       "['Gochuumon wa Usagi Desu ka??',\n",
       " 'Toradora!',\n",
       " 'Non Non Biyori',\n",
       " 'Hyouka',\n",
       " 'K-On!!',\n",
       " 'Kiniro Mosaic',\n",
       " 'Nichijou',\n",
       " 'Non Non Biyori Repeat',\n",
       " 'K-On! Movie',\n",
       " 'K-On!',\n",
       " 'Tamako Market',\n",
       " 'Hello!! Kiniro Mosaic',\n",
       " 'Lucky☆Star',\n",
       " 'Tamako Love Story',\n",
       " 'Gochuumon wa Usagi Desu ka?',\n",
       " 'So Ra No Wo To']"
      ]
     },
     "execution_count": 131,
     "metadata": {},
     "output_type": "execute_result"
    }
   ],
   "source": [
    "# Sort a list of SoL anime using our rankings\n",
    "sorted(titles_test, key=lambda x: results_name.index(x))"
   ]
  },
  {
   "cell_type": "code",
   "execution_count": 97,
   "metadata": {},
   "outputs": [
    {
     "data": {
      "text/plain": [
       "70"
      ]
     },
     "execution_count": 97,
     "metadata": {},
     "output_type": "execute_result"
    }
   ],
   "source": [
    "results_name.index(('Kiniro Mosaic', '7.41'))"
   ]
  },
  {
   "cell_type": "code",
   "execution_count": 98,
   "metadata": {},
   "outputs": [
    {
     "data": {
      "text/plain": [
       "31"
      ]
     },
     "execution_count": 98,
     "metadata": {},
     "output_type": "execute_result"
    }
   ],
   "source": [
    "results_name.index(('K-On!!', '8.14'))"
   ]
  },
  {
   "cell_type": "code",
   "execution_count": 99,
   "metadata": {},
   "outputs": [
    {
     "data": {
      "text/plain": [
       "102"
      ]
     },
     "execution_count": 99,
     "metadata": {},
     "output_type": "execute_result"
    }
   ],
   "source": [
    "results_name.index(('K-On!', '7.87'))"
   ]
  },
  {
   "cell_type": "code",
   "execution_count": 101,
   "metadata": {},
   "outputs": [
    {
     "data": {
      "text/plain": [
       "165"
      ]
     },
     "execution_count": 101,
     "metadata": {},
     "output_type": "execute_result"
    }
   ],
   "source": [
    "results_name.index(('Lucky☆Star', '7.87'))"
   ]
  },
  {
   "cell_type": "code",
   "execution_count": 102,
   "metadata": {},
   "outputs": [
    {
     "data": {
      "text/plain": [
       "164"
      ]
     },
     "execution_count": 102,
     "metadata": {},
     "output_type": "execute_result"
    }
   ],
   "source": [
    "results_name.index(('Hello!! Kiniro Mosaic', '7.63'))"
   ]
  },
  {
   "cell_type": "code",
   "execution_count": 92,
   "metadata": {
    "collapsed": true
   },
   "outputs": [],
   "source": [
    "results_name_sorted = sorted(results_name[:1000], key=lambda x: float(x[1]), reverse=True)"
   ]
  },
  {
   "cell_type": "code",
   "execution_count": 93,
   "metadata": {
    "scrolled": false
   },
   "outputs": [
    {
     "data": {
      "text/plain": [
       "[('Clannad: After Story', '9.06'),\n",
       " ('Mushishi Zoku Shou 2nd Season', '8.88'),\n",
       " ('Ookami Kodomo no Ame to Yuki', '8.84'),\n",
       " ('Mushishi Zoku Shou', '8.8'),\n",
       " ('Mushishi', '8.78'),\n",
       " ('Great Teacher Onizuka', '8.77'),\n",
       " ('Mushishi Zoku Shou: Suzu no Shizuku', '8.75'),\n",
       " ('Natsume Yuujinchou Shi', '8.75'),\n",
       " ('Natsume Yuujinchou San', '8.67'),\n",
       " ('Mushishi Special: Hihamukage', '8.66'),\n",
       " ('Aria The Origination', '8.64'),\n",
       " ('Zoku Natsume Yuujinchou', '8.64'),\n",
       " ('Ano Hi Mita Hana no Namae wo Bokutachi wa Mada...', '8.62'),\n",
       " ('Uchuu Kyoudai', '8.59'),\n",
       " ('Usagi Drop', '8.56'),\n",
       " ('Nana', '8.55'),\n",
       " ('Mob Psycho 100', '8.55'),\n",
       " ('Mushishi Zoku Shou: Odoro no Michi', '8.54'),\n",
       " ('Doukyuusei (Movie)', '8.53'),\n",
       " ('Chihayafuru 2', '8.52'),\n",
       " ('Nichijou', '8.52'),\n",
       " ('Barakamon', '8.5'),\n",
       " ('Romeo no Aoi Sora', '8.47'),\n",
       " ('Nodame Cantabile', '8.46'),\n",
       " ('Toradora!', '8.45'),\n",
       " ('Natsume Yuujinchou', '8.42'),\n",
       " ('Sakurasou no Pet na Kanojo', '8.4'),\n",
       " ('Gin no Saji 2nd Season', '8.36'),\n",
       " ('Little Busters!: Refrain', '8.36'),\n",
       " ('Kyoukai no Kanata Movie: I&#039;ll Be Here - M...', '8.35'),\n",
       " ('Kotonoha no Niwa', '8.35'),\n",
       " ('Danshi Koukousei no Nichijou', '8.35'),\n",
       " ('K-On! Movie', '8.34'),\n",
       " ('Working!!!: Lord of the Takanashi', '8.34'),\n",
       " ('Chihayafuru', '8.32'),\n",
       " ('Clannad', '8.3'),\n",
       " ('Nodame Cantabile: Paris-hen', '8.27'),\n",
       " ('Non Non Biyori Repeat', '8.26'),\n",
       " ('Eve no Jikan', '8.26'),\n",
       " ('Eve no Jikan (Movie)', '8.26'),\n",
       " ('ReLIFE', '8.24'),\n",
       " ('Kuragehime', '8.24'),\n",
       " ('Free!: Eternal Summer Special', '8.23'),\n",
       " ('Kokoro Connect: Michi Random', '8.19'),\n",
       " ('Kimi ni Todoke', '8.19'),\n",
       " ('Ano Hi Mita Hana no Namae wo Bokutachi wa Mada...', '8.19'),\n",
       " ('Gin no Saji', '8.18'),\n",
       " ('Working!!!', '8.18'),\n",
       " ('Love Live! The School Idol Movie', '8.18'),\n",
       " ('Hyouka', '8.17'),\n",
       " ('Kimi ni Todoke 2nd Season', '8.17'),\n",
       " ('Kanon (2006)', '8.17'),\n",
       " ('Tamako Love Story', '8.16'),\n",
       " ('K-On!!', '8.14'),\n",
       " ('Clannad: Mou Hitotsu no Sekai, Tomoyo-hen', '8.14'),\n",
       " ('Byousoku 5 Centimeter', '8.1'),\n",
       " ('Tanaka-kun wa Itsumo Kedaruge', '8.1'),\n",
       " ('Suzumiya Haruhi no Yuuutsu', '8.06'),\n",
       " ('Love Live! School Idol Project 2nd Season', '8.06'),\n",
       " ('Non Non Biyori', '8.05'),\n",
       " ('Seitokai Yakuindomo* OVA', '8.05'),\n",
       " ('Gochuumon wa Usagi Desu ka??', '8.01'),\n",
       " ('Date A Live: Encore OVA', '8.01'),\n",
       " ('Kokoro Connect', '8.01'),\n",
       " ('Hidamari Sketch x ☆☆☆', '8.01'),\n",
       " ('Hanasaku Iroha: Home Sweet Home', '7.99'),\n",
       " ('White Album 2', '7.98'),\n",
       " ('Saint☆Oniisan (Movie)', '7.97'),\n",
       " ('Maria-sama ga Miteru 4th', '7.97'),\n",
       " ('Uchouten Kazoku', '7.96'),\n",
       " ('Chuunibyou demo Koi ga Shitai!', '7.95'),\n",
       " ('Yuru Yuri Nachuyachumi!', '7.95'),\n",
       " ('Free!: Eternal Summer', '7.94'),\n",
       " ('Little Busters!: EX', '7.94'),\n",
       " ('Yuru Yuri♪♪', '7.94'),\n",
       " ('Lucky☆Star: Original na Visual to Animation', '7.92'),\n",
       " ('Bokura wa Minna Kawaisou', '7.9'),\n",
       " ('Ao Haru Ride', '7.89'),\n",
       " ('K-On!!: Keikaku!', '7.89'),\n",
       " ('Seitokai Yakuindomo OVA', '7.89'),\n",
       " ('Kyoukai no Kanata', '7.88'),\n",
       " ('K-On!: Live House!', '7.88'),\n",
       " ('K-On!', '7.87'),\n",
       " ('Lucky☆Star', '7.87'),\n",
       " ('Seitokai Yakuindomo*', '7.84'),\n",
       " ('Chi&#039;s Sweet Home', '7.83'),\n",
       " ('Working!!', '7.82'),\n",
       " ('Mitsudomoe Zouryouchuu!', '7.82'),\n",
       " ('Yume-iro Pâtissière SP Professional', '7.82'),\n",
       " ('New Game!', '7.81'),\n",
       " ('Minami-ke', '7.81'),\n",
       " ('Fruits Basket', '7.8'),\n",
       " ('Servant x Service', '7.79'),\n",
       " ('Ichigo Mashimaro Encore', '7.79'),\n",
       " ('Kyoukai no Kanata: Shinonome', '7.78'),\n",
       " ('Tonari no Kaibutsu-kun', '7.77'),\n",
       " ('Ao Haru Ride OVA', '7.76'),\n",
       " ('Kanojo to Kanojo no Neko: Everything Flows', '7.75'),\n",
       " ('Higashi no Eden Movie I: The King of Eden', '7.74'),\n",
       " ('Toradora! OVA', '7.72'),\n",
       " ('Gakkougurashi!', '7.71'),\n",
       " ('Seitokai Yakuindomo', '7.71'),\n",
       " ('Natsume Yuujinchou: Nyanko-sensei to Hajimete ...', '7.71'),\n",
       " ('Boku wa Tomodachi ga Sukunai Next', '7.7'),\n",
       " ('Isshuukan Friends.', '7.7'),\n",
       " ('Ano Natsu de Matteru', '7.7'),\n",
       " ('Yuru Yuri', '7.7'),\n",
       " ('Free!', '7.67'),\n",
       " ('Flying Witch', '7.65'),\n",
       " ('Acchi Kocchi (TV)', '7.65'),\n",
       " ('Saint☆Oniisan', '7.64'),\n",
       " ('Omoide Poroporo', '7.64'),\n",
       " ('Love Live! Sunshine!!', '7.63'),\n",
       " ('Amaama to Inazuma', '7.63'),\n",
       " ('Hello!! Kiniro Mosaic', '7.63'),\n",
       " ('So Ra No Wo To Specials', '7.62'),\n",
       " ('Chuunibyou demo Koi ga Shitai! Ren', '7.6'),\n",
       " ('Gochuumon wa Usagi Desu ka?', '7.6'),\n",
       " ('Mikakunin de Shinkoukei', '7.59'),\n",
       " ('Chuunibyou demo Koi ga Shitai! Ren: The Rikka ...', '7.58'),\n",
       " ('Candy Candy', '7.58'),\n",
       " ('Cross Road', '7.58'),\n",
       " ('Minami-ke Betsubara', '7.57'),\n",
       " ('Amagami SS', '7.57'),\n",
       " ('Nodame Cantabile OVA', '7.57'),\n",
       " ('Himouto! Umaru-chan', '7.55'),\n",
       " ('Danna ga Nani wo Itteiru ka Wakaranai Ken', '7.55'),\n",
       " ('Joshiraku', '7.55'),\n",
       " ('Super Lovers', '7.54'),\n",
       " ('Toradora!: Bentou no Gokui', '7.54'),\n",
       " ('Nijiiro Days', '7.52'),\n",
       " ('Papa no Iukoto wo Kikinasai!', '7.51'),\n",
       " ('Danna ga Nani wo Itteiru ka Wakaranai Ken 2 Su...', '7.49'),\n",
       " ('Ore no Imouto ga Konnani Kawaii Wake ga Nai', '7.49'),\n",
       " ('Ikoku Meiro no Croisée The Animation', '7.48'),\n",
       " ('GJ-bu', '7.48'),\n",
       " ('Handa-kun', '7.46'),\n",
       " ('Hanamaru Youchien', '7.45'),\n",
       " ('Tari Tari', '7.44'),\n",
       " ('Love Hina Christmas Special: Silent Eve', '7.44'),\n",
       " ('Shounen Maid', '7.43'),\n",
       " ('Ore no Imouto ga Konnani Kawaii Wake ga Nai.', '7.43'),\n",
       " ('Himouto! Umaru-chan: Umaru-chan Mou Ikkai!', '7.43'),\n",
       " ('Kiniro Mosaic', '7.41'),\n",
       " ('Minami-ke Okawari', '7.41'),\n",
       " ('Fate/kaleid liner Prisma☆Illya 2wei Herz!', '7.39'),\n",
       " ('Tamako Market', '7.35'),\n",
       " ('Inou-Battle wa Nichijou-kei no Naka de', '7.34'),\n",
       " ('Joukamachi no Dandelion', '7.32'),\n",
       " ('Watashi ga Motenai no wa Dou Kangaetemo Omaera...', '7.29'),\n",
       " ('Ano Natsu de Matteru: Bokutachi wa Koukou Saig...', '7.29'),\n",
       " ('Suzumiya Haruhi no Yuuutsu (2009)', '7.28'),\n",
       " ('Denki-gai no Honya-san', '7.28'),\n",
       " ('Binan Koukou Chikyuu Bouei-bu LOVE! LOVE!', '7.26'),\n",
       " ('Alps no Shoujo Heidi', '7.26'),\n",
       " ('Black★Rock Shooter (OVA)', '7.24'),\n",
       " ('Ai Yori Aoshi', '7.24'),\n",
       " ('Sansha Sanyou', '7.23'),\n",
       " ('Sakura Trick', '7.2'),\n",
       " ('Sora no Manimani', '7.18'),\n",
       " ('Kimi no Iru Machi', '7.17'),\n",
       " ('Sore ga Seiyuu!', '7.15'),\n",
       " ('Chihayafuru 2: Waga Mi Yo ni Furu Nagame Seshi...', '7.11'),\n",
       " ('Gi(a)rlish Number', '7.11'),\n",
       " ('Starmyu', '7.08'),\n",
       " ('Black★Rock Shooter (TV)', '7.07'),\n",
       " ('A-Channel', '7.06'),\n",
       " ('Namiuchigiwa no Muromi-san', '7.06'),\n",
       " ('Natsu-iro Kiseki', '7.06'),\n",
       " ('Candy Boy Episode: EX01 - Mirai Yohouzu', '7.04'),\n",
       " ('Musaigen no Phantom World', '7.03'),\n",
       " ('Ani*Kuri15', '7.02'),\n",
       " ('Lamune', '6.95'),\n",
       " ('Doujin Work', '6.9'),\n",
       " ('Koufuku Graffiti', '6.84'),\n",
       " ('Bananya', '6.83'),\n",
       " ('Yama no Susume', '6.83'),\n",
       " ('Kitakubu Katsudou Kiroku', '6.81'),\n",
       " ('Recorder to Randoseru Do♪', '6.81'),\n",
       " ('Happy☆Lesson (TV)', '6.81'),\n",
       " ('Isshuukan Friends. Specials', '6.81'),\n",
       " ('Nagato Yuki-chan no Shoushitsu', '6.77'),\n",
       " ('Sora no Method', '6.77'),\n",
       " ('Dagashi Kashi', '6.73'),\n",
       " ('Rolling☆Girls', '6.66'),\n",
       " ('Ore no Imouto ga Konnani Kawaii Wake ga Nai. S...', '6.62'),\n",
       " ('Jinsei', '6.59'),\n",
       " ('Sister Princess', '6.58'),\n",
       " ('Miss Monochrome: The Animation', '6.53'),\n",
       " ('Code-E', '6.52'),\n",
       " ('Kuma Miko', '6.43'),\n",
       " ('Meganebu!', '6.42'),\n",
       " ('Busou Shinki', '6.41'),\n",
       " ('W: Wish', '6.3'),\n",
       " ('Mangirl!', '6.05'),\n",
       " ('Onsen Yousei Hakone-chan', '5.92'),\n",
       " ('Glasslip', '5.54'),\n",
       " ('Ame-iro Cocoa', '4.8'),\n",
       " ('New Game!: Watashi, Shain Ryokou tte Hajimete ...', 'NaN'),\n",
       " ('Natsume Yuujinchou Go', '8.76'),\n",
       " ('Kino no Tabi: The Beautiful World', '8.46'),\n",
       " ('Beck', '8.4'),\n",
       " ('Natsume Yuujinchou: Itsuka Yuki no Hi ni', '8.4'),\n",
       " ('Mimi wo Sumaseba', '8.32'),\n",
       " ('Aria The Natural', '8.3'),\n",
       " ('Maison Ikkoku', '8.25'),\n",
       " ('Aria The Origination: Sono Choppiri Himitsu no...', '8.16'),\n",
       " ('Touch', '8.16'),\n",
       " ('High☆Speed!: Free! Starting Days', '8.15'),\n",
       " ('Aria The OVA: Arietta', '8.13'),\n",
       " ('Kimi to Boku. 2', '8.11'),\n",
       " ('Haibane Renmei', '8.07'),\n",
       " ('Usagi Drop Specials', '8.07'),\n",
       " ('Azumanga Daioh', '8.06'),\n",
       " ('Colorful (Movie)', '8.06'),\n",
       " ('Yuru Yuri San☆Hai!', '8.04'),\n",
       " ('Hanasaku Iroha', '8.03'),\n",
       " ('Eikoku Koi Monogatari Emma: Molders-hen', '8.03'),\n",
       " ('Shirokuma Cafe', '8.01'),\n",
       " ('Maria-sama ga Miteru 3rd', '8.0'),\n",
       " ('Hidamari Sketch x Honeycomb', '7.99'),\n",
       " ('Working&#039;!!', '7.98'),\n",
       " ('Jungle wa Itsumo Hare nochi Guu', '7.97'),\n",
       " ('Danshi Koukousei no Nichijou Specials', '7.94'),\n",
       " ('Paradise Kiss', '7.93'),\n",
       " ('3-gatsu no Lion', '7.93'),\n",
       " ('Chi&#039;s Sweet Home: Atarashii Ouchi', '7.9'),\n",
       " ('Hidamari Sketch x 365', '7.9'),\n",
       " ('Heartcatch Precure!', '7.89'),\n",
       " ('Ranma ½', '7.87'),\n",
       " ('Genshiken 2', '7.86'),\n",
       " ('Kimi to Boku.', '7.85'),\n",
       " ('Hachimitsu to Clover Specials', '7.85'),\n",
       " ('Tsuritama', '7.84'),\n",
       " ('Yuru Yuri Nachuyachumi!+', '7.84'),\n",
       " ('Ichigo Mashimaro OVA', '7.83'),\n",
       " ('Hidamari Sketch x 365 Specials', '7.82'),\n",
       " ('Eikoku Koi Monogatari Emma', '7.81'),\n",
       " ('Hourou Musuko', '7.8'),\n",
       " ('Poyopoyo Kansatsu Nikki', '7.79'),\n",
       " ('Aria The Animation', '7.79'),\n",
       " ('Minami-ke Tadaima', '7.78'),\n",
       " ('Ichigo Mashimaro', '7.77'),\n",
       " ('Genshiken', '7.76'),\n",
       " ('Bokura wa Minna Kawaisou: Hajimete no', '7.76'),\n",
       " ('Noein: Mou Hitori no Kimi e', '7.74'),\n",
       " ('Genshiken OVA', '7.74'),\n",
       " ('Hungry Heart: Wild Striker', '7.74'),\n",
       " ('Mitsudomoe', '7.73'),\n",
       " ('Mujin Wakusei Survive', '7.72'),\n",
       " ('Love Live! School Idol Project', '7.7'),\n",
       " ('Kimagure Orange☆Road', '7.7'),\n",
       " ('Aikatsu!', '7.69'),\n",
       " ('Mitsudomoe Special', '7.67'),\n",
       " ('Ore no Imouto ga Konnani Kawaii Wake ga Nai Sp...', '7.66'),\n",
       " ('Kareshi Kanojo no Jijou', '7.66'),\n",
       " ('Udon no Kuni no Kiniro Kemari', '7.66'),\n",
       " ('Non Non Biyori: Okinawa e Ikukoto ni Natta', '7.65'),\n",
       " ('Minami-ke Okaeri', '7.65'),\n",
       " ('Little Busters!', '7.64'),\n",
       " ('Shinryaku!? Ika Musume', '7.62'),\n",
       " ('Hidamari Sketch Specials', '7.62'),\n",
       " ('Acchi Kocchi (TV): Place=Princess', '7.62'),\n",
       " ('Amagami SS+ Plus', '7.61'),\n",
       " ('So Ra No Wo To', '7.6'),\n",
       " ('Fune wo Amu', '7.6'),\n",
       " ('Shinryaku! Ika Musume', '7.6'),\n",
       " ('Super GALS! Kotobuki Ran', '7.57'),\n",
       " ('Saki', '7.57'),\n",
       " ('Genshiken Nidaime', '7.56'),\n",
       " ('Aria The Natural: Sono Futatabi Deaeru Kiseki ...', '7.56'),\n",
       " ('Shinryaku!! Ika Musume', '7.55'),\n",
       " ('Tegamibachi: Hikari to Ao no Gensou Yawa', '7.55'),\n",
       " ('Bokura ga Ita', '7.54'),\n",
       " ('Tamayura: More Aggressive', '7.54'),\n",
       " ('Yuuki Yuuna wa Yuusha de Aru', '7.52'),\n",
       " ('Kanojo to Kanojo no Neko', '7.52'),\n",
       " ('Otona Joshi no Anime Time', '7.52'),\n",
       " ('WWW.Working!!', '7.51'),\n",
       " ('Kamichu!', '7.51'),\n",
       " ('Yama no Susume Second Season', '7.51'),\n",
       " ('Hidamari Sketch', '7.51'),\n",
       " ('Nodame Cantabile Special', '7.5'),\n",
       " ('Saki Zenkoku-hen', '7.49'),\n",
       " ('Kowarekake no Orgel', '7.49'),\n",
       " ('Air', '7.48'),\n",
       " ('Maria-sama ga Miteru', '7.48'),\n",
       " ('Gokusen', '7.48'),\n",
       " ('Little Busters!: Sekai no Saitou wa Ore ga Mam...', '7.48'),\n",
       " ('Ristorante Paradiso', '7.48'),\n",
       " ('Soredemo Machi wa Mawatteiru', '7.48'),\n",
       " ('Sketchbook: Full Color&#039;s', '7.47'),\n",
       " ('Kantai Collection: KanColle Zoku-hen', 'NaN'),\n",
       " ('Dareka no Manazashi', '7.57'),\n",
       " ('Bartender', '7.5'),\n",
       " ('Minami-ke Omatase', '7.47'),\n",
       " ('Amanchu!', '7.45'),\n",
       " ('Yuyushiki', '7.45'),\n",
       " ('Papa no Iukoto wo Kikinasai! OVA', '7.45'),\n",
       " ('Hyouka: Motsubeki Mono wa', '7.43'),\n",
       " ('Hanayamata', '7.42'),\n",
       " ('Kimi ga Nozomu Eien', '7.41'),\n",
       " ('Mahoutsukai ni Taisetsu na Koto: Natsu no Sora', '7.4'),\n",
       " ('Gakuen Utopia Manabi Straight!', '7.38'),\n",
       " ('Saki Achiga-hen: Episode of Side-A', '7.38'),\n",
       " ('Tokyo Marble Chocolate', '7.38'),\n",
       " ('Sola', '7.37'),\n",
       " ('Takanashi Rikka Kai: Chuunibyou demo Koi ga Sh...', '7.37'),\n",
       " ('Nichijou: Nichijou no 0-wa', '7.37'),\n",
       " ('Yokohama Kaidashi Kikou', '7.37'),\n",
       " ('Tonari no Yamada-kun', '7.36'),\n",
       " ('Love Hina: Motoko no Sentaku, Koi ka Ken... &q...', '7.36'),\n",
       " ('Hyakko', '7.34'),\n",
       " ('GJ-bu@', '7.34'),\n",
       " ('Denpa Onna to Seishun Otoko', '7.33'),\n",
       " ('Tamayura: Hitotose', '7.32'),\n",
       " ('Aoi Hana', '7.29'),\n",
       " ('Papa no Iukoto wo Kikinasai!: Pokkapoka', '7.28'),\n",
       " ('Kanon', '7.27'),\n",
       " ('Momokuri', '7.25'),\n",
       " ('Ai Yori Aoshi: Enishi', '7.25'),\n",
       " ('Gingitsune', '7.23'),\n",
       " ('GA: Geijutsuka Art Design Class', '7.23'),\n",
       " ('Tamayura', '7.23'),\n",
       " ('A-Channel+smile', '7.22'),\n",
       " ('Mikakunin de Shinkoukei: Kamoniku tte Midori-p...', '7.2'),\n",
       " ('Chicchana Yukitsukai Sugar', '7.19'),\n",
       " ('Anne Happy♪', '7.17'),\n",
       " ('Watashi ga Motenai no wa Dou Kangaetemo Omaera...', '7.16'),\n",
       " ('Hataraki Man', '7.16'),\n",
       " ('Kachou Ouji', '7.16'),\n",
       " ('Peach Girl', '7.16'),\n",
       " ('Doubutsu no Mori', '7.15'),\n",
       " ('Oshiete! Galko-chan', '7.15'),\n",
       " ('Mikakunin de Shinkoukei: Mite. Are ga Watashit...', '7.13'),\n",
       " ('Binan Koukou Chikyuu Bouei-bu LOVE!', '7.11'),\n",
       " ('Azumanga Daioh: Gekijou Tanpen', '7.11'),\n",
       " ('Nana Recaps', '7.1'),\n",
       " ('Code Geass: Hangyaku no Lelouch Picture Drama', '7.1'),\n",
       " ('Sola Specials', '7.06'),\n",
       " ('Gokujou Seitokai', '7.06'),\n",
       " ('A-Channel: +A-Channel', '7.05'),\n",
       " ('Kantai Collection: KanColle', '7.04'),\n",
       " ('Wakaba*Girl', '7.01'),\n",
       " ('Himouto! Umaru-chanS', '7.01'),\n",
       " ('Super Seisyun Brothers', '7.0'),\n",
       " ('Recorder to Randoseru Re♪', '7.0'),\n",
       " ('Candy Boy Episode: EX02 - Shiawase Kyouyuu Riron', '6.99'),\n",
       " ('NieA Under 7', '6.99'),\n",
       " ('Love Live! School Idol Project OVA', '6.96'),\n",
       " ('Umi ga Kikoeru', '6.96'),\n",
       " ('Suki na Mono wa Suki Dakara Shou ga Nai!!', '6.95'),\n",
       " ('Binbou Shimai Monogatari', '6.95'),\n",
       " ('Kashimashi: Girl Meets Girl OVA', '6.94'),\n",
       " ('I My Me! Strawberry Eggs', '6.93'),\n",
       " ('Hitohira', '6.91'),\n",
       " ('Canvas 2: Niji-iro no Sketch', '6.91'),\n",
       " ('Pupipo!', '6.9'),\n",
       " ('Mahoutsukai ni Taisetsu na Koto', '6.87'),\n",
       " ('Boku wa Tomodachi ga Sukunai Episode 0', '6.85'),\n",
       " ('Aiura', '6.84'),\n",
       " ('Stella no Mahou', '6.83'),\n",
       " ('Kyoukai no Kanata: Mini Theater', '6.82'),\n",
       " ('Azumanga Web Daioh', '6.81'),\n",
       " ('Kashimashi: Girl Meets Girl', '6.81'),\n",
       " ('Recorder to Randoseru Mi☆', '6.8'),\n",
       " ('Nichijou: Tanken Nichijou no Machi', '6.79'),\n",
       " ('Tsuyokiss', '6.73'),\n",
       " ('Nekogami Yaoyorozu', '6.73'),\n",
       " ('Ojisan to Marshmallow', '6.7'),\n",
       " ('To Heart', '6.7'),\n",
       " ('Final Approach', '6.69'),\n",
       " ('Wakako-zake', '6.67'),\n",
       " ('Ooyasan wa Shishunki!', '6.66'),\n",
       " ('To Heart 2', '6.65'),\n",
       " ('Danchigai', '6.64'),\n",
       " ('Morita-san wa Mukuchi.', '6.63'),\n",
       " ('Fudanshi Koukou Seikatsu', '6.63'),\n",
       " ('Bakuon!!', '6.61'),\n",
       " ('Miss Monochrome: The Animation 2', '6.61'),\n",
       " ('Oneechan ga Kita Special', '6.6'),\n",
       " ('Miyakawa-ke no Kuufuku', '6.59'),\n",
       " ('Monster Musume no Iru Nichijou: Hobo Mainichi ...', '6.59'),\n",
       " ('Boys Be...', '6.59'),\n",
       " ('Getsuyoubi no Tawawa', '6.56'),\n",
       " ('Binzume Yousei', '6.55'),\n",
       " ('Oneechan ga Kita', '6.54'),\n",
       " ('Demashita! Powerpuff Girls Z', '6.52'),\n",
       " ('HaruChika: Haruta to Chika wa Seishun suru', '6.5'),\n",
       " ('Okusama wa Joshikousei (TV)', '6.45'),\n",
       " ('Chitose Get You!!', '6.39'),\n",
       " ('Bonjour♪Koiaji Pâtisserie', '6.35'),\n",
       " ('Touken Ranbu: Hanamaru', '6.34'),\n",
       " ('Long Riders!', '6.33'),\n",
       " ('Komori-san wa Kotowarenai!', '6.31'),\n",
       " ('SoniAni: Super Sonico The Animation', '6.26'),\n",
       " ('Shounen Hollywood: Holly Stage for 49', '6.15'),\n",
       " ('Strange+', '6.1'),\n",
       " ('Girlfriend (Kari)', '6.03'),\n",
       " ('Battery', '5.92'),\n",
       " ('Choboraunyopomi Gekijou Ai Mai Mii', '5.83'),\n",
       " ('Pan de Peace!', '5.63')]"
      ]
     },
     "execution_count": 93,
     "metadata": {},
     "output_type": "execute_result"
    }
   ],
   "source": [
    "results_name_sorted"
   ]
  },
  {
   "cell_type": "code",
   "execution_count": null,
   "metadata": {
    "collapsed": true
   },
   "outputs": [],
   "source": [
    "anime = pd.read_csv('anime.csv')\n",
    "\n",
    "# SoL_anime = anime[anime['genre'].str.contains('Slice of Life') == True]\n",
    "# SoL_animeids = SoL_anime['anime_id'].tolist()\n",
    "\n",
    "results_name = []\n",
    "for result in results:\n",
    "    anime_id = animes[result]\n",
    "    results_name.append(anime[anime['anime_id'] == anime_id]['name'].to_string(index=False))"
   ]
  },
  {
   "cell_type": "code",
   "execution_count": null,
   "metadata": {
    "collapsed": true
   },
   "outputs": [],
   "source": [
    "results_name[:100]"
   ]
  },
  {
   "cell_type": "code",
   "execution_count": null,
   "metadata": {
    "collapsed": true
   },
   "outputs": [],
   "source": [
    "anime[anime['genre'].str.contains('Slice of Life') == True]"
   ]
  },
  {
   "cell_type": "code",
   "execution_count": null,
   "metadata": {
    "collapsed": true,
    "scrolled": true
   },
   "outputs": [],
   "source": [
    "anime[anime['name'] == 'Kiniro Mosaic']"
   ]
  },
  {
   "cell_type": "code",
   "execution_count": null,
   "metadata": {
    "collapsed": true
   },
   "outputs": [],
   "source": [
    "anime[anime['name'] == 'Koe no Katachi']"
   ]
  },
  {
   "cell_type": "code",
   "execution_count": null,
   "metadata": {
    "collapsed": true,
    "scrolled": true
   },
   "outputs": [],
   "source": [
    "a_b = []\n",
    "for i in range(len(a)):\n",
    "    a_b.append((a[i], b[i]))\n",
    "    \n",
    "sorted(a_b)"
   ]
  },
  {
   "cell_type": "code",
   "execution_count": 132,
   "metadata": {},
   "outputs": [
    {
     "name": "stdout",
     "output_type": "stream",
     "text": [
      "P: 0.0825, R: 0.5789473684210527, F: 0.14442013129102846\n"
     ]
    }
   ],
   "source": [
    "P = sum(precision_numerator) / sum(precision_denominator)\n",
    "R = sum(recall_numerator) / sum(recall_denominator)\n",
    "F = 2/(1/P + 1/R)\n",
    "print('P: {}, R: {}, F: {}'.format(P, R, F))"
   ]
  },
  {
   "cell_type": "code",
   "execution_count": null,
   "metadata": {
    "collapsed": true
   },
   "outputs": [],
   "source": []
  }
 ],
 "metadata": {
  "kernelspec": {
   "display_name": "Python 3",
   "language": "python",
   "name": "python3"
  },
  "language_info": {
   "codemirror_mode": {
    "name": "ipython",
    "version": 3
   },
   "file_extension": ".py",
   "mimetype": "text/x-python",
   "name": "python",
   "nbconvert_exporter": "python",
   "pygments_lexer": "ipython3",
   "version": "3.6.3"
  }
 },
 "nbformat": 4,
 "nbformat_minor": 2
}
