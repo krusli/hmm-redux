{
 "cells": [
  {
   "cell_type": "code",
   "execution_count": 1,
   "metadata": {
    "collapsed": true
   },
   "outputs": [],
   "source": [
    "import numpy as np"
   ]
  },
  {
   "cell_type": "code",
   "execution_count": 2,
   "metadata": {
    "collapsed": true
   },
   "outputs": [],
   "source": [
    "from hmm import HMM"
   ]
  },
  {
   "cell_type": "code",
   "execution_count": 3,
   "metadata": {
    "collapsed": true
   },
   "outputs": [],
   "source": [
    "hmm = HMM(15, 3, 100)"
   ]
  },
  {
   "cell_type": "code",
   "execution_count": 4,
   "metadata": {
    "collapsed": true
   },
   "outputs": [],
   "source": [
    "observation_seqs = [\n",
    "        [[0, 3, 2, 7], [1, 4], [2, 5, 6], [0, 0, 2, 3]],  # user 1, only tech\n",
    "        [[0, 1, 2, 8, 9, 2], [3, 1, 4, 1, 5, 9], [8, 10, 12, 7], [1, 2, 1, 1]], # user 2, mixture of tech and fashion. Heavy user.\n",
    "        [[0, 1], [2], [3], []],  # user 3, light user, mainly tech\n",
    "        [[13], [14], [], [0, 1]],  # user 4, power tools, also browsed tech\n",
    "        [[8, 9, 10], [9, 10, 11], [10, 11, 12], [8, 8, 9]]  # only fashion\n",
    "    ]"
   ]
  },
  {
   "cell_type": "code",
   "execution_count": 5,
   "metadata": {},
   "outputs": [
    {
     "name": "stdout",
     "output_type": "stream",
     "text": [
      "baum_welch\n",
      "expectation\n",
      "[(array([[ 0.,  0.,  0.],\n",
      "       [ 0.,  0.,  0.],\n",
      "       [ 0.,  0.,  0.],\n",
      "       [ 0.,  0.,  0.]]), [1, 0.0, 0.0, 0.0, 0.0], array([[ 0.,  0.,  0.],\n",
      "       [ 0.,  0.,  0.],\n",
      "       [ 0.,  0.,  0.],\n",
      "       [ 1.,  1.,  1.]])), (array([[ 0.,  0.,  0.],\n",
      "       [ 0.,  0.,  0.],\n",
      "       [ 0.,  0.,  0.],\n",
      "       [ 0.,  0.,  0.]]), [1, 0.0, 0.0, 0.0, 0.0], array([[ 0.,  0.,  0.],\n",
      "       [ 0.,  0.,  0.],\n",
      "       [ 0.,  0.,  0.],\n",
      "       [ 1.,  1.,  1.]])), (array([[ 0.,  0.,  0.],\n",
      "       [ 0.,  0.,  0.],\n",
      "       [ 0.,  0.,  0.],\n",
      "       [ 0.,  0.,  0.]]), [1, 0.0, 0.0, 0.0, 0.0], array([[ 0.,  0.,  0.],\n",
      "       [ 0.,  0.,  0.],\n",
      "       [ 0.,  0.,  0.],\n",
      "       [ 1.,  1.,  1.]])), (array([[ 0.,  0.,  0.],\n",
      "       [ 0.,  0.,  0.],\n",
      "       [ 0.,  0.,  0.],\n",
      "       [ 0.,  0.,  0.]]), [1, 0.0, 0.0, 0.0, 0.0], array([[ 0.,  0.,  0.],\n",
      "       [ 0.,  0.,  0.],\n",
      "       [ 0.,  0.,  0.],\n",
      "       [ 1.,  1.,  1.]])), (array([[ 0.,  0.,  0.],\n",
      "       [ 0.,  0.,  0.],\n",
      "       [ 0.,  0.,  0.],\n",
      "       [ 0.,  0.,  0.]]), [1, 0.0, 0.0, 0.0, 0.0], array([[ 0.,  0.,  0.],\n",
      "       [ 0.,  0.,  0.],\n",
      "       [ 0.,  0.,  0.],\n",
      "       [ 1.,  1.,  1.]]))]\n"
     ]
    }
   ],
   "source": [
    "hmm.baum_welch(observation_seqs)"
   ]
  },
  {
   "cell_type": "code",
   "execution_count": 6,
   "metadata": {},
   "outputs": [
    {
     "data": {
      "text/plain": [
       "array([[ 0.00654331,  0.14544637,  0.0521746 ],\n",
       "       [ 0.10219462,  0.09301246,  0.10807258],\n",
       "       [ 0.02572743,  0.05589278,  0.01484466],\n",
       "       [ 0.01597848,  0.05488019,  0.12778832],\n",
       "       [ 0.12561662,  0.06784528,  0.00570606],\n",
       "       [ 0.11464162,  0.16945006,  0.02661309],\n",
       "       [ 0.12890501,  0.04459661,  0.1264564 ],\n",
       "       [ 0.08561186,  0.05000762,  0.08097707],\n",
       "       [ 0.09816142,  0.00503255,  0.10798029],\n",
       "       [ 0.09561216,  0.12566236,  0.01948498],\n",
       "       [ 0.01740489,  0.0430986 ,  0.06941518],\n",
       "       [ 0.05803202,  0.00406865,  0.04970736],\n",
       "       [ 0.08579903,  0.03297951,  0.04858846],\n",
       "       [ 0.01911699,  0.00553889,  0.06355846],\n",
       "       [ 0.02065454,  0.10248805,  0.09863249]])"
      ]
     },
     "execution_count": 6,
     "metadata": {},
     "output_type": "execute_result"
    }
   ],
   "source": [
    "hmm.theta"
   ]
  },
  {
   "cell_type": "code",
   "execution_count": null,
   "metadata": {
    "collapsed": true
   },
   "outputs": [],
   "source": []
  }
 ],
 "metadata": {
  "kernelspec": {
   "display_name": "Python 3",
   "language": "python",
   "name": "python3"
  },
  "language_info": {
   "codemirror_mode": {
    "name": "ipython",
    "version": 3
   },
   "file_extension": ".py",
   "mimetype": "text/x-python",
   "name": "python",
   "nbconvert_exporter": "python",
   "pygments_lexer": "ipython3",
   "version": "3.6.3"
  }
 },
 "nbformat": 4,
 "nbformat_minor": 2
}
