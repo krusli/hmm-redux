{
 "cells": [
  {
   "cell_type": "code",
   "execution_count": 1,
   "metadata": {
    "collapsed": true
   },
   "outputs": [],
   "source": [
    "import numpy as np"
   ]
  },
  {
   "cell_type": "code",
   "execution_count": 2,
   "metadata": {},
   "outputs": [],
   "source": [
    "from hmm import HMM"
   ]
  },
  {
   "cell_type": "code",
   "execution_count": 3,
   "metadata": {},
   "outputs": [],
   "source": [
    "hmm = HMM(15, 3, 100)"
   ]
  },
  {
   "cell_type": "code",
   "execution_count": 4,
   "metadata": {
    "collapsed": true
   },
   "outputs": [],
   "source": [
    "observation_seqs = [\n",
    "    # NOTE cannot have 0 observations\n",
    "    [[0, 3, 2, 7], [1, 4], [2, 5, 6], [0, 0, 2, 3]],  # user 1, only tech\n",
    "    [[0, 1, 2, 8, 9, 2], [3, 1, 4, 1, 5, 9], [8, 10, 12, 7], [1, 2, 1, 1]], # user 2, mixture of tech and fashion. Heavy user.\n",
    "    [[0, 1], [2], [3], [1]],  # user 3, light user, mainly tech\n",
    "    [[13], [14], [1], [0, 1]],  # user 4, power tools, also browsed tech\n",
    "    [[8, 9, 10], [9, 10, 11], [10, 11, 12], [8, 8, 9]]  # only fashion\n",
    "]"
   ]
  },
  {
   "cell_type": "code",
   "execution_count": 5,
   "metadata": {
    "scrolled": false
   },
   "outputs": [
    {
     "name": "stderr",
     "output_type": "stream",
     "text": [
      "100%|██████████| 20/20 [00:01<00:00, 17.32it/s]\n"
     ]
    },
    {
     "data": {
      "text/plain": [
       "[19.184559844491595,\n",
       " 6.6789773627312483,\n",
       " 5.7361510681097894,\n",
       " 5.5206334465030924,\n",
       " 5.3936662566389062,\n",
       " 5.3151215380125922,\n",
       " 5.2663572565323147,\n",
       " 5.235328171171088,\n",
       " 5.214768880173704,\n",
       " 5.2011191506171368,\n",
       " 5.1923700046863352,\n",
       " 5.1872961302323688,\n",
       " 5.1851078824251218,\n",
       " 5.1851956098595027,\n",
       " 5.1870598366863234,\n",
       " 5.1903191976276926,\n",
       " 5.1946813074742426,\n",
       " 5.1999126866936223,\n",
       " 5.2058206157856368,\n",
       " 5.212286418458536]"
      ]
     },
     "execution_count": 5,
     "metadata": {},
     "output_type": "execute_result"
    }
   ],
   "source": [
    "hmm.baum_welch(observation_seqs)"
   ]
  },
  {
   "cell_type": "code",
   "execution_count": 6,
   "metadata": {},
   "outputs": [
    {
     "data": {
      "text/plain": [
       "array([[ 0.07834259,  0.07155085,  0.07125498],\n",
       "       [ 0.10970685,  0.08143539,  0.07290177],\n",
       "       [ 0.08044084,  0.0753002 ,  0.0754871 ],\n",
       "       [ 0.06874826,  0.06804175,  0.06602523],\n",
       "       [ 0.05637629,  0.06471279,  0.06445854],\n",
       "       [ 0.05531084,  0.06589235,  0.06467857],\n",
       "       [ 0.05179497,  0.06118596,  0.06343541],\n",
       "       [ 0.05919712,  0.06177533,  0.06367806],\n",
       "       [ 0.07140756,  0.07106034,  0.07025847],\n",
       "       [ 0.06992759,  0.07268595,  0.07057783],\n",
       "       [ 0.07313966,  0.06423886,  0.06398839],\n",
       "       [ 0.05959136,  0.06151778,  0.06340571],\n",
       "       [ 0.05913362,  0.06201001,  0.06351576],\n",
       "       [ 0.05341244,  0.05932779,  0.06317336],\n",
       "       [ 0.05347002,  0.05926466,  0.06316082]])"
      ]
     },
     "execution_count": 6,
     "metadata": {},
     "output_type": "execute_result"
    }
   ],
   "source": [
    "hmm.theta"
   ]
  },
  {
   "cell_type": "code",
   "execution_count": 7,
   "metadata": {
    "collapsed": true
   },
   "outputs": [],
   "source": [
    "alphas, _ = hmm.forward(hmm.n_states, hmm.a, hmm.b, hmm.theta, hmm.pi, hmm.A, [[0, 3, 2, 7], [1, 4], [2, 5, 6], [0, 0, 2, 3]])"
   ]
  },
  {
   "cell_type": "code",
   "execution_count": 8,
   "metadata": {},
   "outputs": [
    {
     "data": {
      "text/plain": [
       "[1, 2, 0, 8, 9, 10, 3, 11, 12, 7, 4, 5, 14, 13, 6]"
      ]
     },
     "execution_count": 8,
     "metadata": {},
     "output_type": "execute_result"
    }
   ],
   "source": [
    "hmm.item_rank(alphas)"
   ]
  },
  {
   "cell_type": "code",
   "execution_count": 9,
   "metadata": {},
   "outputs": [
    {
     "data": {
      "text/plain": [
       "1.6781114825664394"
      ]
     },
     "execution_count": 9,
     "metadata": {},
     "output_type": "execute_result"
    }
   ],
   "source": [
    "sum(hmm.pi)"
   ]
  },
  {
   "cell_type": "code",
   "execution_count": 10,
   "metadata": {},
   "outputs": [],
   "source": [
    "alpha, scaling, beta = hmm.forward_backward((hmm.n_states, hmm.a, hmm.b, hmm.theta, hmm.pi, hmm.A, observation_seqs[0]))"
   ]
  },
  {
   "cell_type": "code",
   "execution_count": 11,
   "metadata": {
    "scrolled": true
   },
   "outputs": [
    {
     "data": {
      "text/plain": [
       "array([[ 0.392513  ,  0.25896699,  0.34852001],\n",
       "       [ 0.82361876,  0.14637659,  0.03000465],\n",
       "       [ 0.62756956,  0.28240578,  0.09002466],\n",
       "       [ 0.58574943,  0.29376551,  0.12048505]])"
      ]
     },
     "execution_count": 11,
     "metadata": {},
     "output_type": "execute_result"
    }
   ],
   "source": [
    "alpha"
   ]
  },
  {
   "cell_type": "code",
   "execution_count": 12,
   "metadata": {},
   "outputs": [
    {
     "data": {
      "text/plain": [
       "array([[ 2.48905628,  0.41464791,  0.08464587],\n",
       "       [ 1.77160178,  0.85461073,  0.27365063],\n",
       "       [ 1.66510116,  0.90853296,  0.37458281],\n",
       "       [ 1.        ,  1.        ,  1.        ]])"
      ]
     },
     "execution_count": 12,
     "metadata": {},
     "output_type": "execute_result"
    }
   ],
   "source": [
    "beta"
   ]
  },
  {
   "cell_type": "code",
   "execution_count": 13,
   "metadata": {},
   "outputs": [
    {
     "data": {
      "text/plain": [
       "array([[ 0.97698696,  0.10738012,  0.02950078],\n",
       "       [ 1.45912447,  0.125095  ,  0.00821079],\n",
       "       [ 1.04496681,  0.25657496,  0.03372169],\n",
       "       [ 0.58574943,  0.29376551,  0.12048505]])"
      ]
     },
     "execution_count": 13,
     "metadata": {},
     "output_type": "execute_result"
    }
   ],
   "source": [
    "alpha * beta"
   ]
  },
  {
   "cell_type": "code",
   "execution_count": 14,
   "metadata": {},
   "outputs": [
    {
     "data": {
      "text/plain": [
       "array([[ 0.87711208,  0.09640293,  0.02648499],\n",
       "       [ 0.91628783,  0.07855603,  0.00515614],\n",
       "       [ 0.78259223,  0.19215306,  0.02525471],\n",
       "       [ 0.58574943,  0.29376551,  0.12048505]])"
      ]
     },
     "execution_count": 14,
     "metadata": {},
     "output_type": "execute_result"
    }
   ],
   "source": [
    "hmm.gamma((alpha, beta))"
   ]
  },
  {
   "cell_type": "code",
   "execution_count": 15,
   "metadata": {},
   "outputs": [
    {
     "data": {
      "text/plain": [
       "1.0"
      ]
     },
     "execution_count": 15,
     "metadata": {},
     "output_type": "execute_result"
    }
   ],
   "source": [
    "np.transpose(hmm.theta)[1].sum()"
   ]
  },
  {
   "cell_type": "code",
   "execution_count": 20,
   "metadata": {
    "collapsed": true
   },
   "outputs": [],
   "source": [
    "def build_thingy(x):\n",
    "    def function():\n",
    "        return x\n",
    "    return function"
   ]
  },
  {
   "cell_type": "code",
   "execution_count": 21,
   "metadata": {
    "collapsed": true
   },
   "outputs": [],
   "source": [
    "a = build_thingy(1)"
   ]
  },
  {
   "cell_type": "code",
   "execution_count": 22,
   "metadata": {
    "collapsed": true
   },
   "outputs": [],
   "source": [
    "b = build_thingy(2)"
   ]
  },
  {
   "cell_type": "code",
   "execution_count": 23,
   "metadata": {},
   "outputs": [
    {
     "data": {
      "text/plain": [
       "1"
      ]
     },
     "execution_count": 23,
     "metadata": {},
     "output_type": "execute_result"
    }
   ],
   "source": [
    "a()"
   ]
  },
  {
   "cell_type": "code",
   "execution_count": 25,
   "metadata": {},
   "outputs": [
    {
     "data": {
      "text/plain": [
       "2"
      ]
     },
     "execution_count": 25,
     "metadata": {},
     "output_type": "execute_result"
    }
   ],
   "source": [
    "b()"
   ]
  },
  {
   "cell_type": "code",
   "execution_count": 26,
   "metadata": {
    "collapsed": true
   },
   "outputs": [],
   "source": [
    "from tempfile import TemporaryFile"
   ]
  },
  {
   "cell_type": "code",
   "execution_count": 35,
   "metadata": {},
   "outputs": [],
   "source": [
    "# self.theta = np.zeros(shape=(n_states, n_items))\n",
    "with open('params.npz', 'wb') as f:\n",
    "    np.savez(f, pi=hmm.pi, A=hmm.A, a=hmm.a, b=hmm.b, theta=hmm.theta)"
   ]
  },
  {
   "cell_type": "code",
   "execution_count": 36,
   "metadata": {
    "collapsed": true
   },
   "outputs": [],
   "source": [
    "file = np.load('params.npz')"
   ]
  },
  {
   "cell_type": "code",
   "execution_count": 41,
   "metadata": {
    "collapsed": true
   },
   "outputs": [],
   "source": [
    "pi = file['pi']\n",
    "A = file['A']\n",
    "a = file['a']\n",
    "b = file['b']\n",
    "theta = file['theta']"
   ]
  },
  {
   "cell_type": "code",
   "execution_count": 42,
   "metadata": {},
   "outputs": [
    {
     "data": {
      "text/plain": [
       "array([ 0.35510356,  0.32300792,  1.        ])"
      ]
     },
     "execution_count": 42,
     "metadata": {},
     "output_type": "execute_result"
    }
   ],
   "source": [
    "pi"
   ]
  },
  {
   "cell_type": "code",
   "execution_count": 43,
   "metadata": {},
   "outputs": [
    {
     "data": {
      "text/plain": [
       "array([ 0.35510356,  0.32300792,  1.        ])"
      ]
     },
     "execution_count": 43,
     "metadata": {},
     "output_type": "execute_result"
    }
   ],
   "source": [
    "hmm.pi"
   ]
  },
  {
   "cell_type": "code",
   "execution_count": null,
   "metadata": {
    "collapsed": true
   },
   "outputs": [],
   "source": []
  }
 ],
 "metadata": {
  "kernelspec": {
   "display_name": "Python 3",
   "language": "python",
   "name": "python3"
  },
  "language_info": {
   "codemirror_mode": {
    "name": "ipython",
    "version": 3
   },
   "file_extension": ".py",
   "mimetype": "text/x-python",
   "name": "python",
   "nbconvert_exporter": "python",
   "pygments_lexer": "ipython3",
   "version": "3.6.3"
  }
 },
 "nbformat": 4,
 "nbformat_minor": 2
}
