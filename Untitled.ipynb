{
 "cells": [
  {
   "cell_type": "code",
   "execution_count": 7,
   "metadata": {
    "collapsed": true
   },
   "outputs": [],
   "source": [
    "import numpy as np"
   ]
  },
  {
   "cell_type": "code",
   "execution_count": 8,
   "metadata": {
    "collapsed": true
   },
   "outputs": [],
   "source": [
    "from hmm import HMM"
   ]
  },
  {
   "cell_type": "code",
   "execution_count": 9,
   "metadata": {
    "collapsed": true
   },
   "outputs": [],
   "source": [
    "hmm = HMM(15, 3, 100)"
   ]
  },
  {
   "cell_type": "code",
   "execution_count": 10,
   "metadata": {
    "collapsed": true
   },
   "outputs": [],
   "source": [
    "observation_seqs = [\n",
    "    [[0, 3, 2, 7], [1, 4], [2, 5, 6], [0, 0, 2, 3]],  # user 1, only tech\n",
    "    [[0, 1, 2, 8, 9, 2], [3, 1, 4, 1, 5, 9], [8, 10, 12, 7], [1, 2, 1, 1]], # user 2, mixture of tech and fashion. Heavy user.\n",
    "    [[0, 1], [2], [3], []],  # user 3, light user, mainly tech\n",
    "    [[13], [14], [], [0, 1]],  # user 4, power tools, also browsed tech\n",
    "    [[8, 9, 10], [9, 10, 11], [10, 11, 12], [8, 8, 9]]  # only fashion\n",
    "]"
   ]
  },
  {
   "cell_type": "code",
   "execution_count": 11,
   "metadata": {
    "scrolled": false
   },
   "outputs": [
    {
     "name": "stdout",
     "output_type": "stream",
     "text": [
      "Iteration 1\n",
      "delta: 1.5092225455187915\n",
      "Iteration 2\n",
      "delta: 0.1578542863672308\n",
      "Iteration 3\n",
      "delta: 0.13343263383440776\n",
      "Iteration 4\n",
      "delta: 0.10671790414760478\n",
      "Iteration 5\n",
      "delta: 0.0678089261163608\n",
      "Iteration 6\n",
      "delta: 0.03767408411003153\n",
      "Iteration 7\n",
      "delta: 0.021286106835776426\n",
      "Iteration 8\n",
      "delta: 0.012630347428985368\n",
      "Iteration 9\n",
      "delta: 0.00820720228728896\n",
      "Iteration 10\n",
      "delta: 0.006196170234926711\n",
      "Iteration 11\n",
      "delta: 0.004731795239285422\n",
      "Iteration 12\n",
      "delta: 0.003599681314247094\n",
      "Iteration 13\n",
      "delta: 0.002739054993117815\n",
      "Iteration 14\n",
      "delta: 0.002087294974053737\n",
      "Iteration 15\n",
      "delta: 0.0015938517933464166\n",
      "Iteration 16\n",
      "delta: 0.0012195003023278\n",
      "Iteration 17\n",
      "delta: 0.000934720341262199\n"
     ]
    }
   ],
   "source": [
    "hmm.baum_welch(observation_seqs)"
   ]
  },
  {
   "cell_type": "code",
   "execution_count": null,
   "metadata": {
    "collapsed": true
   },
   "outputs": [],
   "source": []
  }
 ],
 "metadata": {
  "kernelspec": {
   "display_name": "Python 3",
   "language": "python",
   "name": "python3"
  },
  "language_info": {
   "codemirror_mode": {
    "name": "ipython",
    "version": 3
   },
   "file_extension": ".py",
   "mimetype": "text/x-python",
   "name": "python",
   "nbconvert_exporter": "python",
   "pygments_lexer": "ipython3",
   "version": "3.6.3"
  }
 },
 "nbformat": 4,
 "nbformat_minor": 2
}
