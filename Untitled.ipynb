{
 "cells": [
  {
   "cell_type": "code",
   "execution_count": 1,
   "metadata": {
    "collapsed": true
   },
   "outputs": [],
   "source": [
    "import numpy as np"
   ]
  },
  {
   "cell_type": "code",
   "execution_count": 2,
   "metadata": {
    "collapsed": true
   },
   "outputs": [],
   "source": [
    "from hmm import HMM"
   ]
  },
  {
   "cell_type": "code",
   "execution_count": 3,
   "metadata": {
    "collapsed": true
   },
   "outputs": [],
   "source": [
    "hmm = HMM(15, 3, 100)"
   ]
  },
  {
   "cell_type": "code",
   "execution_count": 4,
   "metadata": {
    "collapsed": true
   },
   "outputs": [],
   "source": [
    "observation_seqs = [\n",
    "    [[0, 3, 2, 7], [1, 4], [2, 5, 6], [0, 0, 2, 3]],  # user 1, only tech\n",
    "#     [[0, 1, 2, 8, 9, 2], [3, 1, 4, 1, 5, 9], [8, 10, 12, 7], [1, 2, 1, 1]], # user 2, mixture of tech and fashion. Heavy user.\n",
    "#     [[0, 1], [2], [3], []],  # user 3, light user, mainly tech\n",
    "#     [[13], [14], [], [0, 1]],  # user 4, power tools, also browsed tech\n",
    "#     [[8, 9, 10], [9, 10, 11], [10, 11, 12], [8, 8, 9]]  # only fashion\n",
    "]"
   ]
  },
  {
   "cell_type": "code",
   "execution_count": 5,
   "metadata": {
    "scrolled": false
   },
   "outputs": [
    {
     "name": "stdout",
     "output_type": "stream",
     "text": [
      "Iteration 1\n",
      "alphas\n",
      "[array([[  2.36053626e-04,   7.89721047e-01,   2.10042899e-01],\n",
      "       [  2.64549554e-04,   4.15782595e-01,   5.83952855e-01],\n",
      "       [  1.67210859e-04,   6.23207511e-01,   3.76625278e-01],\n",
      "       [  1.57173162e-04,   8.22577737e-01,   1.77265089e-01]])]\n",
      "\n",
      "betas\n",
      "[array([[  7.20094017e-04,   1.30165358e+00,   1.67380972e+00],\n",
      "       [  5.96000085e-04,   1.68629518e+00,   1.20900295e+00],\n",
      "       [  4.35876958e-04,   2.59771636e+00,   5.47374684e-01],\n",
      "       [  1.00000000e+00,   1.00000000e+00,   1.00000000e+00]])]\n",
      "\n",
      "a\n",
      "array([  7.93183262,  17.91774707,   5.39163103])\n",
      "\n",
      "b\n",
      "array([ 7.64881151,  0.65569456,  3.38275206])\n",
      "\n",
      "theta\n",
      "array([[ 0.06284852,  0.08465026,  0.06838351],\n",
      "       [ 0.07065657,  0.05051741,  0.06356351],\n",
      "       [ 0.07070856,  0.07482099,  0.05913393],\n",
      "       [ 0.07959405,  0.09625655,  0.06849369],\n",
      "       [ 0.09496191,  0.07973208,  0.07981623],\n",
      "       [ 0.06727028,  0.05390039,  0.05646584],\n",
      "       [ 0.05031757,  0.0731963 ,  0.07734913],\n",
      "       [ 0.07367525,  0.06184806,  0.06656029],\n",
      "       [ 0.06458163,  0.05613078,  0.06196651],\n",
      "       [ 0.05632718,  0.06736868,  0.05505748],\n",
      "       [ 0.04040232,  0.06681893,  0.06844692],\n",
      "       [ 0.08064811,  0.0447012 ,  0.05588969],\n",
      "       [ 0.06977798,  0.05842514,  0.06933423],\n",
      "       [ 0.04786307,  0.06164704,  0.08953917],\n",
      "       [ 0.070367  ,  0.06998618,  0.05999986]])\n",
      "\n",
      "pi\n",
      "array([ 0.35654868,  0.34656682,  0.2968845 ])\n",
      "\n",
      "A\n",
      "array([[ 0.30035601,  0.35826325,  0.34138074],\n",
      "       [ 0.3946966 ,  0.28920893,  0.31609447],\n",
      "       [ 0.28696503,  0.4123267 ,  0.30070827]])\n",
      "\n",
      "gammas\n",
      "[array([[  1.69980804e-07,   1.02794323e+00,   3.51571847e-01],\n",
      "       [  1.57671557e-07,   7.01132184e-01,   7.06000723e-01],\n",
      "       [  7.28833607e-08,   1.61891635e+00,   2.06155143e-01],\n",
      "       [  1.57173162e-04,   8.22577737e-01,   1.77265089e-01]])]\n",
      "\n",
      "'xis'\n",
      "[array([[[  3.00471737e-11,   1.88184899e-04,   1.81841395e-04],\n",
      "        [  1.32097234e-07,   5.08226435e-01,   5.63292110e-01],\n",
      "        [  2.55442761e-08,   1.92717564e-01,   1.42526771e-01]],\n",
      "\n",
      "       [[  1.74560425e-11,   4.24892973e-04,   6.06229814e-05],\n",
      "        [  3.60522288e-08,   5.39073847e-01,   8.82215005e-02],\n",
      "        [  3.68136758e-08,   1.07941761e+00,   1.17873019e-01]],\n",
      "\n",
      "       [[  2.22918150e-08,   1.46836834e-04,   3.26091532e-05],\n",
      "        [  1.09179396e-04,   4.41786718e-01,   1.12534478e-01],\n",
      "        [  4.79714736e-05,   3.80644182e-01,   6.46980026e-02]]])]\n",
      "\n",
      "delta: 11.753107580311246\n",
      "Iteration 2\n",
      "alphas\n",
      "[array([[ nan,  nan,  nan],\n",
      "       [ nan,  nan,  nan],\n",
      "       [ nan,  nan,  nan],\n",
      "       [ nan,  nan,  nan]])]\n",
      "\n",
      "betas\n",
      "[array([[ nan,  nan,  nan],\n",
      "       [ nan,  nan,  nan],\n",
      "       [ nan,  nan,  nan],\n",
      "       [  1.,   1.,   1.]])]\n",
      "\n",
      "a\n",
      "array([  7.93183262,  17.91774707,   5.39163103])\n",
      "\n",
      "b\n",
      "array([ 7.64881151,  0.65569456,  3.38275206])\n",
      "\n",
      "theta\n",
      "array([[ 0.33333441,  0.3163391 ,  0.32665153],\n",
      "       [ 0.33333117,  0.29851923,  0.32665053],\n",
      "       [ 0.33333279,  0.32353529,  0.32693716],\n",
      "       [ 0.33333279,  0.3089058 ,  0.32489896],\n",
      "       [ 0.33333117,  0.29851923,  0.32665053],\n",
      "       [ 0.33333117,  0.30681288,  0.3217087 ],\n",
      "       [ 0.33333117,  0.30681288,  0.3217087 ],\n",
      "       [ 0.33333117,  0.30147249,  0.32314639],\n",
      "       [ 0.33333117,  0.29218338,  0.3196705 ],\n",
      "       [ 0.33333117,  0.29218338,  0.3196705 ],\n",
      "       [ 0.33333117,  0.29218338,  0.3196705 ],\n",
      "       [ 0.33333117,  0.29218338,  0.3196705 ],\n",
      "       [ 0.33333117,  0.29218338,  0.3196705 ],\n",
      "       [ 0.33333117,  0.29218338,  0.3196705 ],\n",
      "       [ 0.33333117,  0.29218338,  0.3196705 ]])\n",
      "\n",
      "pi\n",
      "array([ 0.32865921,  0.33910796,  0.33223283])\n",
      "\n",
      "A\n",
      "array([[ 0.33333333,  0.33334117,  0.33333617],\n",
      "       [ 0.32221315,  0.33705129,  0.32982605],\n",
      "       [ 0.32904696,  0.34586631,  0.3323549 ]])\n",
      "\n",
      "gammas\n",
      "[array([[ nan,  nan,  nan],\n",
      "       [ nan,  nan,  nan],\n",
      "       [ nan,  nan,  nan],\n",
      "       [ nan,  nan,  nan]])]\n",
      "\n",
      "'xis'\n",
      "[array([[[ nan,  nan,  nan],\n",
      "        [ nan,  nan,  nan],\n",
      "        [ nan,  nan,  nan]],\n",
      "\n",
      "       [[ nan,  nan,  nan],\n",
      "        [ nan,  nan,  nan],\n",
      "        [ nan,  nan,  nan]],\n",
      "\n",
      "       [[ nan,  nan,  nan],\n",
      "        [ nan,  nan,  nan],\n",
      "        [ nan,  nan,  nan]]])]\n",
      "\n"
     ]
    },
    {
     "ename": "AssertionError",
     "evalue": "",
     "output_type": "error",
     "traceback": [
      "\u001b[0;31m---------------------------------------------------------------------------\u001b[0m",
      "\u001b[0;31mAssertionError\u001b[0m                            Traceback (most recent call last)",
      "\u001b[0;32m<ipython-input-5-2e2aa75b5ee5>\u001b[0m in \u001b[0;36m<module>\u001b[0;34m()\u001b[0m\n\u001b[0;32m----> 1\u001b[0;31m \u001b[0mhmm\u001b[0m\u001b[0;34m.\u001b[0m\u001b[0mbaum_welch\u001b[0m\u001b[0;34m(\u001b[0m\u001b[0mobservation_seqs\u001b[0m\u001b[0;34m)\u001b[0m\u001b[0;34m\u001b[0m\u001b[0m\n\u001b[0m",
      "\u001b[0;32m~/Desktop/hmm-redux/hmm.py\u001b[0m in \u001b[0;36mbaum_welch\u001b[0;34m(self, observation_seqs, n_iterations)\u001b[0m\n\u001b[1;32m    297\u001b[0m \u001b[0;34m\u001b[0m\u001b[0m\n\u001b[1;32m    298\u001b[0m             \u001b[0;31m# updates parameters (maximises likelihood)\u001b[0m\u001b[0;34m\u001b[0m\u001b[0;34m\u001b[0m\u001b[0m\n\u001b[0;32m--> 299\u001b[0;31m             \u001b[0mdelta\u001b[0m \u001b[0;34m=\u001b[0m \u001b[0mself\u001b[0m\u001b[0;34m.\u001b[0m\u001b[0mmaximisation\u001b[0m\u001b[0;34m(\u001b[0m\u001b[0mgammas\u001b[0m\u001b[0;34m,\u001b[0m \u001b[0mxis\u001b[0m\u001b[0;34m,\u001b[0m \u001b[0mn_users\u001b[0m\u001b[0;34m,\u001b[0m \u001b[0mT\u001b[0m\u001b[0;34m,\u001b[0m \u001b[0mobservation_counts\u001b[0m\u001b[0;34m,\u001b[0m \u001b[0mtotal_counts\u001b[0m\u001b[0;34m,\u001b[0m \u001b[0mobservation_seqs\u001b[0m\u001b[0;34m)\u001b[0m\u001b[0;34m\u001b[0m\u001b[0m\n\u001b[0m\u001b[1;32m    300\u001b[0m \u001b[0;34m\u001b[0m\u001b[0m\n\u001b[1;32m    301\u001b[0m             \u001b[0mprint\u001b[0m\u001b[0;34m(\u001b[0m\u001b[0;34m'delta: {}'\u001b[0m\u001b[0;34m.\u001b[0m\u001b[0mformat\u001b[0m\u001b[0;34m(\u001b[0m\u001b[0mdelta\u001b[0m\u001b[0;34m)\u001b[0m\u001b[0;34m)\u001b[0m\u001b[0;34m\u001b[0m\u001b[0m\n",
      "\u001b[0;32m~/Desktop/hmm-redux/hmm.py\u001b[0m in \u001b[0;36mmaximisation\u001b[0;34m(self, gammas, xis, n_users, T, observation_counts, total_counts, observation_seqs)\u001b[0m\n\u001b[1;32m    423\u001b[0m                 \u001b[0mparams\u001b[0m\u001b[0;34m.\u001b[0m\u001b[0mappend\u001b[0m\u001b[0;34m(\u001b[0m\u001b[0;34m(\u001b[0m\u001b[0mi\u001b[0m\u001b[0;34m,\u001b[0m \u001b[0mk\u001b[0m\u001b[0;34m,\u001b[0m \u001b[0mgammas\u001b[0m\u001b[0;34m,\u001b[0m \u001b[0mobservation_counts\u001b[0m\u001b[0;34m,\u001b[0m \u001b[0mtotal_counts\u001b[0m\u001b[0;34m,\u001b[0m \u001b[0mself\u001b[0m\u001b[0;34m.\u001b[0m\u001b[0mALPHA\u001b[0m\u001b[0;34m,\u001b[0m \u001b[0mself\u001b[0m\u001b[0;34m.\u001b[0m\u001b[0mn_states\u001b[0m\u001b[0;34m,\u001b[0m \u001b[0mT\u001b[0m\u001b[0;34m)\u001b[0m\u001b[0;34m)\u001b[0m\u001b[0;34m\u001b[0m\u001b[0m\n\u001b[1;32m    424\u001b[0m         \u001b[0mresults\u001b[0m \u001b[0;34m=\u001b[0m \u001b[0mmap\u001b[0m\u001b[0;34m(\u001b[0m\u001b[0mHMM\u001b[0m\u001b[0;34m.\u001b[0m\u001b[0mmaximise_theta\u001b[0m\u001b[0;34m,\u001b[0m \u001b[0mparams\u001b[0m\u001b[0;34m)\u001b[0m\u001b[0;34m\u001b[0m\u001b[0m\n\u001b[0;32m--> 425\u001b[0;31m         \u001b[0;32mfor\u001b[0m \u001b[0mi\u001b[0m\u001b[0;34m,\u001b[0m \u001b[0mk\u001b[0m\u001b[0;34m,\u001b[0m \u001b[0mtheta_ik\u001b[0m \u001b[0;32min\u001b[0m \u001b[0mresults\u001b[0m\u001b[0;34m:\u001b[0m\u001b[0;34m\u001b[0m\u001b[0m\n\u001b[0m\u001b[1;32m    426\u001b[0m             \u001b[0mtheta\u001b[0m\u001b[0;34m[\u001b[0m\u001b[0mi\u001b[0m\u001b[0;34m]\u001b[0m\u001b[0;34m[\u001b[0m\u001b[0mk\u001b[0m\u001b[0;34m]\u001b[0m \u001b[0;34m=\u001b[0m \u001b[0mtheta_ik\u001b[0m\u001b[0;34m\u001b[0m\u001b[0m\n\u001b[1;32m    427\u001b[0m \u001b[0;34m\u001b[0m\u001b[0m\n",
      "\u001b[0;32m~/Desktop/hmm-redux/hmm.py\u001b[0m in \u001b[0;36mmaximise_theta\u001b[0;34m(params)\u001b[0m\n\u001b[1;32m    199\u001b[0m         \u001b[0mdenominator\u001b[0m \u001b[0;34m+=\u001b[0m \u001b[0malpha\u001b[0m \u001b[0;34m-\u001b[0m \u001b[0mn_states\u001b[0m\u001b[0;34m\u001b[0m\u001b[0m\n\u001b[1;32m    200\u001b[0m \u001b[0;34m\u001b[0m\u001b[0m\n\u001b[0;32m--> 201\u001b[0;31m         \u001b[0;32massert\u001b[0m \u001b[0;34m(\u001b[0m\u001b[0mnumerator\u001b[0m \u001b[0;34m/\u001b[0m \u001b[0mdenominator\u001b[0m \u001b[0;34m>=\u001b[0m \u001b[0;36m0\u001b[0m\u001b[0;34m)\u001b[0m\u001b[0;34m\u001b[0m\u001b[0m\n\u001b[0m\u001b[1;32m    202\u001b[0m         \u001b[0mtheta_ik\u001b[0m \u001b[0;34m=\u001b[0m \u001b[0mnumerator\u001b[0m \u001b[0;34m/\u001b[0m \u001b[0mdenominator\u001b[0m\u001b[0;34m\u001b[0m\u001b[0m\n\u001b[1;32m    203\u001b[0m \u001b[0;34m\u001b[0m\u001b[0m\n",
      "\u001b[0;31mAssertionError\u001b[0m: "
     ]
    }
   ],
   "source": [
    "hmm.baum_welch(observation_seqs)"
   ]
  },
  {
   "cell_type": "code",
   "execution_count": 6,
   "metadata": {},
   "outputs": [
    {
     "data": {
      "text/plain": [
       "array([-1, -4, -9])"
      ]
     },
     "execution_count": 6,
     "metadata": {},
     "output_type": "execute_result"
    }
   ],
   "source": [
    "np.array([1, 2, 3]) * np.array([-1, -2, -3])"
   ]
  },
  {
   "cell_type": "code",
   "execution_count": null,
   "metadata": {
    "collapsed": true
   },
   "outputs": [],
   "source": []
  }
 ],
 "metadata": {
  "kernelspec": {
   "display_name": "Python 3",
   "language": "python",
   "name": "python3"
  },
  "language_info": {
   "codemirror_mode": {
    "name": "ipython",
    "version": 3
   },
   "file_extension": ".py",
   "mimetype": "text/x-python",
   "name": "python",
   "nbconvert_exporter": "python",
   "pygments_lexer": "ipython3",
   "version": "3.6.3"
  }
 },
 "nbformat": 4,
 "nbformat_minor": 2
}
