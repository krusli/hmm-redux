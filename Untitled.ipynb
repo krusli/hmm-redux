{
 "cells": [
  {
   "cell_type": "code",
   "execution_count": 1,
   "metadata": {
    "collapsed": true
   },
   "outputs": [],
   "source": [
    "import numpy as np"
   ]
  },
  {
   "cell_type": "code",
   "execution_count": 2,
   "metadata": {
    "collapsed": true
   },
   "outputs": [],
   "source": [
    "from hmm import HMM"
   ]
  },
  {
   "cell_type": "code",
   "execution_count": 3,
   "metadata": {
    "collapsed": true
   },
   "outputs": [],
   "source": [
    "hmm = HMM(15, 3, 100)"
   ]
  },
  {
   "cell_type": "code",
   "execution_count": 4,
   "metadata": {
    "collapsed": true
   },
   "outputs": [],
   "source": [
    "observation_seqs = [\n",
    "    [[0, 3, 2, 7], [1, 4], [2, 5, 6], [0, 0, 2, 3]],  # user 1, only tech\n",
    "    [[0, 1, 2, 8, 9, 2], [3, 1, 4, 1, 5, 9], [8, 10, 12, 7], [1, 2, 1, 1]], # user 2, mixture of tech and fashion. Heavy user.\n",
    "    [[0, 1], [2], [3], []],  # user 3, light user, mainly tech\n",
    "    [[13], [14], [], [0, 1]],  # user 4, power tools, also browsed tech\n",
    "    [[8, 9, 10], [9, 10, 11], [10, 11, 12], [8, 8, 9]]  # only fashion\n",
    "]"
   ]
  },
  {
   "cell_type": "code",
   "execution_count": 5,
   "metadata": {
    "scrolled": false
   },
   "outputs": [
    {
     "name": "stdout",
     "output_type": "stream",
     "text": [
      "Iteration 1\n",
      "delta: 1.4639819820984872\n",
      "Iteration 2\n",
      "delta: 0.2551810183981816\n",
      "Iteration 3\n",
      "delta: 0.07052933941450405\n",
      "Iteration 4\n",
      "delta: 0.018126591853589877\n",
      "Iteration 5\n",
      "delta: 0.005536582257005478\n",
      "Iteration 6\n",
      "delta: 0.0024403058147875883\n",
      "Iteration 7\n",
      "delta: 0.0013173972068621573\n",
      "Iteration 8\n",
      "delta: 0.0007579973913819163\n"
     ]
    }
   ],
   "source": [
    "hmm.baum_welch(observation_seqs)"
   ]
  },
  {
   "cell_type": "code",
   "execution_count": 6,
   "metadata": {},
   "outputs": [
    {
     "data": {
      "text/plain": [
       "array([[ 0.08361925,  0.06901072,  0.06881086],\n",
       "       [ 0.11306643,  0.06899037,  0.06877103],\n",
       "       [ 0.10222651,  0.06863669,  0.06789849],\n",
       "       [ 0.06536174,  0.0695014 ,  0.06771186],\n",
       "       [ 0.05523203,  0.06469585,  0.06542382],\n",
       "       [ 0.05706228,  0.06409528,  0.06507009],\n",
       "       [ 0.0451083 ,  0.06388964,  0.06482339],\n",
       "       [ 0.05735838,  0.06415472,  0.06500703],\n",
       "       [ 0.08234945,  0.06688677,  0.06759126],\n",
       "       [ 0.08424894,  0.06691297,  0.06755127],\n",
       "       [ 0.07242599,  0.0664165 ,  0.06696019],\n",
       "       [ 0.05077451,  0.06550669,  0.06617372],\n",
       "       [ 0.0559899 ,  0.06436983,  0.06524271],\n",
       "       [ 0.03747315,  0.06847144,  0.06663439],\n",
       "       [ 0.03770314,  0.06846114,  0.06632991]])"
      ]
     },
     "execution_count": 6,
     "metadata": {},
     "output_type": "execute_result"
    }
   ],
   "source": [
    "hmm.theta"
   ]
  },
  {
   "cell_type": "code",
   "execution_count": 7,
   "metadata": {
    "collapsed": true
   },
   "outputs": [],
   "source": [
    "alphas, _ = hmm.forward(hmm.n_states, hmm.a, hmm.b, hmm.theta, hmm.pi, hmm.A, [[0, 3, 2, 7], [1, 4], [2, 5, 6], [0, 0, 2, 3]])"
   ]
  },
  {
   "cell_type": "code",
   "execution_count": 8,
   "metadata": {},
   "outputs": [
    {
     "data": {
      "text/plain": [
       "[1, 2, 9, 0, 8, 10, 3, 7, 5, 12, 4, 11, 6, 14, 13]"
      ]
     },
     "execution_count": 8,
     "metadata": {},
     "output_type": "execute_result"
    }
   ],
   "source": [
    "hmm.item_rank(alphas)"
   ]
  },
  {
   "cell_type": "code",
   "execution_count": null,
   "metadata": {
    "collapsed": true
   },
   "outputs": [],
   "source": []
  }
 ],
 "metadata": {
  "kernelspec": {
   "display_name": "Python 3",
   "language": "python",
   "name": "python3"
  },
  "language_info": {
   "codemirror_mode": {
    "name": "ipython",
    "version": 3
   },
   "file_extension": ".py",
   "mimetype": "text/x-python",
   "name": "python",
   "nbconvert_exporter": "python",
   "pygments_lexer": "ipython3",
   "version": "3.6.3"
  }
 },
 "nbformat": 4,
 "nbformat_minor": 2
}
