{
 "cells": [
  {
   "cell_type": "code",
   "execution_count": 1,
   "metadata": {
    "collapsed": true
   },
   "outputs": [],
   "source": [
    "import numpy as np"
   ]
  },
  {
   "cell_type": "code",
   "execution_count": 2,
   "metadata": {
    "collapsed": true
   },
   "outputs": [],
   "source": [
    "from hmm import HMM"
   ]
  },
  {
   "cell_type": "code",
   "execution_count": 3,
   "metadata": {
    "collapsed": true
   },
   "outputs": [],
   "source": [
    "hmm = HMM(15, 3, 100)"
   ]
  },
  {
   "cell_type": "code",
   "execution_count": 4,
   "metadata": {
    "collapsed": true
   },
   "outputs": [],
   "source": [
    "observation_seqs = [\n",
    "        [[0, 3, 2, 7], [1, 4], [2, 5, 6], [0, 0, 2, 3]],  # user 1, only tech\n",
    "        [[0, 1, 2, 8, 9, 2], [3, 1, 4, 1, 5, 9], [8, 10, 12, 7], [1, 2, 1, 1]], # user 2, mixture of tech and fashion. Heavy user.\n",
    "        [[0, 1], [2], [3], []],  # user 3, light user, mainly tech\n",
    "        [[13], [14], [], [0, 1]],  # user 4, power tools, also browsed tech\n",
    "        [[8, 9, 10], [9, 10, 11], [10, 11, 12], [8, 8, 9]]  # only fashion\n",
    "    ]"
   ]
  },
  {
   "cell_type": "code",
   "execution_count": 5,
   "metadata": {},
   "outputs": [
    {
     "name": "stdout",
     "output_type": "stream",
     "text": [
      "Alphas\n",
      "array([[  2.86031737e-01,   7.13968263e-01,   8.05805968e-16],\n",
      "       [  4.69588566e-02,   9.53041143e-01,   5.10113897e-18],\n",
      "       [  1.25711549e-03,   9.98742885e-01,   2.71950328e-18],\n",
      "       [  1.01933526e-02,   9.89806647e-01,   3.68181702e-17]])\n",
      "\n",
      "Scaling factors\n",
      "[1,\n",
      " 6.2258103652873634e-11,\n",
      " 4.454945594646823e-08,\n",
      " 5.1052981367444227e-08,\n",
      " 1.2569406607966827e-09]\n",
      "\n",
      "Betas\n",
      "array([[  1.36891744e-01,   2.70670270e+00,   1.40899568e-17],\n",
      "       [  3.57944521e-03,   2.83436094e+00,   7.68992682e-18],\n",
      "       [  2.94720252e-02,   2.80818333e+00,   1.20458515e-16],\n",
      "       [  1.00000000e+00,   1.00000000e+00,   1.00000000e+00]])\n"
     ]
    }
   ],
   "source": [
    "hmm.baum_welch(observation_seqs)"
   ]
  },
  {
   "cell_type": "code",
   "execution_count": null,
   "metadata": {
    "collapsed": true
   },
   "outputs": [],
   "source": []
  }
 ],
 "metadata": {
  "kernelspec": {
   "display_name": "Python 3",
   "language": "python",
   "name": "python3"
  },
  "language_info": {
   "codemirror_mode": {
    "name": "ipython",
    "version": 3
   },
   "file_extension": ".py",
   "mimetype": "text/x-python",
   "name": "python",
   "nbconvert_exporter": "python",
   "pygments_lexer": "ipython3",
   "version": "3.6.3"
  }
 },
 "nbformat": 4,
 "nbformat_minor": 2
}
